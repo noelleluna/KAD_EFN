{
 "cells": [
  {
   "cell_type": "code",
   "execution_count": 1,
   "metadata": {
    "collapsed": true
   },
   "outputs": [],
   "source": [
    "import requests\n",
    "import urllib\n",
    "import json "
   ]
  },
  {
   "cell_type": "markdown",
   "metadata": {},
   "source": [
    "Onderstaande code is de basis connectie met het API, er kunnen parameters toegevoegd worden om meer gespecificeerde informatie te verkrijgen. Op deze link staan alle parameters die we toe zouden kunnen voegen:\n",
    "https://developer.yummly.com/documentation"
   ]
  },
  {
   "cell_type": "code",
   "execution_count": 2,
   "metadata": {
    "collapsed": false
   },
   "outputs": [
    {
     "data": {
      "text/plain": [
       "{u'attribution': {u'html': u\"Recipe search powered by <a href='http://www.yummly.co/recipes'><img alt='Yummly' src='https://static.yummly.co/api-logo.png'/></a>\",\n",
       "  u'logo': u'https://static.yummly.co/api-logo.png',\n",
       "  u'text': u'Recipe search powered by Yummly',\n",
       "  u'url': u'http://www.yummly.co/recipes/'},\n",
       " u'criteria': {u'allowedIngredient': None,\n",
       "  u'excludedIngredient': None,\n",
       "  u'q': None},\n",
       " u'facetCounts': {},\n",
       " u'matches': [{u'attributes': {u'course': [u'Main Dishes']},\n",
       "   u'flavors': None,\n",
       "   u'id': u'Honey-Mustard-Slow-Cooker-Chicken-2221106',\n",
       "   u'imageUrlsBySize': {u'90': u'https://lh3.googleusercontent.com/So235b6of0RRRppQWcWUKWLggtyYzEv2D1d42pv9bc2pQsnqsTsXxfXOhnUKMugp4qN1E12tkrVZwRdSmyYVVw=s90-c'},\n",
       "   u'ingredients': [u'PERDUE\\xae FRESH CUTS\\u2122 Chicken Breast Strips',\n",
       "    u'honey',\n",
       "    u'stone ground mustard',\n",
       "    u'orange juice',\n",
       "    u'soy sauce',\n",
       "    u'corn starch',\n",
       "    u'cold water',\n",
       "    u'couscous'],\n",
       "   u'rating': 3,\n",
       "   u'recipeName': u'Honey Mustard Slow Cooker Chicken',\n",
       "   u'smallImageUrls': [u'https://lh3.googleusercontent.com/JL89gxvevrZEpsctfXuJL3Tgrvn-10-La4DWSyfzGcT_77ykM-UuUEqDgo97MIdSo6sw1NiEzxFREAmSz0aI0Q=s90'],\n",
       "   u'sourceDisplayName': u'Perdue.com',\n",
       "   u'totalTimeInSeconds': 1440600},\n",
       "  {u'attributes': {u'course': [u'Breakfast and Brunch']},\n",
       "   u'flavors': None,\n",
       "   u'id': u'Eggs-in-hash-brown-nests-352693',\n",
       "   u'imageUrlsBySize': {u'90': u'https://lh3.googleusercontent.com/Udz3197HvbRLu1rNUAuJrHDPbPgTO7JJjwVuD1y3tT2muNiP2SqDKfORdaC_IoWOI7H3Iws7INrysUHgANrgSQ=s90-c'},\n",
       "   u'ingredients': [u'russet potatoes',\n",
       "    u'salt',\n",
       "    u'pepper',\n",
       "    u'large eggs',\n",
       "    u'nonstick spray'],\n",
       "   u'rating': 5,\n",
       "   u'recipeName': u'Eggs in Hash Brown Nests',\n",
       "   u'smallImageUrls': [u'https://lh3.googleusercontent.com/WilYoHldNYB9LyXALuhggpNkH77SfIBxlxGqgV-ojDLFSplIJx219iLjngdUVT1Dz24iCxr2TmJ8pN9FKmP--g=s90'],\n",
       "   u'sourceDisplayName': u'The Pioneer Woman',\n",
       "   u'totalTimeInSeconds': 4800},\n",
       "  {u'attributes': {u'course': [u'Appetizers']},\n",
       "   u'flavors': None,\n",
       "   u'id': u'Cheesy-Spinach-Pinwheels-931846',\n",
       "   u'imageUrlsBySize': {u'90': u'http://lh4.ggpht.com/ybxdA6UZ33R4HrZwUB37ruKqE53e5DXMDxqydt62cN4TYftaTOtds06DF4cX9PfuVQqKD25uL6pQOwz87MeS=s90-c'},\n",
       "   u'ingredients': [u'frozen puff pastry sheets',\n",
       "    u'olive oil',\n",
       "    u'garlic cloves',\n",
       "    u'fresh spinach',\n",
       "    u'pepper',\n",
       "    u'parmesan cheese',\n",
       "    u'feta cheese crumbles'],\n",
       "   u'rating': 4,\n",
       "   u'recipeName': u'Cheesy Spinach Pinwheels',\n",
       "   u'smallImageUrls': [u'http://lh5.ggpht.com/kBCwYnArxf_Su16xNBYoZIS7O6rGWcHCyKNDJZfQFRPp-6PUn6ALN8DQMXZLZIX356L8VX_WkXobxou6dJSnp5w=s90'],\n",
       "   u'sourceDisplayName': u'Emily Bites',\n",
       "   u'totalTimeInSeconds': 3600},\n",
       "  {u'attributes': {},\n",
       "   u'flavors': None,\n",
       "   u'id': u'Roasted-Squash-with-Garlic-2234857',\n",
       "   u'imageUrlsBySize': {u'90': u'https://lh3.googleusercontent.com/eP5enCk5KmX9zpi-VmQvgIVEheU7VyX1eMldELEjMA3E_KN3-wxsYie1IrF5wtk9KOBAbNzTha_YxBWRq6z2Fw=s90-c'},\n",
       "   u'ingredients': [u'zucchini',\n",
       "    u'garlic',\n",
       "    u'olive oil',\n",
       "    u'thyme',\n",
       "    u'salt and ground black pepper'],\n",
       "   u'rating': 4,\n",
       "   u'recipeName': u'Roasted Squash with Garlic',\n",
       "   u'smallImageUrls': [u'https://lh3.googleusercontent.com/VZEXjYGpuv3HnB1-dwLyZcHEem44izeZsywZg0LUjZ9JHj7F1F0Jj6S8SzRLwMznL3h7zyAGwoxGB3s_q3j1Hw=s90'],\n",
       "   u'sourceDisplayName': u\"Kalyn's Kitchen\",\n",
       "   u'totalTimeInSeconds': 2400},\n",
       "  {u'attributes': {u'course': [u'Breakfast and Brunch']},\n",
       "   u'flavors': {u'bitter': 0.8333333333333334,\n",
       "    u'meaty': 0.16666666666666666,\n",
       "    u'piquant': 0.0,\n",
       "    u'salty': 0.6666666666666666,\n",
       "    u'sour': 0.16666666666666666,\n",
       "    u'sweet': 0.5},\n",
       "   u'id': u'Healthy-Pumpkin-Spice-Baked-Oatmeal-2230456',\n",
       "   u'imageUrlsBySize': {u'90': u'https://lh3.googleusercontent.com/MkzoCWoSX867clEQ_wzQ2xLwB10TtsJ9r2vFkvDOCZ8Gpp5SFwWmGSsuXEv_tIAsS6vEK-KxGBGRSEGFkvnW7w=s90-c'},\n",
       "   u'ingredients': [u'old-fashioned oats',\n",
       "    u'baking powder',\n",
       "    u'salt',\n",
       "    u'ground cinnamon',\n",
       "    u'ground allspice',\n",
       "    u'vanilla',\n",
       "    u'low-fat milk',\n",
       "    u'pumpkin pur\\xe9e',\n",
       "    u'eggs',\n",
       "    u'egg whites',\n",
       "    u'yogurt',\n",
       "    u'maple syrup',\n",
       "    u'golden raisins',\n",
       "    u'chopped walnuts'],\n",
       "   u'rating': 4,\n",
       "   u'recipeName': u'Healthy Pumpkin Spice Baked Oatmeal',\n",
       "   u'smallImageUrls': [u'https://lh3.googleusercontent.com/e8mnURWtR19hjiUDVJACYxZ-lC3JLkqG3j8ldoEoIzmOd7iuFGt7FarnfN3Lx6pCcL3ULdBAS2PYynW4fVZ4eg=s90'],\n",
       "   u'sourceDisplayName': u\"Amee's Savory Dish\",\n",
       "   u'totalTimeInSeconds': 3300},\n",
       "  {u'attributes': {u'course': [u'Desserts', u'Lunch']},\n",
       "   u'flavors': {u'bitter': 0.16666666666666666,\n",
       "    u'meaty': 0.16666666666666666,\n",
       "    u'piquant': 0.0,\n",
       "    u'salty': 0.5,\n",
       "    u'sour': 0.16666666666666666,\n",
       "    u'sweet': 0.6666666666666666},\n",
       "   u'id': u'Baked-Apple-Pie-Roll-Ups-593599',\n",
       "   u'imageUrlsBySize': {u'90': u'http://lh5.ggpht.com/D12S8eRU53nvoJxDaNksCgWG8_AiAJsbdaOpkZJt85DlINFLX9elifxpSHecxrIrdrZ5AEeFs2yNkhjUB_ZmitU=s90-c'},\n",
       "   u'ingredients': [u'white bread',\n",
       "    u'apple pie filling',\n",
       "    u'melted butter',\n",
       "    u'sugar',\n",
       "    u'cinnamon'],\n",
       "   u'rating': 4,\n",
       "   u'recipeName': u'Baked Apple Pie Roll Ups',\n",
       "   u'smallImageUrls': [u'http://lh5.ggpht.com/eUGCFo3up5O0ZEXs8QsWoh2x-U4UOThExckzDer36bH96wJkFmG40JQiTxGFYQGsQXB4uTrcYYT0DRIA7Hed1FM=s90'],\n",
       "   u'sourceDisplayName': u'Spend with Pennies',\n",
       "   u'totalTimeInSeconds': 1800},\n",
       "  {u'attributes': {u'course': [u'Beverages', u'Cocktails'],\n",
       "    u'holiday': [u'Halloween']},\n",
       "   u'flavors': None,\n",
       "   u'id': u'_Witches-Brew_--A-Halloween-Cocktail-2234301',\n",
       "   u'imageUrlsBySize': {u'90': u'https://lh3.googleusercontent.com/nOed1WL-FHN9lYrPy9HPLitfKkTHMw2_zqcxcMs5YtUgLom4_y3KiXcy1zzzY2UuyRg55OjWDRDnU3G_-_OOnSI=s90-c'},\n",
       "   u'ingredients': [u'fresh lime',\n",
       "    u'food colouring',\n",
       "    u'sugar',\n",
       "    u'vodka',\n",
       "    u'lime juice',\n",
       "    u'raspberry liqueur'],\n",
       "   u'rating': 4,\n",
       "   u'recipeName': u\"'Witches Brew'- A Halloween Cocktail\",\n",
       "   u'smallImageUrls': [u'https://lh3.googleusercontent.com/-XtijcMKTkrnlqHXg75jSkjQ0MUq3L2BCTLOWnf1al3Pq7hPCbydqhtU94bmM0SrgmYR4Tn680TWM0MAL5au=s90'],\n",
       "   u'sourceDisplayName': u'Sprinkles Sprouts',\n",
       "   u'totalTimeInSeconds': 300},\n",
       "  {u'attributes': {u'course': [u'Lunch']},\n",
       "   u'flavors': {u'bitter': 0.6666666666666666,\n",
       "    u'meaty': 0.6666666666666666,\n",
       "    u'piquant': 0.0,\n",
       "    u'salty': 0.8333333333333334,\n",
       "    u'sour': 0.16666666666666666,\n",
       "    u'sweet': 0.3333333333333333},\n",
       "   u'id': u'Chicken-Salad-Sandwiches-2087237',\n",
       "   u'imageUrlsBySize': {u'90': u'https://lh3.googleusercontent.com/V19cJLgX3oCnBVlztU8F2hheG4oLujyOtS2gNR9qcXv8lsEpD83aJU9YhRtvQhcqjg7sgImiojwyHPl_V1qD7Ik=s90-c'},\n",
       "   u'ingredients': [u'cooked chicken',\n",
       "    u'celery',\n",
       "    u'onions',\n",
       "    u'mayonnaise',\n",
       "    u'salt',\n",
       "    u'pepper',\n",
       "    u'bread'],\n",
       "   u'rating': 3,\n",
       "   u'recipeName': u'Chicken Salad Sandwiches',\n",
       "   u'smallImageUrls': [u'https://lh3.googleusercontent.com/Ay5kfhAzSPyNsMGLkohIstl7O-VBzU-0h6BXgq-9zx-WbIqomzDhAytT3yROX2_zCqxReHQ4SAR5HteAFT-LeA4=s90'],\n",
       "   u'sourceDisplayName': u'Betty Crocker',\n",
       "   u'totalTimeInSeconds': 900},\n",
       "  {u'attributes': {u'course': [u'Beverages']},\n",
       "   u'flavors': None,\n",
       "   u'id': u'Detox-Drink-That-Burns-Fat-And-Boosts-The-Metabolism-1813802',\n",
       "   u'imageUrlsBySize': {u'90': u'https://lh3.googleusercontent.com/E9NWPWDhOWkWL-UoyZXv_VUJyOKiPZmFzM4P6hyHnG1UvMyIj108mrqKEsyBa8s9ssW2D-TVRT-oCkFSBDIazBI=s90-c'},\n",
       "   u'ingredients': [u'cinnamon',\n",
       "    u'apple cider vinegar',\n",
       "    u'honey',\n",
       "    u'lemon juice',\n",
       "    u'water'],\n",
       "   u'rating': 4,\n",
       "   u'recipeName': u'Detox Drink That Burns Fat And Boosts The Metabolism',\n",
       "   u'smallImageUrls': [u'https://lh3.googleusercontent.com/MTguJDLtQPzBYFbsWDTwKD0eyyXMqxbLfCfHGhjnWD8EIBjBJ0xzgspsAgspVuhL_i2UzZGxxzI0aWRCJF4u=s90'],\n",
       "   u'sourceDisplayName': u'Home Healthy Recipes',\n",
       "   u'totalTimeInSeconds': 600},\n",
       "  {u'attributes': {u'course': [u'Main Dishes']},\n",
       "   u'flavors': {u'bitter': 0.16666666666666666,\n",
       "    u'meaty': 0.16666666666666666,\n",
       "    u'piquant': 0.5,\n",
       "    u'salty': 0.5,\n",
       "    u'sour': 0.8333333333333334,\n",
       "    u'sweet': 0.16666666666666666},\n",
       "   u'id': u'Black-Bean-Turkey-Chili-2108123',\n",
       "   u'imageUrlsBySize': {u'90': u'https://lh3.googleusercontent.com/vyGgSUdoXDZn8k7Vjda_4dloxXeUZd5-pdrsSoVbiBxEz1pfkH0qoXES9QzxCfb2bYlEOJksauykVqVel6_Fgg=s90-c'},\n",
       "   u'ingredients': [u'olive oil',\n",
       "    u'onions',\n",
       "    u'carrots',\n",
       "    u'red bell pepper',\n",
       "    u'salt',\n",
       "    u'garlic',\n",
       "    u'chili powder',\n",
       "    u'ground cumin',\n",
       "    u'ground turkey',\n",
       "    u'chicken stock',\n",
       "    u'dried oregano',\n",
       "    u'bay leaf',\n",
       "    u'tomato paste',\n",
       "    u'cider vinegar',\n",
       "    u'black beans',\n",
       "    u'freshly ground black pepper'],\n",
       "   u'rating': 4,\n",
       "   u'recipeName': u'Black Bean Turkey Chili',\n",
       "   u'smallImageUrls': [u'https://lh3.googleusercontent.com/_1SAEasVZ_1a1jpLhOpnihemLhPd1Yd_CCzoLUIlzIz3jxdakuOJikEQWLaUnhCdx_orHhspMF5YAfJfeSdydV0=s90'],\n",
       "   u'sourceDisplayName': u'favorite National Foods',\n",
       "   u'totalTimeInSeconds': 5100}],\n",
       " u'totalMatchCount': 1703232}"
      ]
     },
     "execution_count": 2,
     "metadata": {},
     "output_type": "execute_result"
    }
   ],
   "source": [
    "response = requests.get(\"http://api.yummly.com/v1/api/recipes?_app_id=2b082bfe&_app_key=905dfe0267500a98d67737f446479c11\")\n",
    "response.json()"
   ]
  },
  {
   "cell_type": "code",
   "execution_count": 3,
   "metadata": {
    "collapsed": false
   },
   "outputs": [],
   "source": [
    "mediterranean_main_recipes_15min = requests.get(\"http://api.yummly.com/v1/api/recipes?_app_id=2b082bfe&_app_key=905dfe0267500a98d67737f446479c11&allowedCuisine[]=cuisine^cuisine-mediterranean&allowedCuisine[]=cuisine^cuisine-italian&allowedCuisine[]=cuisine^cuisine-spanish&maxTotalTimeInSeconds=600&allowedCourse[]=course^course-Main Dishes\").json()\n",
    "# converted to json to be sure that the right json format is being used.  \n",
    "# Recipes which are either itlian, spanish or meditarean, which are a main course and take less than 15 minutes to cook. "
   ]
  },
  {
   "cell_type": "code",
   "execution_count": 4,
   "metadata": {
    "collapsed": false,
    "scrolled": true
   },
   "outputs": [
    {
     "name": "stdout",
     "output_type": "stream",
     "text": [
      "[{u'flavors': {u'piquant': 0.0, u'sour': 0.5, u'salty': 0.6666666666666666, u'sweet': 0.16666666666666666, u'bitter': 0.3333333333333333, u'meaty': 0.8333333333333334}, u'rating': 5, u'totalTimeInSeconds': 300, u'ingredients': [u'jumbo shrimp', u'olive oil', u'butter', u'minced garlic', u'lemon juice', u'lemon zest', u'sea salt'], u'smallImageUrls': [u'http://lh4.ggpht.com/iM63E6R_vx-DTpY3U-cfz32hZTFjtoj-9W85tn2t0JQSduqjjF6wi6fi7nJO5Y1j0Ip9g11wfewzJ-8XKimr6A=s90'], u'sourceDisplayName': u\"Kalyn's Kitchen\", u'recipeName': u'Easy Garlic and Lemon Shrimp', u'attributes': {u'course': [u'Main Dishes'], u'cuisine': [u'Barbecue', u'Italian', u'Asian', u'American']}, u'id': u'Easy-garlic-and-lemon-shrimp-309257', u'imageUrlsBySize': {u'90': u'http://lh6.ggpht.com/jzVeUvT-8y_V_BflWMk3WRmDO8XLm51-N6Ze69jy2uk_yetgzwJJacZUC4m6rhO96IJak0-tWWvZCafBA80sTQ=s90-c'}}, {u'flavors': {u'piquant': 0.0, u'sour': 0.3333333333333333, u'salty': 0.16666666666666666, u'sweet': 0.16666666666666666, u'bitter': 0.5, u'meaty': 0.16666666666666666}, u'rating': 4, u'totalTimeInSeconds': 600, u'ingredients': [u'angel hair', u'mozzarella cheese', u'zesty italian dressing', u'cherry tomatoes', u'fresh basil', u'pepper', u'salt'], u'smallImageUrls': [u'http://lh3.googleusercontent.com/ojxpVF6hp_BhKd59OEv15Vqdv7jBe2uGADhJCxmr_tOWU_y15ayOd1x0mlZi24dxst90hfQJsfaTUr4lnasuNo0=s90'], u'sourceDisplayName': u\"Chelsea's Messy Apron\", u'recipeName': u'{5-ingredient} Italian Caprese Pasta', u'attributes': {u'course': [u'Main Dishes'], u'cuisine': [u'Italian']}, u'id': u'_5-ingredient_-Italian-Caprese-Pasta-1219589', u'imageUrlsBySize': {u'90': u'http://lh3.googleusercontent.com/VOX8jThs7n_kt9a_6kWK_4UQz0UOISLOkquh3MprFgKdyncxnk4M1i9DdAaZYMtvwVZ3yVYtZGlEp0zGlq-Jvg=s90-c'}}, {u'flavors': None, u'rating': 3, u'totalTimeInSeconds': 600, u'ingredients': [u'meat bones', u'salt', u'freshly ground black pepper', u'fresh rosemary', u'garlic'], u'smallImageUrls': [u'https://lh3.googleusercontent.com/PlbQGgp_PfIM1xzNq7Eju3Xk-THZI9Z9HZYuSt_6MGUnt-wT1GGnVGswjjUV0hizSU6XEG0cOAZr16AHe83VCA=s90'], u'sourceDisplayName': u'Diabetic Living', u'recipeName': u'Mediterranean Pork Chops', u'attributes': {u'course': [u'Main Dishes'], u'cuisine': [u'Mediterranean']}, u'id': u'Mediterranean-Pork-Chops-2160651', u'imageUrlsBySize': {u'90': u'https://lh3.googleusercontent.com/BagRGErwacnAnN9hr49hnmyACzenM7WSS2RgfSModVQwfyI9rWywih3aZZwN6jExrOH_lT6SVT2sZEpdH4FfAg=s90-c'}}, {u'flavors': {u'piquant': 0.0, u'sour': 0.8333333333333334, u'salty': 0.8333333333333334, u'sweet': 0.16666666666666666, u'bitter': 0.8333333333333334, u'meaty': 0.16666666666666666}, u'rating': 5, u'totalTimeInSeconds': 600, u'ingredients': [u'macaroni', u'salt', u'greens', u'minced garlic', u'lemon', u'lemon juice', u'olive oil', u'grated parmesan cheese'], u'smallImageUrls': [u'http://lh5.ggpht.com/l1TqbAE-jljJWGQF7HHHviMu94cfT2xG7RrVNxONaj1noKbL5WhMZesDJcjvyn7VagDitPcUk-R-OFgSA_tDXGk=s90'], u'sourceDisplayName': u\"Kalyn's Kitchen\", u'recipeName': u'Macaroni with Greens, Lemon, and Parmesan', u'attributes': {u'course': [u'Main Dishes'], u'cuisine': [u'Italian']}, u'id': u'Macaroni-with-greens_-lemon_-and-parmesan-310048', u'imageUrlsBySize': {u'90': u'http://lh5.ggpht.com/wTLTWKLTQAIIL8RVuPdL01hRQKJzs5ALdaamAyrMsZ8bCIKIsQw4ShxL0zpn7LOo9MN88ZsjDfGZRZE1B1XUfw=s90-c'}}, {u'flavors': {u'piquant': 0.16666666666666666, u'sour': 0.5, u'salty': 0.8333333333333334, u'sweet': 0.16666666666666666, u'bitter': 0.8333333333333334, u'meaty': 0.8333333333333334}, u'rating': 4, u'totalTimeInSeconds': 600, u'ingredients': [u'spaghetti', u'olive oil', u'crushed red pepper flakes', u'garlic cloves', u'salted butter', u'kosher salt', u'finely chopped fresh parsley', u'grated parmesan cheese'], u'smallImageUrls': [u'https://lh3.googleusercontent.com/TFIXdSwU5nPCKVQGtPEt8rCRa2A6f16ejIFaWQSuFifPjHUr_TcdI49oPuoKyvBWKQ0Q_EJRBjWWeo9AMMs9AA=s90'], u'sourceDisplayName': u'Suburban Soapbox', u'recipeName': u'Spaghetti Aglio e Olio', u'attributes': {u'course': [u'Main Dishes'], u'cuisine': [u'Italian']}, u'id': u'Spaghetti-Aglio-e-Olio-1524948', u'imageUrlsBySize': {u'90': u'https://lh3.googleusercontent.com/oo5GvBiUEDAwj1ypeVzzK0JkWfgjOgEFfYGThZKrI_3agNxk5Xi03WAYUNAFrAUmvRcSF2KMIE5SorayAkbxBA=s90-c'}}, {u'flavors': None, u'rating': 5, u'totalTimeInSeconds': 600, u'ingredients': [u'pasta shells', u'extra-virgin olive oil', u'onions', u'clove garlic, fine chop', u'baby spinach', u'whole milk ricotta cheese', u'parmigiano reggiano cheese'], u'smallImageUrls': [u'http://lh4.ggpht.com/IdRtwBSF9pIgZBsC5duRr1YJzvUCwhxtTKjEE7oVsbqFBfbbsMAiSc6I9N1c-X-Wx8kNwWkIXRn7woyc24FQ0Q=s90'], u'sourceDisplayName': u'Every Day with Rachael Ray', u'recipeName': u'Spinach and Ricotta with Shells', u'attributes': {u'course': [u'Main Dishes'], u'cuisine': [u'Italian']}, u'id': u'Spinach-and-ricotta-with-shells-347616', u'imageUrlsBySize': {u'90': u'http://lh4.ggpht.com/vY7m1DvC0AqvnOeE45TA38BWxd1bALJMFpxpMIrRaTHbo9area7S1ixQdbVsNGMCTbduzhj5rh1EMyYHK-b5xQ=s90-c'}}, {u'flavors': {u'piquant': 0.16666666666666666, u'sour': 0.5, u'salty': 0.16666666666666666, u'sweet': 0.16666666666666666, u'bitter': 0.5, u'meaty': 0.16666666666666666}, u'rating': 5, u'totalTimeInSeconds': 600, u'ingredients': [u'pitas', u'smoked paprika', u'parsley', u'yogurt', u'feta cheese', u'lamb', u'cumin', u'tahini', u'garlic', u'eggplant'], u'smallImageUrls': [u'http://lh6.ggpht.com/rk7XwzC2upD_Mji1gMxkfuY4fKn1O2QzapikMtmQD2SQ149otMs3rFYpSGf-xArkMfLkHOdhA5yclGkA5YRs=s90'], u'sourceDisplayName': u'Closet Cooking', u'recipeName': u'Baba Ghanoush Topped with Lamb and Yogurt', u'attributes': {u'course': [u'Main Dishes', u'Lunch'], u'cuisine': [u'Mediterranean']}, u'id': u'Baba-Ghanoush-Topped-with-Lamb-and-Yogurt-Closet-Cooking-54985', u'imageUrlsBySize': {u'90': u'http://lh4.ggpht.com/-ecLQqjyRtQPfPcNBWTpGG5XWEw4AhSYT7TSoWwrJm9GfUxIVfWPU34U_kq1leNVk8gw2YcdNR5iUDqG4OHTTvY=s90-c'}}, {u'flavors': None, u'rating': 3, u'totalTimeInSeconds': 300, u'ingredients': [u'shoulder roast', u'sweet onion', u'italian seasoning', u'garlic', u'red wine'], u'smallImageUrls': [u'https://lh3.googleusercontent.com/bNvzmZtRFAz_egNnVCXcozlpF-LzU48yH8XhsepjTQl2VdrmOPPaiIMYZuUJ6EEY1_Wand7cAVPdJob_HBAd3g=s90'], u'sourceDisplayName': u'Bariatric Eating', u'recipeName': u'Braised Italian Pot Roast', u'attributes': {u'course': [u'Main Dishes'], u'holiday': [u'Sunday Lunch'], u'cuisine': [u'Italian']}, u'id': u'Braised-Italian-Pot-Roast-1518989', u'imageUrlsBySize': {u'90': u'https://lh3.googleusercontent.com/1zJMlHYabhKOaWqbuDO1Dl2puMnC-vCW4QTaR5QG5SVToV7ZJsSLxqa1Xw1spXsFV_wLT0vbilNj6d9QBcGTPg=s90-c'}}, {u'flavors': None, u'rating': 4, u'totalTimeInSeconds': 600, u'ingredients': [u'chicken breasts', u'pesto', u'Italian bread', u'red onion', u'roasted red peppers', u'fresh mozzarella cheese', u'cooking spray'], u'smallImageUrls': [u'https://lh3.googleusercontent.com/ljWBlauAIkuC27jqkTU-XdnR6ddufFUB1m6Kd3-Aoew0KywFD5n1lyctCxOOYeWKgFDddmrnZcOIPagrKMrq4Q=s90'], u'sourceDisplayName': u'Savory Experiments', u'recipeName': u'Italian Chicken Panini', u'attributes': {u'course': [u'Lunch', u'Main Dishes'], u'cuisine': [u'Italian']}, u'id': u'Italian-Chicken-Panini-1681795', u'imageUrlsBySize': {u'90': u'https://lh3.googleusercontent.com/egb1RTC41-EhVd2f5JpqXED0QSod5jNGpiLjPkqdchI8lX4vSVN1gMSTvbGXqxnbdgDhUO6M-DaM7uOhxIKwOg=s90-c'}}, {u'flavors': {u'piquant': 0.0, u'sour': 0.6666666666666666, u'salty': 0.5, u'sweet': 0.16666666666666666, u'bitter': 0.5, u'meaty': 0.16666666666666666}, u'rating': 4, u'totalTimeInSeconds': 600, u'ingredients': [u'extra-virgin olive oil', u'onions', u'mushrooms', u'garlic cloves', u'diced tomatoes', u'tomato sauce', u'basil leaves', u'black pepper', u'sea salt', u'ricotta cheese', u'part-skim mozzarella cheese', u'parmesan cheese', u'lasagna noodles', u'parsley'], u'smallImageUrls': [u'http://lh4.ggpht.com/rn43xkX60l7JZ71GbUJ1SGBsFWz-RFH2-hgkTYLG_nQLxnw0IUEs-DyItkrVhZanC2KhtgWYB841dd7RexAUTbU=s90'], u'sourceDisplayName': u'The Realistic Nutritionist', u'recipeName': u'Easy Peasy Skillet Lasagna', u'attributes': {u'course': [u'Main Dishes'], u'cuisine': [u'Italian']}, u'id': u'Easy-Peasy-Skillet-Lasagna-899604', u'imageUrlsBySize': {u'90': u'http://lh5.ggpht.com/ts9LCn2e0fAkWo6ExivxWEWKacpnhtXC_HNwPAOsbHrBMhI0LPbvhGiFvq2aq-5-p1lKE6iyS4V0Uz1vRIMk=s90-c'}}]\n"
     ]
    }
   ],
   "source": [
    "print mediterranean_main_recipes_15min['matches']\n",
    "# dit was ook even om te testen hoe de file eruit ziet "
   ]
  },
  {
   "cell_type": "code",
   "execution_count": 5,
   "metadata": {
    "collapsed": false
   },
   "outputs": [],
   "source": [
    "from rdflib import Graph, Namespace, URIRef, Literal, XSD, RDF\n",
    "# create an RDF graph\n",
    "g = Graph()\n",
    "\n",
    "REC = Namespace(\"https://graph.yummly.com/\")\n",
    "\n",
    "g.bind('rec', REC)"
   ]
  },
  {
   "cell_type": "code",
   "execution_count": 6,
   "metadata": {
    "collapsed": false
   },
   "outputs": [
    {
     "name": "stdout",
     "output_type": "stream",
     "text": [
      "https://graph.yummly.com/ingredient-parsley\n"
     ]
    }
   ],
   "source": [
    "for recipe in mediterranean_main_recipes_15min['matches']:\n",
    "    for ingredient in recipe['ingredients']:\n",
    "        rec_URI = REC[\"ingredient-{}\".format(ingredient)]\n",
    "print rec_URI\n",
    "\n",
    "# dit is even een testje om te kijken of dat met die link is gelukt. Het is gelukt alleen is dit alleen op het eerste ingredient. "
   ]
  },
  {
   "cell_type": "code",
   "execution_count": 7,
   "metadata": {
    "collapsed": false
   },
   "outputs": [
    {
     "name": "stdout",
     "output_type": "stream",
     "text": [
      "[u'flavors', u'rating', u'totalTimeInSeconds', u'ingredients', u'smallImageUrls', u'sourceDisplayName', u'recipeName', u'attributes', u'id', u'imageUrlsBySize']\n"
     ]
    }
   ],
   "source": [
    "print mediterranean_main_recipes_15min['matches'][0].keys()\n",
    "# dit slaat eigenlijk nergens op maar dit is om te kijken hoe de file is opgebouwd "
   ]
  },
  {
   "cell_type": "code",
   "execution_count": 68,
   "metadata": {
    "collapsed": false
   },
   "outputs": [],
   "source": [
    "ingredient_list = []\n",
    "for recipe in mediterranean_main_recipes_15min['matches']:\n",
    "    for ingredient in recipe['ingredients']:\n",
    "        ingredient_list.append(ingredient)\n",
    "        \n",
    "recipe_name_list = []\n",
    "for recipe in mediterranean_main_recipes_15min['matches']:\n",
    "    recipe_name_list.append(recipe['recipeName'])\n",
    "\n",
    "cooking_time_list = []\n",
    "for recipe in mediterranean_main_recipes_15min['matches']:\n",
    "    cooking_time_list.append(recipe['totalTimeInSeconds'])\n",
    "    \n",
    "# dit zijn lijsten met ingredienten, recipes en cookingtime. Zodat hierover geloopt kan worden."
   ]
  },
  {
   "cell_type": "code",
   "execution_count": 82,
   "metadata": {
    "collapsed": false
   },
   "outputs": [
    {
     "name": "stdout",
     "output_type": "stream",
     "text": [
      "https://graph.yummly.com/ingredient-parsley\n"
     ]
    }
   ],
   "source": [
    "for ingredient in ingredient_list:\n",
    "    ingredient2 = REC[\"ingredient-{}\".format(ingredient)]\n",
    "    g.add((ingredient2, RDF.type, Literal(ingredient)))\n",
    "\n",
    "print ingredient2\n",
    "# dit is de url die er uit komt. Een beetje vage namen trouwens, maar had niet zo veel inspiratie. Ik had dat ingredient2 gedaan omdat het anders een beetje misliep met twee ingredients...."
   ]
  },
  {
   "cell_type": "code",
   "execution_count": 77,
   "metadata": {
    "collapsed": false
   },
   "outputs": [
    {
     "ename": "Exception",
     "evalue": "\"https://graph.yummly.com/ingredient-Italian bread\" does not look like a valid URI, I cannot serialize this as N3/Turtle. Perhaps you wanted to urlencode it?",
     "output_type": "error",
     "traceback": [
      "\u001b[0;31m---------------------------------------------------------------------------\u001b[0m",
      "\u001b[0;31mException\u001b[0m                                 Traceback (most recent call last)",
      "\u001b[0;32m<ipython-input-77-f991385f5453>\u001b[0m in \u001b[0;36m<module>\u001b[0;34m()\u001b[0m\n\u001b[0;32m----> 1\u001b[0;31m \u001b[0;32mprint\u001b[0m \u001b[0mg\u001b[0m\u001b[0;34m.\u001b[0m\u001b[0mserialize\u001b[0m\u001b[0;34m(\u001b[0m\u001b[0mformat\u001b[0m\u001b[0;34m=\u001b[0m\u001b[0;34m'turtle'\u001b[0m\u001b[0;34m)\u001b[0m \u001b[0;31m# Er komt dus hier een error. Ik denk zelf dat het komt door de spaties in de\u001b[0m\u001b[0;34m\u001b[0m\u001b[0m\n\u001b[0m\u001b[1;32m      2\u001b[0m \u001b[0;31m# ingredient namen. Ik heb echt heel veel geprobeerd, er allerlei packages maar hij pakt hem gewoon niet... Beetje irritant..\u001b[0m\u001b[0;34m\u001b[0m\u001b[0;34m\u001b[0m\u001b[0m\n\u001b[1;32m      3\u001b[0m \u001b[0;31m# misschien ziet een van jullie het licht morgen ochtend. Ik heb al urllib.parse gebrobeerd maar dat lukte niet, en ik heb\u001b[0m\u001b[0;34m\u001b[0m\u001b[0;34m\u001b[0m\u001b[0m\n\u001b[1;32m      4\u001b[0m \u001b[0;31m# ook nog een paar andere packages van urllib geprobeerd maar dat lukte ook niet. Ook had ik nog .replace geprobeerd maar dat\u001b[0m\u001b[0;34m\u001b[0m\u001b[0;34m\u001b[0m\u001b[0m\n\u001b[1;32m      5\u001b[0m \u001b[0;31m# ging ook niet. Dus misschien heeft iemand anders nog inspiratie.\u001b[0m\u001b[0;34m\u001b[0m\u001b[0;34m\u001b[0m\u001b[0m\n",
      "\u001b[0;32m/Users/Noelle/anaconda/lib/python2.7/site-packages/rdflib/graph.pyc\u001b[0m in \u001b[0;36mserialize\u001b[0;34m(self, destination, format, base, encoding, **args)\u001b[0m\n\u001b[1;32m    934\u001b[0m         \u001b[0;32mif\u001b[0m \u001b[0mdestination\u001b[0m \u001b[0;32mis\u001b[0m \u001b[0mNone\u001b[0m\u001b[0;34m:\u001b[0m\u001b[0;34m\u001b[0m\u001b[0m\n\u001b[1;32m    935\u001b[0m             \u001b[0mstream\u001b[0m \u001b[0;34m=\u001b[0m \u001b[0mBytesIO\u001b[0m\u001b[0;34m(\u001b[0m\u001b[0;34m)\u001b[0m\u001b[0;34m\u001b[0m\u001b[0m\n\u001b[0;32m--> 936\u001b[0;31m             \u001b[0mserializer\u001b[0m\u001b[0;34m.\u001b[0m\u001b[0mserialize\u001b[0m\u001b[0;34m(\u001b[0m\u001b[0mstream\u001b[0m\u001b[0;34m,\u001b[0m \u001b[0mbase\u001b[0m\u001b[0;34m=\u001b[0m\u001b[0mbase\u001b[0m\u001b[0;34m,\u001b[0m \u001b[0mencoding\u001b[0m\u001b[0;34m=\u001b[0m\u001b[0mencoding\u001b[0m\u001b[0;34m,\u001b[0m \u001b[0;34m**\u001b[0m\u001b[0margs\u001b[0m\u001b[0;34m)\u001b[0m\u001b[0;34m\u001b[0m\u001b[0m\n\u001b[0m\u001b[1;32m    937\u001b[0m             \u001b[0;32mreturn\u001b[0m \u001b[0mstream\u001b[0m\u001b[0;34m.\u001b[0m\u001b[0mgetvalue\u001b[0m\u001b[0;34m(\u001b[0m\u001b[0;34m)\u001b[0m\u001b[0;34m\u001b[0m\u001b[0m\n\u001b[1;32m    938\u001b[0m         \u001b[0;32mif\u001b[0m \u001b[0mhasattr\u001b[0m\u001b[0;34m(\u001b[0m\u001b[0mdestination\u001b[0m\u001b[0;34m,\u001b[0m \u001b[0;34m\"write\"\u001b[0m\u001b[0;34m)\u001b[0m\u001b[0;34m:\u001b[0m\u001b[0;34m\u001b[0m\u001b[0m\n",
      "\u001b[0;32m/Users/Noelle/anaconda/lib/python2.7/site-packages/rdflib/plugins/serializers/turtle.pyc\u001b[0m in \u001b[0;36mserialize\u001b[0;34m(self, stream, base, encoding, spacious, **args)\u001b[0m\n\u001b[1;32m    206\u001b[0m             \u001b[0;32mif\u001b[0m \u001b[0mfirstTime\u001b[0m\u001b[0;34m:\u001b[0m\u001b[0;34m\u001b[0m\u001b[0m\n\u001b[1;32m    207\u001b[0m                 \u001b[0mfirstTime\u001b[0m \u001b[0;34m=\u001b[0m \u001b[0mFalse\u001b[0m\u001b[0;34m\u001b[0m\u001b[0m\n\u001b[0;32m--> 208\u001b[0;31m             \u001b[0;32mif\u001b[0m \u001b[0mself\u001b[0m\u001b[0;34m.\u001b[0m\u001b[0mstatement\u001b[0m\u001b[0;34m(\u001b[0m\u001b[0msubject\u001b[0m\u001b[0;34m)\u001b[0m \u001b[0;32mand\u001b[0m \u001b[0;32mnot\u001b[0m \u001b[0mfirstTime\u001b[0m\u001b[0;34m:\u001b[0m\u001b[0;34m\u001b[0m\u001b[0m\n\u001b[0m\u001b[1;32m    209\u001b[0m                 \u001b[0mself\u001b[0m\u001b[0;34m.\u001b[0m\u001b[0mwrite\u001b[0m\u001b[0;34m(\u001b[0m\u001b[0;34m'\\n'\u001b[0m\u001b[0;34m)\u001b[0m\u001b[0;34m\u001b[0m\u001b[0m\n\u001b[1;32m    210\u001b[0m \u001b[0;34m\u001b[0m\u001b[0m\n",
      "\u001b[0;32m/Users/Noelle/anaconda/lib/python2.7/site-packages/rdflib/plugins/serializers/turtle.pyc\u001b[0m in \u001b[0;36mstatement\u001b[0;34m(self, subject)\u001b[0m\n\u001b[1;32m    267\u001b[0m     \u001b[0;32mdef\u001b[0m \u001b[0mstatement\u001b[0m\u001b[0;34m(\u001b[0m\u001b[0mself\u001b[0m\u001b[0;34m,\u001b[0m \u001b[0msubject\u001b[0m\u001b[0;34m)\u001b[0m\u001b[0;34m:\u001b[0m\u001b[0;34m\u001b[0m\u001b[0m\n\u001b[1;32m    268\u001b[0m         \u001b[0mself\u001b[0m\u001b[0;34m.\u001b[0m\u001b[0msubjectDone\u001b[0m\u001b[0;34m(\u001b[0m\u001b[0msubject\u001b[0m\u001b[0;34m)\u001b[0m\u001b[0;34m\u001b[0m\u001b[0m\n\u001b[0;32m--> 269\u001b[0;31m         \u001b[0;32mreturn\u001b[0m \u001b[0mself\u001b[0m\u001b[0;34m.\u001b[0m\u001b[0ms_squared\u001b[0m\u001b[0;34m(\u001b[0m\u001b[0msubject\u001b[0m\u001b[0;34m)\u001b[0m \u001b[0;32mor\u001b[0m \u001b[0mself\u001b[0m\u001b[0;34m.\u001b[0m\u001b[0ms_default\u001b[0m\u001b[0;34m(\u001b[0m\u001b[0msubject\u001b[0m\u001b[0;34m)\u001b[0m\u001b[0;34m\u001b[0m\u001b[0m\n\u001b[0m\u001b[1;32m    270\u001b[0m \u001b[0;34m\u001b[0m\u001b[0m\n\u001b[1;32m    271\u001b[0m     \u001b[0;32mdef\u001b[0m \u001b[0ms_default\u001b[0m\u001b[0;34m(\u001b[0m\u001b[0mself\u001b[0m\u001b[0;34m,\u001b[0m \u001b[0msubject\u001b[0m\u001b[0;34m)\u001b[0m\u001b[0;34m:\u001b[0m\u001b[0;34m\u001b[0m\u001b[0m\n",
      "\u001b[0;32m/Users/Noelle/anaconda/lib/python2.7/site-packages/rdflib/plugins/serializers/turtle.pyc\u001b[0m in \u001b[0;36ms_default\u001b[0;34m(self, subject)\u001b[0m\n\u001b[1;32m    271\u001b[0m     \u001b[0;32mdef\u001b[0m \u001b[0ms_default\u001b[0m\u001b[0;34m(\u001b[0m\u001b[0mself\u001b[0m\u001b[0;34m,\u001b[0m \u001b[0msubject\u001b[0m\u001b[0;34m)\u001b[0m\u001b[0;34m:\u001b[0m\u001b[0;34m\u001b[0m\u001b[0m\n\u001b[1;32m    272\u001b[0m         \u001b[0mself\u001b[0m\u001b[0;34m.\u001b[0m\u001b[0mwrite\u001b[0m\u001b[0;34m(\u001b[0m\u001b[0;34m'\\n'\u001b[0m \u001b[0;34m+\u001b[0m \u001b[0mself\u001b[0m\u001b[0;34m.\u001b[0m\u001b[0mindent\u001b[0m\u001b[0;34m(\u001b[0m\u001b[0;34m)\u001b[0m\u001b[0;34m)\u001b[0m\u001b[0;34m\u001b[0m\u001b[0m\n\u001b[0;32m--> 273\u001b[0;31m         \u001b[0mself\u001b[0m\u001b[0;34m.\u001b[0m\u001b[0mpath\u001b[0m\u001b[0;34m(\u001b[0m\u001b[0msubject\u001b[0m\u001b[0;34m,\u001b[0m \u001b[0mSUBJECT\u001b[0m\u001b[0;34m)\u001b[0m\u001b[0;34m\u001b[0m\u001b[0m\n\u001b[0m\u001b[1;32m    274\u001b[0m         \u001b[0mself\u001b[0m\u001b[0;34m.\u001b[0m\u001b[0mpredicateList\u001b[0m\u001b[0;34m(\u001b[0m\u001b[0msubject\u001b[0m\u001b[0;34m)\u001b[0m\u001b[0;34m\u001b[0m\u001b[0m\n\u001b[1;32m    275\u001b[0m         \u001b[0mself\u001b[0m\u001b[0;34m.\u001b[0m\u001b[0mwrite\u001b[0m\u001b[0;34m(\u001b[0m\u001b[0;34m' .'\u001b[0m\u001b[0;34m)\u001b[0m\u001b[0;34m\u001b[0m\u001b[0m\n",
      "\u001b[0;32m/Users/Noelle/anaconda/lib/python2.7/site-packages/rdflib/plugins/serializers/turtle.pyc\u001b[0m in \u001b[0;36mpath\u001b[0;34m(self, node, position, newline)\u001b[0m\n\u001b[1;32m    286\u001b[0m     \u001b[0;32mdef\u001b[0m \u001b[0mpath\u001b[0m\u001b[0;34m(\u001b[0m\u001b[0mself\u001b[0m\u001b[0;34m,\u001b[0m \u001b[0mnode\u001b[0m\u001b[0;34m,\u001b[0m \u001b[0mposition\u001b[0m\u001b[0;34m,\u001b[0m \u001b[0mnewline\u001b[0m\u001b[0;34m=\u001b[0m\u001b[0mFalse\u001b[0m\u001b[0;34m)\u001b[0m\u001b[0;34m:\u001b[0m\u001b[0;34m\u001b[0m\u001b[0m\n\u001b[1;32m    287\u001b[0m         if not (self.p_squared(node, position, newline)\n\u001b[0;32m--> 288\u001b[0;31m                 or self.p_default(node, position, newline)):\n\u001b[0m\u001b[1;32m    289\u001b[0m             \u001b[0;32mraise\u001b[0m \u001b[0mError\u001b[0m\u001b[0;34m(\u001b[0m\u001b[0;34m\"Cannot serialize node '%s'\"\u001b[0m \u001b[0;34m%\u001b[0m \u001b[0;34m(\u001b[0m\u001b[0mnode\u001b[0m\u001b[0;34m,\u001b[0m \u001b[0;34m)\u001b[0m\u001b[0;34m)\u001b[0m\u001b[0;34m\u001b[0m\u001b[0m\n\u001b[1;32m    290\u001b[0m \u001b[0;34m\u001b[0m\u001b[0m\n",
      "\u001b[0;32m/Users/Noelle/anaconda/lib/python2.7/site-packages/rdflib/plugins/serializers/turtle.pyc\u001b[0m in \u001b[0;36mp_default\u001b[0;34m(self, node, position, newline)\u001b[0m\n\u001b[1;32m    292\u001b[0m         \u001b[0;32mif\u001b[0m \u001b[0mposition\u001b[0m \u001b[0;34m!=\u001b[0m \u001b[0mSUBJECT\u001b[0m \u001b[0;32mand\u001b[0m \u001b[0;32mnot\u001b[0m \u001b[0mnewline\u001b[0m\u001b[0;34m:\u001b[0m\u001b[0;34m\u001b[0m\u001b[0m\n\u001b[1;32m    293\u001b[0m             \u001b[0mself\u001b[0m\u001b[0;34m.\u001b[0m\u001b[0mwrite\u001b[0m\u001b[0;34m(\u001b[0m\u001b[0;34m' '\u001b[0m\u001b[0;34m)\u001b[0m\u001b[0;34m\u001b[0m\u001b[0m\n\u001b[0;32m--> 294\u001b[0;31m         \u001b[0mself\u001b[0m\u001b[0;34m.\u001b[0m\u001b[0mwrite\u001b[0m\u001b[0;34m(\u001b[0m\u001b[0mself\u001b[0m\u001b[0;34m.\u001b[0m\u001b[0mlabel\u001b[0m\u001b[0;34m(\u001b[0m\u001b[0mnode\u001b[0m\u001b[0;34m,\u001b[0m \u001b[0mposition\u001b[0m\u001b[0;34m)\u001b[0m\u001b[0;34m)\u001b[0m\u001b[0;34m\u001b[0m\u001b[0m\n\u001b[0m\u001b[1;32m    295\u001b[0m         \u001b[0;32mreturn\u001b[0m \u001b[0mTrue\u001b[0m\u001b[0;34m\u001b[0m\u001b[0m\n\u001b[1;32m    296\u001b[0m \u001b[0;34m\u001b[0m\u001b[0m\n",
      "\u001b[0;32m/Users/Noelle/anaconda/lib/python2.7/site-packages/rdflib/plugins/serializers/turtle.pyc\u001b[0m in \u001b[0;36mlabel\u001b[0;34m(self, node, position)\u001b[0m\n\u001b[1;32m    308\u001b[0m             \u001b[0mnode\u001b[0m \u001b[0;34m=\u001b[0m \u001b[0mself\u001b[0m\u001b[0;34m.\u001b[0m\u001b[0mrelativize\u001b[0m\u001b[0;34m(\u001b[0m\u001b[0mnode\u001b[0m\u001b[0;34m)\u001b[0m\u001b[0;34m\u001b[0m\u001b[0m\n\u001b[1;32m    309\u001b[0m \u001b[0;34m\u001b[0m\u001b[0m\n\u001b[0;32m--> 310\u001b[0;31m             \u001b[0;32mreturn\u001b[0m \u001b[0mself\u001b[0m\u001b[0;34m.\u001b[0m\u001b[0mgetQName\u001b[0m\u001b[0;34m(\u001b[0m\u001b[0mnode\u001b[0m\u001b[0;34m,\u001b[0m \u001b[0mposition\u001b[0m \u001b[0;34m==\u001b[0m \u001b[0mVERB\u001b[0m\u001b[0;34m)\u001b[0m \u001b[0;32mor\u001b[0m \u001b[0mnode\u001b[0m\u001b[0;34m.\u001b[0m\u001b[0mn3\u001b[0m\u001b[0;34m(\u001b[0m\u001b[0;34m)\u001b[0m\u001b[0;34m\u001b[0m\u001b[0m\n\u001b[0m\u001b[1;32m    311\u001b[0m \u001b[0;34m\u001b[0m\u001b[0m\n\u001b[1;32m    312\u001b[0m     \u001b[0;32mdef\u001b[0m \u001b[0mp_squared\u001b[0m\u001b[0;34m(\u001b[0m\u001b[0mself\u001b[0m\u001b[0;34m,\u001b[0m \u001b[0mnode\u001b[0m\u001b[0;34m,\u001b[0m \u001b[0mposition\u001b[0m\u001b[0;34m,\u001b[0m \u001b[0mnewline\u001b[0m\u001b[0;34m=\u001b[0m\u001b[0mFalse\u001b[0m\u001b[0;34m)\u001b[0m\u001b[0;34m:\u001b[0m\u001b[0;34m\u001b[0m\u001b[0m\n",
      "\u001b[0;32m/Users/Noelle/anaconda/lib/python2.7/site-packages/rdflib/term.pyc\u001b[0m in \u001b[0;36mn3\u001b[0;34m(self, namespace_manager)\u001b[0m\n\u001b[1;32m    222\u001b[0m     \u001b[0;32mdef\u001b[0m \u001b[0mn3\u001b[0m\u001b[0;34m(\u001b[0m\u001b[0mself\u001b[0m\u001b[0;34m,\u001b[0m \u001b[0mnamespace_manager\u001b[0m \u001b[0;34m=\u001b[0m \u001b[0mNone\u001b[0m\u001b[0;34m)\u001b[0m\u001b[0;34m:\u001b[0m\u001b[0;34m\u001b[0m\u001b[0m\n\u001b[1;32m    223\u001b[0m         \u001b[0;32mif\u001b[0m \u001b[0;32mnot\u001b[0m \u001b[0m_is_valid_uri\u001b[0m\u001b[0;34m(\u001b[0m\u001b[0mself\u001b[0m\u001b[0;34m)\u001b[0m\u001b[0;34m:\u001b[0m\u001b[0;34m\u001b[0m\u001b[0m\n\u001b[0;32m--> 224\u001b[0;31m             \u001b[0;32mraise\u001b[0m \u001b[0mException\u001b[0m\u001b[0;34m(\u001b[0m\u001b[0;34m'\"%s\" does not look like a valid URI, I cannot serialize this as N3/Turtle. Perhaps you wanted to urlencode it?'\u001b[0m\u001b[0;34m%\u001b[0m\u001b[0mself\u001b[0m\u001b[0;34m)\u001b[0m\u001b[0;34m\u001b[0m\u001b[0m\n\u001b[0m\u001b[1;32m    225\u001b[0m \u001b[0;34m\u001b[0m\u001b[0m\n\u001b[1;32m    226\u001b[0m         \u001b[0;32mif\u001b[0m \u001b[0mnamespace_manager\u001b[0m\u001b[0;34m:\u001b[0m\u001b[0;34m\u001b[0m\u001b[0m\n",
      "\u001b[0;31mException\u001b[0m: \"https://graph.yummly.com/ingredient-Italian bread\" does not look like a valid URI, I cannot serialize this as N3/Turtle. Perhaps you wanted to urlencode it?"
     ]
    }
   ],
   "source": [
    "print g.serialize(format='turtle') # Er komt dus hier een error. Ik denk zelf dat het komt door de spaties in de \n",
    "# ingredient namen. Ik heb echt heel veel geprobeerd, er allerlei packages maar hij pakt hem gewoon niet... Beetje irritant..\n",
    "# misschien ziet een van jullie het licht morgen ochtend. Ik heb al urllib.parse gebrobeerd maar dat lukte niet, en ik heb\n",
    "# ook nog een paar andere packages van urllib geprobeerd maar dat lukte ook niet. Ook had ik nog .replace geprobeerd maar dat\n",
    "# ging ook niet. Dus misschien heeft iemand anders nog inspiratie. "
   ]
  },
  {
   "cell_type": "code",
   "execution_count": null,
   "metadata": {
    "collapsed": true
   },
   "outputs": [],
   "source": []
  },
  {
   "cell_type": "code",
   "execution_count": null,
   "metadata": {
    "collapsed": true
   },
   "outputs": [],
   "source": []
  }
 ],
 "metadata": {
  "anaconda-cloud": {},
  "kernelspec": {
   "display_name": "Python [Root]",
   "language": "python",
   "name": "Python [Root]"
  },
  "language_info": {
   "codemirror_mode": {
    "name": "ipython",
    "version": 2
   },
   "file_extension": ".py",
   "mimetype": "text/x-python",
   "name": "python",
   "nbconvert_exporter": "python",
   "pygments_lexer": "ipython2",
   "version": "2.7.12"
  }
 },
 "nbformat": 4,
 "nbformat_minor": 0
}
