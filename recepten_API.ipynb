{
 "cells": [
  {
   "cell_type": "code",
   "execution_count": 157,
   "metadata": {
    "collapsed": true
   },
   "outputs": [],
   "source": [
    "import requests\n",
    "import urllib"
   ]
  },
  {
   "cell_type": "markdown",
   "metadata": {},
   "source": [
    "Onderstaande code is de basis connectie met het API, er kunnen parameters toegevoegd worden om meer gespecificeerde informatie te verkrijgen. Op deze link staan alle parameters die we toe zouden kunnen voegen:\n",
    "https://developer.yummly.com/documentation"
   ]
  },
  {
   "cell_type": "code",
   "execution_count": 167,
   "metadata": {
    "collapsed": false
   },
   "outputs": [],
   "source": [
    "response = requests.get(\"http://api.yummly.com/v1/api/recipes?_app_id=2b082bfe&_app_key=905dfe0267500a98d67737f446479c11\")"
   ]
  },
  {
   "cell_type": "code",
   "execution_count": 159,
   "metadata": {
    "collapsed": false
   },
   "outputs": [],
   "source": [
    "mediterranean_main_recipes_15min = requests.get(\"http://api.yummly.com/v1/api/recipes?_app_id=2b082bfe&_app_key=905dfe0267500a98d67737f446479c11&allowedCuisine[]=cuisine^cuisine-mediterranean&allowedCuisine[]=cuisine^cuisine-italian&allowedCuisine[]=cuisine^cuisine-spanish&maxTotalTimeInSeconds=600&allowedCourse[]=course^course-Main Dishes\").json()\n",
    "# converted to json to be sure that the right json format is being used.  \n",
    "# Recipes which are either itlian, spanish or meditarean, which are a main course and take less than 15 minutes to cook. "
   ]
  },
  {
   "cell_type": "code",
   "execution_count": 168,
   "metadata": {
    "collapsed": false
   },
   "outputs": [
    {
     "ename": "TypeError",
     "evalue": "'Response' object has no attribute '__getitem__'",
     "output_type": "error",
     "traceback": [
      "\u001b[0;31m---------------------------------------------------------------------------\u001b[0m",
      "\u001b[0;31mTypeError\u001b[0m                                 Traceback (most recent call last)",
      "\u001b[0;32m<ipython-input-168-e817cf87b59f>\u001b[0m in \u001b[0;36m<module>\u001b[0;34m()\u001b[0m\n\u001b[1;32m     10\u001b[0m \u001b[0mg\u001b[0m\u001b[0;34m.\u001b[0m\u001b[0mbind\u001b[0m\u001b[0;34m(\u001b[0m\u001b[0;34m'rec'\u001b[0m\u001b[0;34m,\u001b[0m \u001b[0mREC\u001b[0m\u001b[0;34m)\u001b[0m\u001b[0;34m\u001b[0m\u001b[0m\n\u001b[1;32m     11\u001b[0m \u001b[0;34m\u001b[0m\u001b[0m\n\u001b[0;32m---> 12\u001b[0;31m \u001b[0mREC_URI\u001b[0m \u001b[0;34m=\u001b[0m \u001b[0mREC\u001b[0m\u001b[0;34m[\u001b[0m\u001b[0mresponse\u001b[0m\u001b[0;34m[\u001b[0m\u001b[0;34m\"ingredients\"\u001b[0m\u001b[0;34m]\u001b[0m\u001b[0;34m]\u001b[0m\u001b[0;34m\u001b[0m\u001b[0m\n\u001b[0m\u001b[1;32m     13\u001b[0m \u001b[0;32mprint\u001b[0m \u001b[0mREC_URI\u001b[0m\u001b[0;34m\u001b[0m\u001b[0m\n",
      "\u001b[0;31mTypeError\u001b[0m: 'Response' object has no attribute '__getitem__'"
     ]
    }
   ],
   "source": [
    "from rdflib import Graph, Namespace, URIRef, Literal, XSD, RDF\n",
    "\n",
    "# create an RDF graph\n",
    "g = Graph()\n",
    "\n",
    "\n",
    "\n",
    "REC = Namespace(\"yummly.com/\")\n",
    "\n",
    "g.bind('rec', REC)\n",
    "\n",
    "REC_URI = REC[response[\"ingredients\"]]\n",
    "print REC_URI"
   ]
  },
  {
   "cell_type": "code",
   "execution_count": 161,
   "metadata": {
    "collapsed": false
   },
   "outputs": [
    {
     "name": "stdout",
     "output_type": "stream",
     "text": [
      "[u'flavors', u'rating', u'totalTimeInSeconds', u'ingredients', u'smallImageUrls', u'sourceDisplayName', u'recipeName', u'attributes', u'id', u'imageUrlsBySize']\n"
     ]
    }
   ],
   "source": [
    "print mediterranean_main_recipes_15min['matches'][0].keys()"
   ]
  },
  {
   "cell_type": "code",
   "execution_count": 162,
   "metadata": {
    "collapsed": false
   },
   "outputs": [],
   "source": [
    "ingredient_list = []\n",
    "for recipe in mediterranean_main_recipes_15min['matches']:\n",
    "    for ingredient in recipe['ingredients']:\n",
    "        ingredient_list.append(ingredient)\n",
    "        \n",
    "recipe_name_list = []\n",
    "for recipe in mediterranean_main_recipes_15min['matches']:\n",
    "    recipe_name_list.append(recipe['recipeName'])\n",
    "\n",
    "cooking_time_list = []\n",
    "for recipe in mediterranean_main_recipes_15min['matches']:\n",
    "    cooking_time_list.append(recipe['totalTimeInSeconds'])"
   ]
  },
  {
   "cell_type": "code",
   "execution_count": 163,
   "metadata": {
    "collapsed": false
   },
   "outputs": [
    {
     "ename": "AssertionError",
     "evalue": "Subject jumbo shrimp must be an rdflib term",
     "output_type": "error",
     "traceback": [
      "\u001b[0;31m---------------------------------------------------------------------------\u001b[0m",
      "\u001b[0;31mAssertionError\u001b[0m                            Traceback (most recent call last)",
      "\u001b[0;32m<ipython-input-163-5db86abbdc3c>\u001b[0m in \u001b[0;36m<module>\u001b[0;34m()\u001b[0m\n\u001b[1;32m      1\u001b[0m \u001b[0;32mfor\u001b[0m \u001b[0mingredient\u001b[0m \u001b[0;32min\u001b[0m \u001b[0mingredient_list\u001b[0m\u001b[0;34m:\u001b[0m\u001b[0;34m\u001b[0m\u001b[0m\n\u001b[0;32m----> 2\u001b[0;31m     \u001b[0mg\u001b[0m\u001b[0;34m.\u001b[0m\u001b[0madd\u001b[0m\u001b[0;34m(\u001b[0m\u001b[0;34m(\u001b[0m\u001b[0mingredient\u001b[0m\u001b[0;34m,\u001b[0m \u001b[0mRDF\u001b[0m\u001b[0;34m.\u001b[0m\u001b[0mtype\u001b[0m\u001b[0;34m,\u001b[0m \u001b[0mLiteral\u001b[0m\u001b[0;34m(\u001b[0m\u001b[0mingredient\u001b[0m\u001b[0;34m)\u001b[0m\u001b[0;34m)\u001b[0m\u001b[0;34m)\u001b[0m\u001b[0;34m\u001b[0m\u001b[0m\n\u001b[0m",
      "\u001b[0;32m/Users/Noelle/anaconda/lib/python2.7/site-packages/rdflib/graph.pyc\u001b[0m in \u001b[0;36madd\u001b[0;34m(self, (s, p, o))\u001b[0m\n\u001b[1;32m    390\u001b[0m         \u001b[0;34m\"\"\"Add a triple with self as context\"\"\"\u001b[0m\u001b[0;34m\u001b[0m\u001b[0m\n\u001b[1;32m    391\u001b[0m         \u001b[0;32massert\u001b[0m \u001b[0misinstance\u001b[0m\u001b[0;34m(\u001b[0m\u001b[0ms\u001b[0m\u001b[0;34m,\u001b[0m \u001b[0mNode\u001b[0m\u001b[0;34m)\u001b[0m\u001b[0;34m,\u001b[0m\u001b[0;31m \u001b[0m\u001b[0;31m\\\u001b[0m\u001b[0;34m\u001b[0m\u001b[0m\n\u001b[0;32m--> 392\u001b[0;31m             \u001b[0;34m\"Subject %s must be an rdflib term\"\u001b[0m \u001b[0;34m%\u001b[0m \u001b[0;34m(\u001b[0m\u001b[0ms\u001b[0m\u001b[0;34m,\u001b[0m\u001b[0;34m)\u001b[0m\u001b[0;34m\u001b[0m\u001b[0m\n\u001b[0m\u001b[1;32m    393\u001b[0m         \u001b[0;32massert\u001b[0m \u001b[0misinstance\u001b[0m\u001b[0;34m(\u001b[0m\u001b[0mp\u001b[0m\u001b[0;34m,\u001b[0m \u001b[0mNode\u001b[0m\u001b[0;34m)\u001b[0m\u001b[0;34m,\u001b[0m\u001b[0;31m \u001b[0m\u001b[0;31m\\\u001b[0m\u001b[0;34m\u001b[0m\u001b[0m\n\u001b[1;32m    394\u001b[0m             \u001b[0;34m\"Predicate %s must be an rdflib term\"\u001b[0m \u001b[0;34m%\u001b[0m \u001b[0;34m(\u001b[0m\u001b[0mp\u001b[0m\u001b[0;34m,\u001b[0m\u001b[0;34m)\u001b[0m\u001b[0;34m\u001b[0m\u001b[0m\n",
      "\u001b[0;31mAssertionError\u001b[0m: Subject jumbo shrimp must be an rdflib term"
     ]
    }
   ],
   "source": [
    "for ingredient in ingredient_list:\n",
    "    g.add((ingredient, RDF.type, Literal(ingredient)))"
   ]
  },
  {
   "cell_type": "code",
   "execution_count": null,
   "metadata": {
    "collapsed": true
   },
   "outputs": [],
   "source": []
  }
 ],
 "metadata": {
  "anaconda-cloud": {},
  "kernelspec": {
   "display_name": "Python [Root]",
   "language": "python",
   "name": "Python [Root]"
  },
  "language_info": {
   "codemirror_mode": {
    "name": "ipython",
    "version": 2
   },
   "file_extension": ".py",
   "mimetype": "text/x-python",
   "name": "python",
   "nbconvert_exporter": "python",
   "pygments_lexer": "ipython2",
   "version": "2.7.12"
  }
 },
 "nbformat": 4,
 "nbformat_minor": 0
}
