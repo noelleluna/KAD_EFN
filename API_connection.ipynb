{
 "cells": [
  {
   "cell_type": "code",
   "execution_count": 41,
   "metadata": {
    "collapsed": true
   },
   "outputs": [],
   "source": [
    "import requests"
   ]
  },
  {
   "cell_type": "markdown",
   "metadata": {},
   "source": [
    "Onderstaande code is de basis connectie met het API, er kunnen parameters toegevoegd worden om meer gespecificeerde informatie te verkrijgen. Op deze link staan alle parameters die we toe zouden kunnen voegen:\n",
    "https://developer.yummly.com/documentation"
   ]
  },
  {
   "cell_type": "code",
   "execution_count": 62,
   "metadata": {
    "collapsed": false
   },
   "outputs": [
    {
     "name": "stdout",
     "output_type": "stream",
     "text": [
      "{\"criteria\":{\"q\":null,\"allowedIngredient\":null,\"excludedIngredient\":null},\"matches\":[{\"imageUrlsBySize\":{\"90\":\"https://lh3.googl\n",
      "eusercontent.com/So235b6of0RRRppQWcWUKWLggtyYzEv2D1d42pv9bc2pQsnqsTsXxfXOhnUKMugp4qN1E12tkrVZwRdSmyYVVw=s90-c\"},\"sourceDisplayNa\n",
      "me\":\"Perdue.com\",\"ingredients\":[\"PERDUE® FRESH CUTS™ Chicken Breast Strips\",\"honey\",\"stone ground mustard\",\"orange juice\",\"so\n",
      "y sauce\",\"corn starch\",\"cold water\",\"couscous\"],\"id\":\"Honey-Mustard-Slow-Cooker-Chicken-2221106\",\"smallImageUrls\":[\"https://lh3.\n",
      "googleusercontent.com/JL89gxvevrZEpsctfXuJL3Tgrvn-10-La4DWSyfzGcT_77ykM-UuUEqDgo97MIdSo6sw1NiEzxFREAmSz0aI0Q=s90\"],\"recipeName\":\n",
      "\"Honey Mustard Slow Cooker Chicken\",\"totalTimeInSeconds\":1440600,\"attributes\":{\"course\":[\"Main Dishes\"]},\"flavors\":null,\"rating\"\n",
      ":3},{\"imageUrlsBySize\":{\"90\":\"https://lh3.googleusercontent.com/Udz3197HvbRLu1rNUAuJrHDPbPgTO7JJjwVuD1y3tT2muNiP2SqDKfORdaC_IoWO\n",
      "I7H3Iws7INrysUHgANrgSQ=s90-c\"},\"sourceDisplayName\":\"The Pioneer Woman\",\"ingredients\":[\"russet potatoes\",\"salt\",\"pepper\",\"large e\n",
      "ggs\",\"nonstick spray\"],\"id\":\"Eggs-in-hash-brown-nests-352693\",\"smallImageUrls\":[\"https://lh3.googleusercontent.com/WilYoHldNYB9L\n",
      "yXALuhggpNkH77SfIBxlxGqgV-ojDLFSplIJx219iLjngdUVT1Dz24iCxr2TmJ8pN9FKmP--g=s90\"],\"recipeName\":\"Eggs in Hash Brown Nests\",\"totalTi\n",
      "meInSeconds\":4800,\"attributes\":{\"course\":[\"Breakfast and Brunch\"]},\"flavors\":null,\"rating\":5},{\"imageUrlsBySize\":{\"90\":\"https://\n",
      "lh3.googleusercontent.com/eP5enCk5KmX9zpi-VmQvgIVEheU7VyX1eMldELEjMA3E_KN3-wxsYie1IrF5wtk9KOBAbNzTha_YxBWRq6z2Fw=s90-c\"},\"source\n",
      "DisplayName\":\"Kalyn's Kitchen\",\"ingredients\":[\"zucchini\",\"garlic\",\"olive oil\",\"thyme\",\"salt and ground black pepper\"],\"id\":\"Roas\n",
      "ted-Squash-with-Garlic-2234857\",\"smallImageUrls\":[\"https://lh3.googleusercontent.com/VZEXjYGpuv3HnB1-dwLyZcHEem44izeZsywZg0LUjZ9\n",
      "JHj7F1F0Jj6S8SzRLwMznL3h7zyAGwoxGB3s_q3j1Hw=s90\"],\"recipeName\":\"Roasted Squash with Garlic\",\"totalTimeInSeconds\":2400,\"attribute\n",
      "s\":{},\"flavors\":null,\"rating\":4},{\"imageUrlsBySize\":{\"90\":\"http://lh4.ggpht.com/ybxdA6UZ33R4HrZwUB37ruKqE53e5DXMDxqydt62cN4TYfta\n",
      "TOtds06DF4cX9PfuVQqKD25uL6pQOwz87MeS=s90-c\"},\"sourceDisplayName\":\"Emily Bites\",\"ingredients\":[\"frozen puff pastry sheets\",\"olive\n",
      " oil\",\"garlic cloves\",\"fresh spinach\",\"pepper\",\"parmesan cheese\",\"feta cheese crumbles\"],\"id\":\"Cheesy-Spinach-Pinwheels-931846\",\n",
      "\"smallImageUrls\":[\"http://lh5.ggpht.com/kBCwYnArxf_Su16xNBYoZIS7O6rGWcHCyKNDJZfQFRPp-6PUn6ALN8DQMXZLZIX356L8VX_WkXobxou6dJSnp5w=\n",
      "s90\"],\"recipeName\":\"Cheesy Spinach Pinwheels\",\"totalTimeInSeconds\":3600,\"attributes\":{\"course\":[\"Appetizers\"]},\"flavors\":null,\"r\n",
      "ating\":4},{\"imageUrlsBySize\":{\"90\":\"https://lh3.googleusercontent.com/xCS2w6rK01kMqzDJv6tu_oFPOUcHZUlE2i8Nj2gpDnoCIpg0Jh3o5Ef6lk\n",
      "DZ0lt3KyLNlgsgpa5FIXfXfYIWzvE=s90-c\"},\"sourceDisplayName\":\"Fit Foodie Finds\",\"ingredients\":[\"extra-virgin olive oil\",\"minced gar\n",
      "lic\",\"sweet potatoes\",\"red pepper\",\"yellow onion\",\"chicken sausage\",\"kale\",\"salt\",\"pepper\",\"balsamic vinegar\"],\"id\":\"Sweet-Potat\n",
      "o-Kale-Hash-1549505\",\"smallImageUrls\":[\"https://lh3.googleusercontent.com/F0uXf5MVkGLKd-dkLg6L3AvF3FC4Iyeq7MMrd2PIZ5n5SquLZQqcLQ\n",
      "PzHlvHFCsUqKgg85MCkmVwz5gTJoap7A=s90\"],\"recipeName\":\"Sweet Potato Kale Hash\",\"totalTimeInSeconds\":1800,\"attributes\":{},\"flavors\"\n",
      ":{\"sweet\":0.16666666666666666,\"piquant\":0.16666666666666666,\"sour\":0.8333333333333334,\"salty\":0.8333333333333334,\"meaty\":0.66666\n",
      "66666666666,\"bitter\":0.6666666666666666},\"rating\":4},{\"imageUrlsBySize\":{\"90\":\"https://lh3.googleusercontent.com/jDy3MkRC8CBNr4p\n",
      "I4prSo6fvYb7NnYE5qTYPLqyTTEWWnFfop_YtWYQsZCjBYBq5FhzOqFfYBx6kF7LjmeM8=s90-c\"},\"sourceDisplayName\":\"Unilever North America\",\"ingr\n",
      "edients\":[\"fresh corn\",\"honey\",\"extra-virgin olive oil\",\"dressing\",\"parmigiano reggiano cheese\",\"fresh mint\",\"crushed red pepper\n",
      " flakes\"],\"id\":\"Mario-Batali_s-Grilled-Corn-Italian-Style-2204415\",\"smallImageUrls\":[\"https://lh3.googleusercontent.com/9Kwp2ToI\n",
      "RQBcdRqxqmayxdvB8QkfVvPBtB5KXjT9cyVFBWToyWvnISUrs8VaYfnG6jAUv1W4OOxnXW-V2Z3fcA=s90\"],\"recipeName\":\"Mario Batali's Grilled Corn I\n",
      "talian Style\",\"totalTimeInSeconds\":1020,\"attributes\":{\"cuisine\":[\"Barbecue\",\"Italian\"]},\"flavors\":null,\"rating\":3},{\"imageUrlsBy\n",
      "Size\":{\"90\":\"http://lh5.ggpht.com/D12S8eRU53nvoJxDaNksCgWG8_AiAJsbdaOpkZJt85DlINFLX9elifxpSHecxrIrdrZ5AEeFs2yNkhjUB_ZmitU=s90-c\"\n",
      "},\"sourceDisplayName\":\"Spend with Pennies\",\"ingredients\":[\"white bread\",\"apple pie filling\",\"melted butter\",\"sugar\",\"cinnamon\"],\n",
      "\"id\":\"Baked-Apple-Pie-Roll-Ups-593599\",\"smallImageUrls\":[\"http://lh5.ggpht.com/eUGCFo3up5O0ZEXs8QsWoh2x-U4UOThExckzDer36bH96wJkF\n",
      "mG40JQiTxGFYQGsQXB4uTrcYYT0DRIA7Hed1FM=s90\"],\"recipeName\":\"Baked Apple Pie Roll Ups\",\"totalTimeInSeconds\":1800,\"attributes\":{\"co\n",
      "urse\":[\"Desserts\",\"Lunch\"]},\"flavors\":{\"piquant\":0.0,\"meaty\":0.16666666666666666,\"bitter\":0.16666666666666666,\"sweet\":0.66666666\n",
      "66666666,\"sour\":0.16666666666666666,\"salty\":0.5},\"rating\":4},{\"imageUrlsBySize\":{\"90\":\"https://lh3.googleusercontent.com/V19cJLg\n",
      "X3oCnBVlztU8F2hheG4oLujyOtS2gNR9qcXv8lsEpD83aJU9YhRtvQhcqjg7sgImiojwyHPl_V1qD7Ik=s90-c\"},\"sourceDisplayName\":\"Betty Crocker\",\"in\n",
      "gredients\":[\"cooked chicken\",\"celery\",\"onions\",\"mayonnaise\",\"salt\",\"pepper\",\"bread\"],\"id\":\"Chicken-Salad-Sandwiches-2087237\",\"sm\n",
      "allImageUrls\":[\"https://lh3.googleusercontent.com/Ay5kfhAzSPyNsMGLkohIstl7O-VBzU-0h6BXgq-9zx-WbIqomzDhAytT3yROX2_zCqxReHQ4SAR5Ht\n",
      "eAFT-LeA4=s90\"],\"recipeName\":\"Chicken Salad Sandwiches\",\"totalTimeInSeconds\":900,\"attributes\":{\"course\":[\"Lunch\"]},\"flavors\":{\"p\n",
      "iquant\":0.0,\"meaty\":0.6666666666666666,\"bitter\":0.6666666666666666,\"sweet\":0.3333333333333333,\"sour\":0.16666666666666666,\"salty\"\n",
      ":0.8333333333333334},\"rating\":3},{\"imageUrlsBySize\":{\"90\":\"https://lh3.googleusercontent.com/E9NWPWDhOWkWL-UoyZXv_VUJyOKiPZmFzM4\n",
      "P6hyHnG1UvMyIj108mrqKEsyBa8s9ssW2D-TVRT-oCkFSBDIazBI=s90-c\"},\"sourceDisplayName\":\"Home Healthy Recipes\",\"ingredients\":[\"cinnamon\n",
      "\",\"apple cider vinegar\",\"honey\",\"lemon juice\",\"water\"],\"id\":\"Detox-Drink-That-Burns-Fat-And-Boosts-The-Metabolism-1813802\",\"smal\n",
      "lImageUrls\":[\"https://lh3.googleusercontent.com/MTguJDLtQPzBYFbsWDTwKD0eyyXMqxbLfCfHGhjnWD8EIBjBJ0xzgspsAgspVuhL_i2UzZGxxzI0aWRC\n",
      "JF4u=s90\"],\"recipeName\":\"Detox Drink That Burns Fat And Boosts The Metabolism\",\"totalTimeInSeconds\":600,\"attributes\":{\"course\":[\n",
      "\"Beverages\"]},\"flavors\":null,\"rating\":4},{\"imageUrlsBySize\":{\"90\":\"https://lh3.googleusercontent.com/Rv-SOs4izR7DltbDtoHAKuwp6of\n",
      "I-GBe_5Z2sOVg7_9hL0Yfx5AR2WF2iWKPPjwhJ8YyyPYHOHQTR9VRm1JW=s90-c\"},\"sourceDisplayName\":\"The Foodie Patootie\",\"ingredients\":[\"baki\n",
      "ng potatoes\",\"canola oil\",\"salt\",\"parsley\",\"parmesan cheese\"],\"id\":\"The-Best-Pan-Fried-Breakfast-Potatoes-2185030\",\"smallImageUr\n",
      "ls\":[\"https://lh3.googleusercontent.com/4qkYSuBjNwDINXqwm4TGCNv96pwaFBxU3By9jJhtFr4nbgD3ivZNK-BmydPGbWNeTHwNejE3wiHgg4TsotUF=s90\n",
      "\"],\"recipeName\":\"The Best Pan-Fried Breakfast Potatoes\",\"totalTimeInSeconds\":1500,\"attributes\":{\"course\":[\"Breakfast and Brunch\"\n",
      ",\"Side Dishes\"]},\"flavors\":{\"piquant\":0.0,\"meaty\":0.16666666666666666,\"bitter\":0.8333333333333334,\"sweet\":0.0,\"sour\":0.666666666\n",
      "6666666,\"salty\":0.16666666666666666},\"rating\":4}],\"facetCounts\":{},\"totalMatchCount\":1699413,\"attribution\":{\"html\":\"Recipe searc\n",
      "h powered by <a href='http://www.yummly.co/recipes'><img alt='Yummly' src='https://static.yummly.co/api-logo.png'/></a>\",\"url\":\"\n",
      "http://www.yummly.co/recipes/\",\"text\":\"Recipe search powered by Yummly\",\"logo\":\"https://static.yummly.co/api-logo.png\"}}\n"
     ]
    }
   ],
   "source": [
    "response = requests.get(\"http://api.yummly.com/v1/api/recipes?_app_id=2b082bfe&_app_key=905dfe0267500a98d67737f446479c11\")\n",
    "for recipe in response:\n",
    "    print recipe"
   ]
  },
  {
   "cell_type": "code",
   "execution_count": 65,
   "metadata": {
    "collapsed": false
   },
   "outputs": [
    {
     "name": "stdout",
     "output_type": "stream",
     "text": [
      "{\"criteria\":{\"allowedIngredient\":[\"carrot\"],\"requirePictures\":true,\"q\":null,\"excludedIngredient\":null},\"matches\":[{\"imageUrlsByS\n",
      "ize\":{\"90\":\"https://lh3.googleusercontent.com/vyGgSUdoXDZn8k7Vjda_4dloxXeUZd5-pdrsSoVbiBxEz1pfkH0qoXES9QzxCfb2bYlEOJksauykVqVel6\n",
      "_Fgg=s90-c\"},\"sourceDisplayName\":\"favorite National Foods\",\"ingredients\":[\"olive oil\",\"onions\",\"carrots\",\"red bell pepper\",\"salt\n",
      "\",\"garlic\",\"chili powder\",\"ground cumin\",\"ground turkey\",\"chicken stock\",\"dried oregano\",\"bay leaf\",\"tomato paste\",\"cider vinega\n",
      "r\",\"black beans\",\"freshly ground black pepper\"],\"id\":\"Black-Bean-Turkey-Chili-2108123\",\"smallImageUrls\":[\"https://lh3.googleuser\n",
      "content.com/_1SAEasVZ_1a1jpLhOpnihemLhPd1Yd_CCzoLUIlzIz3jxdakuOJikEQWLaUnhCdx_orHhspMF5YAfJfeSdydV0=s90\"],\"recipeName\":\"Black Be\n",
      "an Turkey Chili\",\"totalTimeInSeconds\":5100,\"attributes\":{\"course\":[\"Main Dishes\"]},\"flavors\":{\"piquant\":0.5,\"meaty\":0.1666666666\n",
      "6666666,\"bitter\":0.16666666666666666,\"sweet\":0.16666666666666666,\"sour\":0.8333333333333334,\"salty\":0.5},\"rating\":4},{\"imageUrlsB\n",
      "ySize\":{\"90\":\"https://lh3.googleusercontent.com/e2DuGFKLDaj_lzdDoTUQSHq-9KeUFtlsv7-W2meNBkzn42n308SAqVC1W1BEMw_zFkAg_K1SIvAg-EFc\n",
      "EbcREA=s90-c\"},\"sourceDisplayName\":\"Cooking Classy\",\"ingredients\":[\"rice noodles\",\"boneless skinless chicken breasts\",\"vegetable\n",
      " oil\",\"dark brown sugar\",\"soy sauce\",\"rice vinegar\",\"lime juice\",\"fish sauce\",\"red bell pepper\",\"matchstick carrots\",\"garlic\",\"g\n",
      "reen onions\",\"beansprouts\",\"large eggs\",\"unsalted roasted peanuts\",\"cilantro\",\"red pepper flakes\",\"sesame seeds\"],\"id\":\"Chicken-\n",
      "Pad-Thai-2213155\",\"smallImageUrls\":[\"https://lh3.googleusercontent.com/wxHAOLhlPjO1Vm0nUPYfLdhlSY9fy-_LiJheciGzbVSmFY3TwK0vUD6Sq\n",
      "u3EbFslSyzfJm_LxV8yO2mg8GoZ=s90\"],\"recipeName\":\"Chicken Pad Thai\",\"totalTimeInSeconds\":2100,\"attributes\":{\"course\":[\"Main Dishes\n",
      "\"],\"cuisine\":[\"Asian\"]},\"flavors\":{\"piquant\":0.5,\"meaty\":0.3333333333333333,\"bitter\":0.6666666666666666,\"sweet\":0.33333333333333\n",
      "33,\"sour\":0.8333333333333334,\"salty\":0.8333333333333334},\"rating\":4},{\"imageUrlsBySize\":{\"90\":\"https://lh3.googleusercontent.com\n",
      "/IrJbvZJrMepZLpSQBDbDE1KEbDkR3Akz2PsrB1tjl7EFjZyke26YazQ1OQdiH-hBnQUfD7mBQahT9TI_sNVXpg=s90-c\"},\"sourceDisplayName\":\"Life in the\n",
      " Lofthouse\",\"ingredients\":[\"boneless skinless chicken breasts\",\"russet potatoes\",\"baby carrots\",\"condensed cream of chicken soup\n",
      "\",\"ranch salad dressing mix\",\"milk\",\"chopped parsley\"],\"id\":\"Crock-Pot-Creamy-Ranch-Chicken-2190580\",\"smallImageUrls\":[\"https://\n",
      "lh3.googleusercontent.com/OPkIZtgZCg9317ScPVqHKpcyqV2RSUSY4pzcNxsKNJYDemFYWHNQvgsHGSuOX8Nt4T3rbb6kCl60CWSvAx5o=s90\"],\"recipeName\n",
      "\":\"Crock Pot Creamy Ranch Chicken\",\"totalTimeInSeconds\":18900,\"attributes\":{\"course\":[\"Main Dishes\"]},\"flavors\":{\"piquant\":0.0,\"\n",
      "meaty\":0.16666666666666666,\"bitter\":0.16666666666666666,\"sweet\":0.16666666666666666,\"sour\":0.16666666666666666,\"salty\":0.3333333\n",
      "333333333},\"rating\":4},{\"imageUrlsBySize\":{\"90\":\"https://lh3.googleusercontent.com/ks873q9aAIfIY2DeKnXlEzWTMkWA1y2-bQElfJcjAQkzs\n",
      "BTFl7ldwHORM2DGJdK6IC6W1OcvyRiMJrKQZ2O5xg=s90-c\"},\"sourceDisplayName\":\"Once Upon A Chef\",\"ingredients\":[\"medium carrot\",\"extra-v\n",
      "irgin olive oil\",\"curry powder\",\"kosher salt\",\"honey\"],\"id\":\"Curried-Roasted-Carrots-2087313\",\"smallImageUrls\":[\"https://lh3.goo\n",
      "gleusercontent.com/mVYuc_r0EDREDepfWJJiwQMTIDPCg-gO9MoxXqsQ1XoenhngCONrAKNgCN0iYXbp3z6NSMCApLX7xwxmeYD4=s90\"],\"recipeName\":\"Curr\n",
      "ied Roasted Carrots\",\"totalTimeInSeconds\":2400,\"attributes\":{\"course\":[\"Side Dishes\"]},\"flavors\":null,\"rating\":4},{\"imageUrlsByS\n",
      "ize\":{\"90\":\"https://lh3.googleusercontent.com/CtufBB-g4umjPkIsb0myEOAkTZRZgCSH7wFDvbfvaUqHNOu4vNxYipk0z3-HyYR6DMn4d2UrHc6UKFeF74\n",
      "wSuQQ=s90-c\"},\"sourceDisplayName\":\"Southern Plate\",\"ingredients\":[\"ground beef\",\"onions\",\"potatoes\",\"baby carrots\",\"sauce\"],\"id\"\n",
      ":\"Hobo-Packets-2181856\",\"smallImageUrls\":[\"https://lh3.googleusercontent.com/sBebPkUY9x3wPCqBHxkStabzFO9D-pIYyHz7eOEg3sBY158ldLk\n",
      "RvF3kHQ5MwF2bOdic9BOzsRcUkxjn1-uxEQ=s90\"],\"recipeName\":\"Hobo Packets\",\"totalTimeInSeconds\":5100,\"attributes\":{\"course\":[\"Main Di\n",
      "shes\"]},\"flavors\":null,\"rating\":4},{\"imageUrlsBySize\":{\"90\":\"https://lh3.googleusercontent.com/mAPwuRClQNJ6kEHlOgVpEJx1099vSNvYu\n",
      "nFmIlilihzWVqaCxS2Dbh82wB9lSoP-yswokB6HYODsI9o7yVldzQ=s90-c\"},\"sourceDisplayName\":\"The Whole Cook\",\"ingredients\":[\"lean ground b\n",
      "eef\",\"yellow onion\",\"beef broth\",\"medium potatoes\",\"medium carrot\",\"frozen green beans\",\"diced tomatoes\",\"tomato paste\",\"garlic\"\n",
      ",\"thyme\",\"oregano\",\"salt\",\"onion powder\",\"black pepper\",\"chopped parsley\"],\"id\":\"Healthy-30-Minute-Hamburger-Soup-2228540\",\"smal\n",
      "lImageUrls\":[\"https://lh3.googleusercontent.com/j9buOr_lJUw6Rf2kfb98MpwrMAa0xaEcsWfShV6wD-xS7De8lj07iSIORuO_hKRMcXQpwf6jsbuXFLvH\n",
      "Vkwe8EU=s90\"],\"recipeName\":\"Healthy 30 Minute Hamburger Soup\",\"totalTimeInSeconds\":1800,\"attributes\":{\"course\":[\"Soups\"]},\"flavo\n",
      "rs\":{\"piquant\":0.0,\"meaty\":0.16666666666666666,\"bitter\":0.5,\"sweet\":0.16666666666666666,\"sour\":0.5,\"salty\":0.6666666666666666},\"\n",
      "rating\":4},{\"imageUrlsBySize\":{\"90\":\"https://lh3.googleusercontent.com/qnlZ6YtTRtmfaTLX-VTCtr_uVd887wR881Mch0NGhIW6WJ4XxbpLWXUuT\n",
      "27F5piMZ_aK2jnFSHjtI5ylq0tM=s90-c\"},\"sourceDisplayName\":\"Southern Bite\",\"ingredients\":[\"butter\",\"carrots\",\"celery ribs\",\"onions\"\n",
      ",\"garlic cloves\",\"chicken stock\",\"cheese tortellini\"],\"id\":\"30-Minute-Cheese-Tortellini-Soup-1906378\",\"smallImageUrls\":[\"https:/\n",
      "/lh3.googleusercontent.com/lsnHTLcowd5oTxUWSMfoXOMmjrbGNWpIN3F1x_yRVtBCj2vofauXChI30EMmVyIlkKTyiTNREM6iTg1gvO2Gug=s90\"],\"recipeN\n",
      "ame\":\"30-Minute Cheese Tortellini Soup\",\"totalTimeInSeconds\":1800,\"attributes\":{\"course\":[\"Soups\"]},\"flavors\":{\"piquant\":0.0,\"me\n",
      "aty\":0.16666666666666666,\"bitter\":0.16666666666666666,\"sweet\":0.16666666666666666,\"sour\":0.16666666666666666,\"salty\":0.333333333\n",
      "3333333},\"rating\":4},{\"imageUrlsBySize\":{\"90\":\"https://lh3.googleusercontent.com/ygWK1wdC-bjovw_aeLdcDHk879QwhUerQ9NMTCM_z8sJgrl\n",
      "1XoCXL_lz_39Btjg4mY2VnypHLXtf3uWF2_1Dig=s90-c\"},\"sourceDisplayName\":\"Sweet Somethings\",\"ingredients\":[\"bone-in skin-on chicken t\n",
      "highs\",\"baby potatoes\",\"baby carrots\",\"olive oil\",\"salt\",\"pepper\"],\"id\":\"Quick-and-Easy-4-Ingredient-Dinner-1558225\",\"smallImage\n",
      "Urls\":[\"https://lh3.googleusercontent.com/DbHQBf0uR1OQkJlF_s1D7E04lip5HOf3k_Gzs6TdFt5WZ96qUWhsghCcE5fTDjUC1odvrHmP4GwgGkxrQRM8NQ\n",
      "=s90\"],\"recipeName\":\"Quick and Easy 4 Ingredient Dinner\",\"totalTimeInSeconds\":4500,\"attributes\":{\"course\":[\"Main Dishes\"]},\"flav\n",
      "ors\":{\"piquant\":0.0,\"meaty\":0.5,\"bitter\":0.16666666666666666,\"sweet\":0.16666666666666666,\"sour\":0.5,\"salty\":0.16666666666666666}\n",
      ",\"rating\":4},{\"imageUrlsBySize\":{\"90\":\"https://lh3.googleusercontent.com/iEXAVSqdI2SNJi3nbB7ogMOWyd7_XukmVKTmLx1Lt9ETDMbaSimIPgL\n",
      "vTAT_YzulCLfZ6gXEIb9KnAZbTHmvXA=s90-c\"},\"sourceDisplayName\":\"Sweetphi\",\"ingredients\":[\"red lentils\",\"large carrots\",\"red bell pe\n",
      "pper\",\"celery ribs\",\"kale\",\"russet potatoes\",\"jalapeno chilies\",\"garlic cloves\",\"onions\",\"salt\",\"parsley\",\"paprika\",\"oregano\",\"g\n",
      "arlic salt\",\"cayenne pepper\",\"vegetable stock\"],\"id\":\"Healthy-Slow-Cooker-Lentil-and-Vegetable-Soup-1985182\",\"smallImageUrls\":[\"\n",
      "https://lh3.googleusercontent.com/T360gBRdy-FU-wrowww1LcoCvDsICdN4iIbcScREa5YbJL2-JDgr0VacgiJ1bWZVra_CwM3aZmLQFaHOrKsSjg=s90\"],\"\n",
      "recipeName\":\"Healthy Slow Cooker Lentil and Vegetable Soup\",\"totalTimeInSeconds\":18900,\"attributes\":{\"course\":[\"Soups\"]},\"flavor\n",
      "s\":{\"piquant\":0.6666666666666666,\"meaty\":0.16666666666666666,\"bitter\":0.3333333333333333,\"sweet\":0.16666666666666666,\"sour\":0.5,\n",
      "\"salty\":0.6666666666666666},\"rating\":4},{\"imageUrlsBySize\":{\"90\":\"https://lh3.googleusercontent.com/WLwLoky-B7OQfXpLktKNpGyHZSVt\n",
      "NHM1vBDWD3TJnJ9o60YsQacCHYugusLgM_OOzfxpvVvW3gpoYL6eXaQUTw=s90-c\"},\"sourceDisplayName\":\"Hamilton Beach\",\"ingredients\":[\"pot roas\n",
      "t\",\"salt\",\"pepper\",\"medium potatoes\",\"carrots\",\"onions\",\"beef broth\"],\"id\":\"Slow-Cooker-Beef-Pot-Roast-1504294\",\"smallImageUrls\"\n",
      ":[\"https://lh3.googleusercontent.com/hsYU2vD0gdWsQF-oY9elEcA7qaWRaazX-b8aPDEujEw1o6E2Q3GbSbPJQL1QGRs5ydTrRHfbQ_aBtVIVJk13=s90\"],\n",
      "\"recipeName\":\"Slow Cooker Beef Pot Roast\",\"totalTimeInSeconds\":900,\"attributes\":{\"course\":[\"Main Dishes\"],\"holiday\":[\"Sunday Lun\n",
      "ch\"]},\"flavors\":{\"piquant\":0.0,\"meaty\":0.8333333333333334,\"bitter\":0.6666666666666666,\"sweet\":0.16666666666666666,\"sour\":0.66666\n",
      "66666666666,\"salty\":0.3333333333333333},\"rating\":4}],\"facetCounts\":{},\"totalMatchCount\":76634,\"attribution\":{\"html\":\"Recipe sear\n",
      "ch powered by <a href='http://www.yummly.co/recipes'><img alt='Yummly' src='https://static.yummly.co/api-logo.png'/></a>\",\"url\":\n",
      "\"http://www.yummly.co/recipes/\",\"text\":\"Recipe search powered by Yummly\",\"logo\":\"https://static.yummly.co/api-logo.png\"}}\n"
     ]
    }
   ],
   "source": [
    "ingredients = requests.get(\"http://api.yummly.com/v1/api/recipes?_app_id=2b082bfe&_app_key=905dfe0267500a98d67737f446479c11&allowedIngredient[]=carrot&requirePictures=true\")\n",
    "for dish in ingredients:\n",
    "     print dish\n",
    "\n",
    "#toegevoegde parameter: &q=falafel en &requirePictures=true voor de picca's "
   ]
  },
  {
   "cell_type": "code",
   "execution_count": 61,
   "metadata": {
    "collapsed": false
   },
   "outputs": [],
   "source": [
    "AsianQuisine = requests.get(\"http://api.yummly.com/v1/api/recipes?_app_id=2b082bfe&_app_key=905dfe0267500a98d67737f446479c11&allowedCuisine[]=cuisine^cuisine-hongarian\")\n",
    "# for dishes in AsianQuisine:\n",
    "#     print dishes\n",
    "\n",
    "#toegevoegde parameter: &allowedCuisine[]=cuisine^cuisine-asian"
   ]
  },
  {
   "cell_type": "code",
   "execution_count": 26,
   "metadata": {
    "collapsed": false
   },
   "outputs": [],
   "source": [
    "twenty_minutes = requests.get(\"http://api.yummly.com/v1/api/recipes?_app_id=2b082bfe&_app_key=905dfe0267500a98d67737f446479c11&maxTotalTimeInSeconds=1200\")\n",
    "# for dish in twenty_minutes:\n",
    "#     print dish\n",
    "    \n",
    "#toegevoegde parameter: &maxTotalTimeInSeconds=1200"
   ]
  },
  {
   "cell_type": "code",
   "execution_count": 38,
   "metadata": {
    "collapsed": false
   },
   "outputs": [],
   "source": [
    "no_sugar = requests.get(\"http://api.yummly.com/v1/api/recipes?_app_id=2b082bfe&_app_key=905dfe0267500a98d67737f446479c11&nutrition.SUGAR.max=0\")\n",
    "# for dish in no_sugar:\n",
    "#     print dish\n",
    "\n",
    "#toegeovoegde parameter: &nutrition.SUGAR.max=0"
   ]
  },
  {
   "cell_type": "code",
   "execution_count": 52,
   "metadata": {
    "collapsed": true
   },
   "outputs": [],
   "source": [
    "basis_recipe_search = requests.get(\"http://api.yummly.com/v1/api/recipe/?_app_id=2b082bfe&_app_key=905dfe0267500a98d67737f446479c11\")\n",
    "# hier gaat het een beetje anders, we zoeken hier namelijk op recept en niet op criteria. \n",
    "# na het woordje recipe voeg je de naam van het recept toe"
   ]
  },
  {
   "cell_type": "code",
   "execution_count": 59,
   "metadata": {
    "collapsed": false
   },
   "outputs": [],
   "source": [
    "OnionSoup = requests.get(\"http://api.yummly.com/v1/api/recipe/French-Onion-Soup-The-Pioneer-Woman-Cooks-_-Ree-Drummond-41364?_app_id=2b082bfe&_app_key=905dfe0267500a98d67737f446479c11\")\n",
    "# for content in OnionSoup:\n",
    "#     print content\n",
    "    \n",
    "# hier is gezocht op: French-Onion-Soup-The-Pioneer-Woman-Cooks-_-Ree-Drummond-41364"
   ]
  },
  {
   "cell_type": "code",
   "execution_count": null,
   "metadata": {
    "collapsed": true
   },
   "outputs": [],
   "source": []
  }
 ],
 "metadata": {
  "kernelspec": {
   "display_name": "Python [Root]",
   "language": "python",
   "name": "Python [Root]"
  },
  "language_info": {
   "codemirror_mode": {
    "name": "ipython",
    "version": 2
   },
   "file_extension": ".py",
   "mimetype": "text/x-python",
   "name": "python",
   "nbconvert_exporter": "python",
   "pygments_lexer": "ipython2",
   "version": "2.7.12"
  }
 },
 "nbformat": 4,
 "nbformat_minor": 0
}
