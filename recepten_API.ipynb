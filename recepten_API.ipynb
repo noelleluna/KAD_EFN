{
 "cells": [
  {
   "cell_type": "code",
   "execution_count": 3,
   "metadata": {
    "collapsed": true
   },
   "outputs": [],
   "source": [
    "import requests\n",
    "import urllib"
   ]
  },
  {
   "cell_type": "markdown",
   "metadata": {},
   "source": [
    "Onderstaande code is de basis connectie met het API, er kunnen parameters toegevoegd worden om meer gespecificeerde informatie te verkrijgen. Op deze link staan alle parameters die we toe zouden kunnen voegen:\n",
    "https://developer.yummly.com/documentation"
   ]
  },
  {
   "cell_type": "code",
   "execution_count": 4,
   "metadata": {
    "collapsed": false
   },
   "outputs": [],
   "source": [
    "response = requests.get(\"http://api.yummly.com/v1/api/recipes?_app_id=2b082bfe&_app_key=905dfe0267500a98d67737f446479c11\")"
   ]
  },
  {
   "cell_type": "code",
   "execution_count": 5,
   "metadata": {
    "collapsed": false
   },
   "outputs": [],
   "source": [
    "mediterranean_main_recipes_15min = requests.get(\"http://api.yummly.com/v1/api/recipes?_app_id=2b082bfe&_app_key=905dfe0267500a98d67737f446479c11&allowedCuisine[]=cuisine^cuisine-mediterranean&allowedCuisine[]=cuisine^cuisine-italian&allowedCuisine[]=cuisine^cuisine-spanish&maxTotalTimeInSeconds=600&allowedCourse[]=course^course-Main Dishes\").json()\n",
    "# converted to json to be sure that the right json format is being used.  \n",
    "# Recipes which are either itlian, spanish or meditarean, which are a main course and take less than 15 minutes to cook. "
   ]
  },
  {
   "cell_type": "code",
   "execution_count": 40,
   "metadata": {
    "collapsed": false
   },
   "outputs": [],
   "source": [
    "from rdflib import Graph, Namespace, URIRef, Literal, XSD, RDF\n",
    "\n",
    "# create an RDF graph\n",
    "g = Graph()\n",
    "\n",
    "\n",
    "\n",
    "REC = Namespace(\"yummly.com/\")\n",
    "fo = Namespace(\"http://purl.org/ontology/fo/\")\n",
    "\n",
    "g.bind('rec', REC)"
   ]
  },
  {
   "cell_type": "code",
   "execution_count": null,
   "metadata": {
    "collapsed": true
   },
   "outputs": [],
   "source": []
  },
  {
   "cell_type": "code",
   "execution_count": 41,
   "metadata": {
    "collapsed": false
   },
   "outputs": [
    {
     "name": "stdout",
     "output_type": "stream",
     "text": [
      "[u'flavors', u'rating', u'totalTimeInSeconds', u'ingredients', u'smallImageUrls', u'sourceDisplayName', u'recipeName', u'attributes', u'id', u'imageUrlsBySize']\n"
     ]
    }
   ],
   "source": [
    "print mediterranean_main_recipes_15min['matches'][0].keys()"
   ]
  },
  {
   "cell_type": "code",
   "execution_count": 42,
   "metadata": {
    "collapsed": false
   },
   "outputs": [],
   "source": [
    "ingredient_list = []\n",
    "for recipe in mediterranean_main_recipes_15min['matches']:\n",
    "    for ingredient in recipe['ingredients']:\n",
    "        ingredient_list.append(ingredient)\n",
    "        \n",
    "recipe_name_list = []\n",
    "for recipe in mediterranean_main_recipes_15min['matches']:\n",
    "    recipe_name_list.append(recipe['recipeName'])\n",
    "\n",
    "cooking_time_list = []\n",
    "for recipe in mediterranean_main_recipes_15min['matches']:\n",
    "    cooking_time_list.append(recipe['totalTimeInSeconds'])"
   ]
  },
  {
   "cell_type": "code",
   "execution_count": 43,
   "metadata": {
    "collapsed": false
   },
   "outputs": [
    {
     "name": "stdout",
     "output_type": "stream",
     "text": [
      "jumbo_shrimp\n",
      "olive_oil\n",
      "butter\n",
      "minced_garlic\n",
      "lemon_juice\n",
      "lemon_zest\n",
      "sea_salt\n",
      "angel_hair\n",
      "mozzarella_cheese\n",
      "zesty_italian_dressing\n",
      "cherry_tomatoes\n",
      "fresh_basil\n",
      "pepper\n",
      "salt\n",
      "meat_bones\n",
      "salt\n",
      "freshly_ground_black_pepper\n",
      "fresh_rosemary\n",
      "garlic\n",
      "macaroni\n",
      "salt\n",
      "greens\n",
      "minced_garlic\n",
      "lemon\n",
      "lemon_juice\n",
      "olive_oil\n",
      "grated_parmesan_cheese\n",
      "spaghetti\n",
      "olive_oil\n",
      "crushed_red_pepper_flakes\n",
      "garlic_cloves\n",
      "salted_butter\n",
      "kosher_salt\n",
      "finely_chopped_fresh_parsley\n",
      "grated_parmesan_cheese\n",
      "pasta_shells\n",
      "extra-virgin_olive_oil\n",
      "onions\n",
      "clove_garlic,_fine_chop\n",
      "baby_spinach\n",
      "whole_milk_ricotta_cheese\n",
      "parmigiano_reggiano_cheese\n",
      "pitas\n",
      "smoked_paprika\n",
      "parsley\n",
      "yogurt\n",
      "feta_cheese\n",
      "lamb\n",
      "cumin\n",
      "tahini\n",
      "garlic\n",
      "eggplant\n",
      "shoulder_roast\n",
      "sweet_onion\n",
      "italian_seasoning\n",
      "garlic\n",
      "red_wine\n",
      "chicken_breasts\n",
      "pesto\n",
      "Italian_bread\n",
      "red_onion\n",
      "roasted_red_peppers\n",
      "fresh_mozzarella_cheese\n",
      "cooking_spray\n",
      "extra-virgin_olive_oil\n",
      "onions\n",
      "mushrooms\n",
      "garlic_cloves\n",
      "diced_tomatoes\n",
      "tomato_sauce\n",
      "basil_leaves\n",
      "black_pepper\n",
      "sea_salt\n",
      "ricotta_cheese\n",
      "part-skim_mozzarella_cheese\n",
      "parmesan_cheese\n",
      "lasagna_noodles\n",
      "parsley\n"
     ]
    }
   ],
   "source": [
    "for ingredient in ingredient_list:\n",
    "    ingredientNoSpace = ingredient.replace(\" \", \"_\")\n",
    "    print ingredientNoSpace\n",
    "    g.add((REC[ingredientNoSpace], RDF.type, fo[\"Ingredient\"]))"
   ]
  },
  {
   "cell_type": "code",
   "execution_count": 44,
   "metadata": {
    "collapsed": false
   },
   "outputs": [
    {
     "name": "stdout",
     "output_type": "stream",
     "text": [
      "@prefix rdf: <http://www.w3.org/1999/02/22-rdf-syntax-ns#> .\n",
      "@prefix rdfs: <http://www.w3.org/2000/01/rdf-schema#> .\n",
      "@prefix rec: <yummly.com/> .\n",
      "@prefix xml: <http://www.w3.org/XML/1998/namespace> .\n",
      "@prefix xsd: <http://www.w3.org/2001/XMLSchema#> .\n",
      "\n",
      "rec:Italian_bread a <http://purl.org/ontology/fo/Ingredient> .\n",
      "\n",
      "rec:angel_hair a <http://purl.org/ontology/fo/Ingredient> .\n",
      "\n",
      "rec:baby_spinach a <http://purl.org/ontology/fo/Ingredient> .\n",
      "\n",
      "rec:basil_leaves a <http://purl.org/ontology/fo/Ingredient> .\n",
      "\n",
      "rec:black_pepper a <http://purl.org/ontology/fo/Ingredient> .\n",
      "\n",
      "rec:butter a <http://purl.org/ontology/fo/Ingredient> .\n",
      "\n",
      "rec:cherry_tomatoes a <http://purl.org/ontology/fo/Ingredient> .\n",
      "\n",
      "rec:chicken_breasts a <http://purl.org/ontology/fo/Ingredient> .\n",
      "\n",
      "<yummly.com/clove_garlic,_fine_chop> a <http://purl.org/ontology/fo/Ingredient> .\n",
      "\n",
      "rec:cooking_spray a <http://purl.org/ontology/fo/Ingredient> .\n",
      "\n",
      "rec:crushed_red_pepper_flakes a <http://purl.org/ontology/fo/Ingredient> .\n",
      "\n",
      "rec:cumin a <http://purl.org/ontology/fo/Ingredient> .\n",
      "\n",
      "rec:diced_tomatoes a <http://purl.org/ontology/fo/Ingredient> .\n",
      "\n",
      "rec:eggplant a <http://purl.org/ontology/fo/Ingredient> .\n",
      "\n",
      "rec:extra-virgin_olive_oil a <http://purl.org/ontology/fo/Ingredient> .\n",
      "\n",
      "rec:feta_cheese a <http://purl.org/ontology/fo/Ingredient> .\n",
      "\n",
      "rec:finely_chopped_fresh_parsley a <http://purl.org/ontology/fo/Ingredient> .\n",
      "\n",
      "rec:fresh_basil a <http://purl.org/ontology/fo/Ingredient> .\n",
      "\n",
      "rec:fresh_mozzarella_cheese a <http://purl.org/ontology/fo/Ingredient> .\n",
      "\n",
      "rec:fresh_rosemary a <http://purl.org/ontology/fo/Ingredient> .\n",
      "\n",
      "rec:freshly_ground_black_pepper a <http://purl.org/ontology/fo/Ingredient> .\n",
      "\n",
      "rec:garlic a <http://purl.org/ontology/fo/Ingredient> .\n",
      "\n",
      "rec:garlic_cloves a <http://purl.org/ontology/fo/Ingredient> .\n",
      "\n",
      "rec:grated_parmesan_cheese a <http://purl.org/ontology/fo/Ingredient> .\n",
      "\n",
      "rec:greens a <http://purl.org/ontology/fo/Ingredient> .\n",
      "\n",
      "rec:italian_seasoning a <http://purl.org/ontology/fo/Ingredient> .\n",
      "\n",
      "rec:jumbo_shrimp a <http://purl.org/ontology/fo/Ingredient> .\n",
      "\n",
      "rec:kosher_salt a <http://purl.org/ontology/fo/Ingredient> .\n",
      "\n",
      "rec:lamb a <http://purl.org/ontology/fo/Ingredient> .\n",
      "\n",
      "rec:lasagna_noodles a <http://purl.org/ontology/fo/Ingredient> .\n",
      "\n",
      "rec:lemon a <http://purl.org/ontology/fo/Ingredient> .\n",
      "\n",
      "rec:lemon_juice a <http://purl.org/ontology/fo/Ingredient> .\n",
      "\n",
      "rec:lemon_zest a <http://purl.org/ontology/fo/Ingredient> .\n",
      "\n",
      "rec:macaroni a <http://purl.org/ontology/fo/Ingredient> .\n",
      "\n",
      "rec:meat_bones a <http://purl.org/ontology/fo/Ingredient> .\n",
      "\n",
      "rec:minced_garlic a <http://purl.org/ontology/fo/Ingredient> .\n",
      "\n",
      "rec:mozzarella_cheese a <http://purl.org/ontology/fo/Ingredient> .\n",
      "\n",
      "rec:mushrooms a <http://purl.org/ontology/fo/Ingredient> .\n",
      "\n",
      "rec:olive_oil a <http://purl.org/ontology/fo/Ingredient> .\n",
      "\n",
      "rec:onions a <http://purl.org/ontology/fo/Ingredient> .\n",
      "\n",
      "rec:parmesan_cheese a <http://purl.org/ontology/fo/Ingredient> .\n",
      "\n",
      "rec:parmigiano_reggiano_cheese a <http://purl.org/ontology/fo/Ingredient> .\n",
      "\n",
      "rec:parsley a <http://purl.org/ontology/fo/Ingredient> .\n",
      "\n",
      "rec:part-skim_mozzarella_cheese a <http://purl.org/ontology/fo/Ingredient> .\n",
      "\n",
      "rec:pasta_shells a <http://purl.org/ontology/fo/Ingredient> .\n",
      "\n",
      "rec:pepper a <http://purl.org/ontology/fo/Ingredient> .\n",
      "\n",
      "rec:pesto a <http://purl.org/ontology/fo/Ingredient> .\n",
      "\n",
      "rec:pitas a <http://purl.org/ontology/fo/Ingredient> .\n",
      "\n",
      "rec:red_onion a <http://purl.org/ontology/fo/Ingredient> .\n",
      "\n",
      "rec:red_wine a <http://purl.org/ontology/fo/Ingredient> .\n",
      "\n",
      "rec:ricotta_cheese a <http://purl.org/ontology/fo/Ingredient> .\n",
      "\n",
      "rec:roasted_red_peppers a <http://purl.org/ontology/fo/Ingredient> .\n",
      "\n",
      "rec:salt a <http://purl.org/ontology/fo/Ingredient> .\n",
      "\n",
      "rec:salted_butter a <http://purl.org/ontology/fo/Ingredient> .\n",
      "\n",
      "rec:sea_salt a <http://purl.org/ontology/fo/Ingredient> .\n",
      "\n",
      "rec:shoulder_roast a <http://purl.org/ontology/fo/Ingredient> .\n",
      "\n",
      "rec:smoked_paprika a <http://purl.org/ontology/fo/Ingredient> .\n",
      "\n",
      "rec:spaghetti a <http://purl.org/ontology/fo/Ingredient> .\n",
      "\n",
      "rec:sweet_onion a <http://purl.org/ontology/fo/Ingredient> .\n",
      "\n",
      "rec:tahini a <http://purl.org/ontology/fo/Ingredient> .\n",
      "\n",
      "rec:tomato_sauce a <http://purl.org/ontology/fo/Ingredient> .\n",
      "\n",
      "rec:whole_milk_ricotta_cheese a <http://purl.org/ontology/fo/Ingredient> .\n",
      "\n",
      "rec:yogurt a <http://purl.org/ontology/fo/Ingredient> .\n",
      "\n",
      "rec:zesty_italian_dressing a <http://purl.org/ontology/fo/Ingredient> .\n",
      "\n",
      "\n"
     ]
    }
   ],
   "source": [
    "print g.serialize(format='turtle')"
   ]
  },
  {
   "cell_type": "code",
   "execution_count": null,
   "metadata": {
    "collapsed": true
   },
   "outputs": [],
   "source": []
  }
 ],
 "metadata": {
  "anaconda-cloud": {},
  "kernelspec": {
   "display_name": "Python [Root]",
   "language": "python",
   "name": "Python [Root]"
  },
  "language_info": {
   "codemirror_mode": {
    "name": "ipython",
    "version": 2
   },
   "file_extension": ".py",
   "mimetype": "text/x-python",
   "name": "python",
   "nbconvert_exporter": "python",
   "pygments_lexer": "ipython2",
   "version": "2.7.12"
  }
 },
 "nbformat": 4,
 "nbformat_minor": 0
}
