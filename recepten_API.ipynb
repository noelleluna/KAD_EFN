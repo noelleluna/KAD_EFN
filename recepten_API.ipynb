{
 "cells": [
  {
   "cell_type": "code",
   "execution_count": 150,
   "metadata": {
    "collapsed": true
   },
   "outputs": [],
   "source": [
    "import requests\n",
    "import urllib"
   ]
  },
  {
   "cell_type": "markdown",
   "metadata": {},
   "source": [
    "Onderstaande code is de basis connectie met het API, er kunnen parameters toegevoegd worden om meer gespecificeerde informatie te verkrijgen. Op deze link staan alle parameters die we toe zouden kunnen voegen:\n",
    "https://developer.yummly.com/documentation"
   ]
  },
  {
   "cell_type": "code",
   "execution_count": 84,
   "metadata": {
    "collapsed": false
   },
   "outputs": [],
   "source": [
    "response = requests.get(\"http://api.yummly.com/v1/api/recipes?_app_id=2b082bfe&_app_key=905dfe0267500a98d67737f446479c11\")\n"
   ]
  },
  {
   "cell_type": "code",
   "execution_count": 174,
   "metadata": {
    "collapsed": false
   },
   "outputs": [
    {
     "name": "stdout",
     "output_type": "stream",
     "text": [
      "{\"criteria\":{\"q\":null,\"allowedIngredient\":null,\"excludedIngredient\":null},\"matches\":[{\"imageUrlsBySize\":{\"90\":\"http://lh6.ggpht.\n",
      "com/jzVeUvT-8y_V_BflWMk3WRmDO8XLm51-N6Ze69jy2uk_yetgzwJJacZUC4m6rhO96IJak0-tWWvZCafBA80sTQ=s90-c\"},\"sourceDisplayName\":\"Kalyn's \n",
      "Kitchen\",\"ingredients\":[\"jumbo shrimp\",\"olive oil\",\"butter\",\"minced garlic\",\"lemon juice\",\"lemon zest\",\"sea salt\"],\"id\":\"Easy-ga\n",
      "rlic-and-lemon-shrimp-309257\",\"smallImageUrls\":[\"http://lh4.ggpht.com/iM63E6R_vx-DTpY3U-cfz32hZTFjtoj-9W85tn2t0JQSduqjjF6wi6fi7n\n",
      "JO5Y1j0Ip9g11wfewzJ-8XKimr6A=s90\"],\"recipeName\":\"Easy Garlic and Lemon Shrimp\",\"totalTimeInSeconds\":300,\"attributes\":{\"course\":[\n",
      "\"Main Dishes\"],\"cuisine\":[\"Barbecue\",\"Italian\",\"Asian\",\"American\"]},\"flavors\":{\"piquant\":0.0,\"meaty\":0.8333333333333334,\"bitter\"\n",
      ":0.3333333333333333,\"sweet\":0.16666666666666666,\"sour\":0.5,\"salty\":0.6666666666666666},\"rating\":5},{\"imageUrlsBySize\":{\"90\":\"htt\n",
      "p://lh3.googleusercontent.com/VOX8jThs7n_kt9a_6kWK_4UQz0UOISLOkquh3MprFgKdyncxnk4M1i9DdAaZYMtvwVZ3yVYtZGlEp0zGlq-Jvg=s90-c\"},\"so\n",
      "urceDisplayName\":\"Chelsea's Messy Apron\",\"ingredients\":[\"angel hair\",\"mozzarella cheese\",\"zesty italian dressing\",\"cherry tomato\n",
      "es\",\"fresh basil\",\"pepper\",\"salt\"],\"id\":\"_5-ingredient_-Italian-Caprese-Pasta-1219589\",\"smallImageUrls\":[\"http://lh3.googleuserc\n",
      "ontent.com/ojxpVF6hp_BhKd59OEv15Vqdv7jBe2uGADhJCxmr_tOWU_y15ayOd1x0mlZi24dxst90hfQJsfaTUr4lnasuNo0=s90\"],\"recipeName\":\"{5-ingred\n",
      "ient} Italian Caprese Pasta\",\"totalTimeInSeconds\":600,\"attributes\":{\"course\":[\"Main Dishes\"],\"cuisine\":[\"Italian\"]},\"flavors\":{\"\n",
      "piquant\":0.0,\"meaty\":0.16666666666666666,\"bitter\":0.5,\"sweet\":0.16666666666666666,\"sour\":0.3333333333333333,\"salty\":0.1666666666\n",
      "6666666},\"rating\":4},{\"imageUrlsBySize\":{\"90\":\"https://lh3.googleusercontent.com/BagRGErwacnAnN9hr49hnmyACzenM7WSS2RgfSModVQwfyI\n",
      "9rWywih3aZZwN6jExrOH_lT6SVT2sZEpdH4FfAg=s90-c\"},\"sourceDisplayName\":\"Diabetic Living\",\"ingredients\":[\"meat bones\",\"salt\",\"freshl\n",
      "y ground black pepper\",\"fresh rosemary\",\"garlic\"],\"id\":\"Mediterranean-Pork-Chops-2160651\",\"smallImageUrls\":[\"https://lh3.googleu\n",
      "sercontent.com/PlbQGgp_PfIM1xzNq7Eju3Xk-THZI9Z9HZYuSt_6MGUnt-wT1GGnVGswjjUV0hizSU6XEG0cOAZr16AHe83VCA=s90\"],\"recipeName\":\"Medite\n",
      "rranean Pork Chops\",\"totalTimeInSeconds\":600,\"attributes\":{\"course\":[\"Main Dishes\"],\"cuisine\":[\"Mediterranean\"]},\"flavors\":null,\n",
      "\"rating\":3},{\"imageUrlsBySize\":{\"90\":\"http://lh5.ggpht.com/wTLTWKLTQAIIL8RVuPdL01hRQKJzs5ALdaamAyrMsZ8bCIKIsQw4ShxL0zpn7LOo9MN88\n",
      "ZsjDfGZRZE1B1XUfw=s90-c\"},\"sourceDisplayName\":\"Kalyn's Kitchen\",\"ingredients\":[\"macaroni\",\"salt\",\"greens\",\"minced garlic\",\"lemon\n",
      "\",\"lemon juice\",\"olive oil\",\"grated parmesan cheese\"],\"id\":\"Macaroni-with-greens_-lemon_-and-parmesan-310048\",\"smallImageUrls\":[\n",
      "\"http://lh5.ggpht.com/l1TqbAE-jljJWGQF7HHHviMu94cfT2xG7RrVNxONaj1noKbL5WhMZesDJcjvyn7VagDitPcUk-R-OFgSA_tDXGk=s90\"],\"recipeName\"\n",
      ":\"Macaroni with Greens, Lemon, and Parmesan\",\"totalTimeInSeconds\":600,\"attributes\":{\"course\":[\"Main Dishes\"],\"cuisine\":[\"Italian\n",
      "\"]},\"flavors\":{\"piquant\":0.0,\"meaty\":0.16666666666666666,\"bitter\":0.8333333333333334,\"sweet\":0.16666666666666666,\"sour\":0.833333\n",
      "3333333334,\"salty\":0.8333333333333334},\"rating\":5},{\"imageUrlsBySize\":{\"90\":\"https://lh3.googleusercontent.com/oo5GvBiUEDAwj1ype\n",
      "VzzK0JkWfgjOgEFfYGThZKrI_3agNxk5Xi03WAYUNAFrAUmvRcSF2KMIE5SorayAkbxBA=s90-c\"},\"sourceDisplayName\":\"Suburban Soapbox\",\"ingredient\n",
      "s\":[\"spaghetti\",\"olive oil\",\"crushed red pepper flakes\",\"garlic cloves\",\"salted butter\",\"kosher salt\",\"finely chopped fresh pars\n",
      "ley\",\"grated parmesan cheese\"],\"id\":\"Spaghetti-Aglio-e-Olio-1524948\",\"smallImageUrls\":[\"https://lh3.googleusercontent.com/TFIXdS\n",
      "wU5nPCKVQGtPEt8rCRa2A6f16ejIFaWQSuFifPjHUr_TcdI49oPuoKyvBWKQ0Q_EJRBjWWeo9AMMs9AA=s90\"],\"recipeName\":\"Spaghetti Aglio e Olio\",\"to\n",
      "talTimeInSeconds\":600,\"attributes\":{\"course\":[\"Main Dishes\"],\"cuisine\":[\"Italian\"]},\"flavors\":{\"piquant\":0.16666666666666666,\"me\n",
      "aty\":0.8333333333333334,\"bitter\":0.8333333333333334,\"sweet\":0.16666666666666666,\"sour\":0.5,\"salty\":0.8333333333333334},\"rating\":\n",
      "4},{\"imageUrlsBySize\":{\"90\":\"http://lh4.ggpht.com/vY7m1DvC0AqvnOeE45TA38BWxd1bALJMFpxpMIrRaTHbo9area7S1ixQdbVsNGMCTbduzhj5rh1EMy\n",
      "YHK-b5xQ=s90-c\"},\"sourceDisplayName\":\"Every Day with Rachael Ray\",\"ingredients\":[\"pasta shells\",\"extra-virgin olive oil\",\"onions\n",
      "\",\"clove garlic, fine chop\",\"baby spinach\",\"whole milk ricotta cheese\",\"parmigiano reggiano cheese\"],\"id\":\"Spinach-and-ricotta-w\n",
      "ith-shells-347616\",\"smallImageUrls\":[\"http://lh4.ggpht.com/IdRtwBSF9pIgZBsC5duRr1YJzvUCwhxtTKjEE7oVsbqFBfbbsMAiSc6I9N1c-X-Wx8kNw\n",
      "WkIXRn7woyc24FQ0Q=s90\"],\"recipeName\":\"Spinach and Ricotta with Shells\",\"totalTimeInSeconds\":600,\"attributes\":{\"course\":[\"Main Di\n",
      "shes\"],\"cuisine\":[\"Italian\"]},\"flavors\":null,\"rating\":5},{\"imageUrlsBySize\":{\"90\":\"http://lh4.ggpht.com/-ecLQqjyRtQPfPcNBWTpGG5X\n",
      "WEw4AhSYT7TSoWwrJm9GfUxIVfWPU34U_kq1leNVk8gw2YcdNR5iUDqG4OHTTvY=s90-c\"},\"sourceDisplayName\":\"Closet Cooking\",\"ingredients\":[\"pit\n",
      "as\",\"smoked paprika\",\"parsley\",\"yogurt\",\"feta cheese\",\"lamb\",\"cumin\",\"tahini\",\"garlic\",\"eggplant\"],\"id\":\"Baba-Ghanoush-Topped-wi\n",
      "th-Lamb-and-Yogurt-Closet-Cooking-54985\",\"smallImageUrls\":[\"http://lh6.ggpht.com/rk7XwzC2upD_Mji1gMxkfuY4fKn1O2QzapikMtmQD2SQ149\n",
      "otMs3rFYpSGf-xArkMfLkHOdhA5yclGkA5YRs=s90\"],\"recipeName\":\"Baba Ghanoush Topped with Lamb and Yogurt\",\"totalTimeInSeconds\":600,\"a\n",
      "ttributes\":{\"course\":[\"Main Dishes\",\"Lunch\"],\"cuisine\":[\"Mediterranean\"]},\"flavors\":{\"piquant\":0.16666666666666666,\"meaty\":0.166\n",
      "66666666666666,\"bitter\":0.5,\"sweet\":0.16666666666666666,\"sour\":0.5,\"salty\":0.16666666666666666},\"rating\":5},{\"imageUrlsBySize\":{\n",
      "\"90\":\"https://lh3.googleusercontent.com/1zJMlHYabhKOaWqbuDO1Dl2puMnC-vCW4QTaR5QG5SVToV7ZJsSLxqa1Xw1spXsFV_wLT0vbilNj6d9QBcGTPg=s\n",
      "90-c\"},\"sourceDisplayName\":\"Bariatric Eating\",\"ingredients\":[\"shoulder roast\",\"sweet onion\",\"italian seasoning\",\"garlic\",\"red wi\n",
      "ne\"],\"id\":\"Braised-Italian-Pot-Roast-1518989\",\"smallImageUrls\":[\"https://lh3.googleusercontent.com/bNvzmZtRFAz_egNnVCXcozlpF-LzU\n",
      "48yH8XhsepjTQl2VdrmOPPaiIMYZuUJ6EEY1_Wand7cAVPdJob_HBAd3g=s90\"],\"recipeName\":\"Braised Italian Pot Roast\",\"totalTimeInSeconds\":30\n",
      "0,\"attributes\":{\"course\":[\"Main Dishes\"],\"cuisine\":[\"Italian\"],\"holiday\":[\"Sunday Lunch\"]},\"flavors\":null,\"rating\":3},{\"imageUrl\n",
      "sBySize\":{\"90\":\"https://lh3.googleusercontent.com/egb1RTC41-EhVd2f5JpqXED0QSod5jNGpiLjPkqdchI8lX4vSVN1gMSTvbGXqxnbdgDhUO6M-DaM7u\n",
      "OhxIKwOg=s90-c\"},\"sourceDisplayName\":\"Savory Experiments\",\"ingredients\":[\"chicken breasts\",\"pesto\",\"Italian bread\",\"red onion\",\"\n",
      "roasted red peppers\",\"fresh mozzarella cheese\",\"cooking spray\"],\"id\":\"Italian-Chicken-Panini-1681795\",\"smallImageUrls\":[\"https:/\n",
      "/lh3.googleusercontent.com/ljWBlauAIkuC27jqkTU-XdnR6ddufFUB1m6Kd3-Aoew0KywFD5n1lyctCxOOYeWKgFDddmrnZcOIPagrKMrq4Q=s90\"],\"recipeN\n",
      "ame\":\"Italian Chicken Panini\",\"totalTimeInSeconds\":600,\"attributes\":{\"course\":[\"Lunch\",\"Main Dishes\"],\"cuisine\":[\"Italian\"]},\"fl\n",
      "avors\":null,\"rating\":4},{\"imageUrlsBySize\":{\"90\":\"http://lh5.ggpht.com/ts9LCn2e0fAkWo6ExivxWEWKacpnhtXC_HNwPAOsbHrBMhI0LPbvhGiFv\n",
      "q2aq-5-p1lKE6iyS4V0Uz1vRIMk=s90-c\"},\"sourceDisplayName\":\"The Realistic Nutritionist\",\"ingredients\":[\"extra-virgin olive oil\",\"on\n",
      "ions\",\"mushrooms\",\"garlic cloves\",\"diced tomatoes\",\"tomato sauce\",\"basil leaves\",\"black pepper\",\"sea salt\",\"ricotta cheese\",\"par\n",
      "t-skim mozzarella cheese\",\"parmesan cheese\",\"lasagna noodles\",\"parsley\"],\"id\":\"Easy-Peasy-Skillet-Lasagna-899604\",\"smallImageUrl\n",
      "s\":[\"http://lh4.ggpht.com/rn43xkX60l7JZ71GbUJ1SGBsFWz-RFH2-hgkTYLG_nQLxnw0IUEs-DyItkrVhZanC2KhtgWYB841dd7RexAUTbU=s90\"],\"recipeN\n",
      "ame\":\"Easy Peasy Skillet Lasagna\",\"totalTimeInSeconds\":600,\"attributes\":{\"course\":[\"Main Dishes\"],\"cuisine\":[\"Italian\"]},\"flavor\n",
      "s\":{\"piquant\":0.0,\"meaty\":0.16666666666666666,\"bitter\":0.5,\"sweet\":0.16666666666666666,\"sour\":0.6666666666666666,\"salty\":0.5},\"r\n",
      "ating\":4}],\"facetCounts\":{},\"totalMatchCount\":203,\"attribution\":{\"html\":\"Recipe search powered by <a href='http://www.yummly.co/\n",
      "recipes'><img alt='Yummly' src='https://static.yummly.co/api-logo.png'/></a>\",\"url\":\"http://www.yummly.co/recipes/\",\"text\":\"Reci\n",
      "pe search powered by Yummly\",\"logo\":\"https://static.yummly.co/api-logo.png\"}}\n"
     ]
    }
   ],
   "source": [
    "mediterranean_main_recipes_15min = requests.get(\"http://api.yummly.com/v1/api/recipes?_app_id=2b082bfe&_app_key=905dfe0267500a98d67737f446479c11&allowedCuisine[]=cuisine^cuisine-mediterranean&allowedCuisine[]=cuisine^cuisine-italian&allowedCuisine[]=cuisine^cuisine-spanish&maxTotalTimeInSeconds=600&allowedCourse[]=course^course-Main Dishes\")\n",
    "\n",
    "for recipe in mediterranean_main_recipes_15min:\n",
    "    print recipe\n",
    "# Recipes which are either itlian, spanish or meditarean, which are a main course and take less than 15 minutes to cook. "
   ]
  },
  {
   "cell_type": "code",
   "execution_count": null,
   "metadata": {
    "collapsed": true
   },
   "outputs": [],
   "source": []
  }
 ],
 "metadata": {
  "kernelspec": {
   "display_name": "Python [Root]",
   "language": "python",
   "name": "Python [Root]"
  },
  "language_info": {
   "codemirror_mode": {
    "name": "ipython",
    "version": 2
   },
   "file_extension": ".py",
   "mimetype": "text/x-python",
   "name": "python",
   "nbconvert_exporter": "python",
   "pygments_lexer": "ipython2",
   "version": "2.7.12"
  }
 },
 "nbformat": 4,
 "nbformat_minor": 0
}
