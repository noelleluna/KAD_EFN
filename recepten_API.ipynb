{
 "cells": [
  {
   "cell_type": "code",
   "execution_count": 3,
   "metadata": {
    "collapsed": true
   },
   "outputs": [],
   "source": [
    "import requests\n",
    "import urllib"
   ]
  },
  {
   "cell_type": "markdown",
   "metadata": {},
   "source": [
    "Onderstaande code is de basis connectie met het API, er kunnen parameters toegevoegd worden om meer gespecificeerde informatie te verkrijgen. Op deze link staan alle parameters die we toe zouden kunnen voegen:\n",
    "https://developer.yummly.com/documentation"
   ]
  },
  {
   "cell_type": "code",
   "execution_count": 4,
   "metadata": {
    "collapsed": false
   },
   "outputs": [],
   "source": [
    "response = requests.get(\"http://api.yummly.com/v1/api/recipes?_app_id=2b082bfe&_app_key=905dfe0267500a98d67737f446479c11\")"
   ]
  },
  {
   "cell_type": "code",
   "execution_count": 5,
   "metadata": {
    "collapsed": false
   },
   "outputs": [],
   "source": [
    "mediterranean_main_recipes_15min = requests.get(\"http://api.yummly.com/v1/api/recipes?_app_id=2b082bfe&_app_key=905dfe0267500a98d67737f446479c11&allowedCuisine[]=cuisine^cuisine-mediterranean&allowedCuisine[]=cuisine^cuisine-italian&allowedCuisine[]=cuisine^cuisine-spanish&maxTotalTimeInSeconds=600&allowedCourse[]=course^course-Main Dishes\").json()\n",
    "# converted to json to be sure that the right json format is being used.  \n",
    "# Recipes which are either itlian, spanish or meditarean, which are a main course and take less than 15 minutes to cook. "
   ]
  },
  {
   "cell_type": "code",
   "execution_count": 85,
   "metadata": {
    "collapsed": false
   },
   "outputs": [],
   "source": [
    "from rdflib import Graph, Namespace, URIRef, Literal, XSD, RDF\n",
    "\n",
    "# create an RDF graph\n",
    "g = Graph()\n",
    "\n",
    "\n",
    "\n",
    "YUM = Namespace(\"http://yummly.com/\")\n",
    "FO = Namespace(\"http://purl.org/ontology/fo/\")\n",
    "\n",
    "g.bind('rec', YUM)\n",
    "g.bind('fo', FO)"
   ]
  },
  {
   "cell_type": "code",
   "execution_count": null,
   "metadata": {
    "collapsed": true
   },
   "outputs": [],
   "source": []
  },
  {
   "cell_type": "code",
   "execution_count": 86,
   "metadata": {
    "collapsed": false
   },
   "outputs": [
    {
     "name": "stdout",
     "output_type": "stream",
     "text": [
      "[u'flavors', u'rating', u'totalTimeInSeconds', u'ingredients', u'smallImageUrls', u'sourceDisplayName', u'recipeName', u'attributes', u'id', u'imageUrlsBySize']\n"
     ]
    }
   ],
   "source": [
    "print mediterranean_main_recipes_15min['matches'][0].keys()"
   ]
  },
  {
   "cell_type": "code",
   "execution_count": 87,
   "metadata": {
    "collapsed": false
   },
   "outputs": [],
   "source": [
    "ingredient_list = []\n",
    "for recipe in mediterranean_main_recipes_15min['matches']:\n",
    "    for ingredient in recipe['ingredients']:\n",
    "        ingredient_list.append(ingredient)\n",
    "        \n",
    "recipe_name_list = []\n",
    "for recipe in mediterranean_main_recipes_15min['matches']:\n",
    "    recipe_name_list.append(recipe['recipeName'])\n",
    "\n",
    "cooking_time_list = []\n",
    "for recipe in mediterranean_main_recipes_15min['matches']:\n",
    "    cooking_time_list.append(recipe['totalTimeInSeconds'])"
   ]
  },
  {
   "cell_type": "code",
   "execution_count": 88,
   "metadata": {
    "collapsed": false
   },
   "outputs": [],
   "source": [
    "for ingredient in ingredient_list:\n",
    "    ingredientNoSpace = ingredient.replace(\" \", \"_\")\n",
    "    g.add((YUM[ingredientNoSpace], RDF.type, FO[\"Ingredient\"]))"
   ]
  },
  {
   "cell_type": "code",
   "execution_count": 89,
   "metadata": {
    "collapsed": false,
    "scrolled": true
   },
   "outputs": [
    {
     "name": "stdout",
     "output_type": "stream",
     "text": [
      "@prefix fo: <http://purl.org/ontology/fo/> .\n",
      "@prefix rdf: <http://www.w3.org/1999/02/22-rdf-syntax-ns#> .\n",
      "@prefix rdfs: <http://www.w3.org/2000/01/rdf-schema#> .\n",
      "@prefix rec: <http://yummly.com/> .\n",
      "@prefix xml: <http://www.w3.org/XML/1998/namespace> .\n",
      "@prefix xsd: <http://www.w3.org/2001/XMLSchema#> .\n",
      "\n",
      "rec:Italian_bread a fo:Ingredient .\n",
      "\n",
      "rec:angel_hair a fo:Ingredient .\n",
      "\n",
      "rec:baby_spinach a fo:Ingredient .\n",
      "\n",
      "rec:basil_leaves a fo:Ingredient .\n",
      "\n",
      "rec:black_pepper a fo:Ingredient .\n",
      "\n",
      "rec:butter a fo:Ingredient .\n",
      "\n",
      "rec:cherry_tomatoes a fo:Ingredient .\n",
      "\n",
      "rec:chicken_breasts a fo:Ingredient .\n",
      "\n",
      "<http://yummly.com/clove_garlic,_fine_chop> a fo:Ingredient .\n",
      "\n",
      "rec:cooking_spray a fo:Ingredient .\n",
      "\n",
      "rec:crushed_red_pepper_flakes a fo:Ingredient .\n",
      "\n",
      "rec:cumin a fo:Ingredient .\n",
      "\n",
      "rec:diced_tomatoes a fo:Ingredient .\n",
      "\n",
      "rec:eggplant a fo:Ingredient .\n",
      "\n",
      "rec:extra-virgin_olive_oil a fo:Ingredient .\n",
      "\n",
      "rec:feta_cheese a fo:Ingredient .\n",
      "\n",
      "rec:finely_chopped_fresh_parsley a fo:Ingredient .\n",
      "\n",
      "rec:fresh_basil a fo:Ingredient .\n",
      "\n",
      "rec:fresh_mozzarella_cheese a fo:Ingredient .\n",
      "\n",
      "rec:fresh_rosemary a fo:Ingredient .\n",
      "\n",
      "rec:freshly_ground_black_pepper a fo:Ingredient .\n",
      "\n",
      "rec:garlic a fo:Ingredient .\n",
      "\n",
      "rec:garlic_cloves a fo:Ingredient .\n",
      "\n",
      "rec:grated_parmesan_cheese a fo:Ingredient .\n",
      "\n",
      "rec:greens a fo:Ingredient .\n",
      "\n",
      "rec:italian_seasoning a fo:Ingredient .\n",
      "\n",
      "rec:jumbo_shrimp a fo:Ingredient .\n",
      "\n",
      "rec:kosher_salt a fo:Ingredient .\n",
      "\n",
      "rec:lamb a fo:Ingredient .\n",
      "\n",
      "rec:lasagna_noodles a fo:Ingredient .\n",
      "\n",
      "rec:lemon a fo:Ingredient .\n",
      "\n",
      "rec:lemon_juice a fo:Ingredient .\n",
      "\n",
      "rec:lemon_zest a fo:Ingredient .\n",
      "\n",
      "rec:macaroni a fo:Ingredient .\n",
      "\n",
      "rec:meat_bones a fo:Ingredient .\n",
      "\n",
      "rec:minced_garlic a fo:Ingredient .\n",
      "\n",
      "rec:mozzarella_cheese a fo:Ingredient .\n",
      "\n",
      "rec:mushrooms a fo:Ingredient .\n",
      "\n",
      "rec:olive_oil a fo:Ingredient .\n",
      "\n",
      "rec:onions a fo:Ingredient .\n",
      "\n",
      "rec:parmesan_cheese a fo:Ingredient .\n",
      "\n",
      "rec:parmigiano_reggiano_cheese a fo:Ingredient .\n",
      "\n",
      "rec:parsley a fo:Ingredient .\n",
      "\n",
      "rec:part-skim_mozzarella_cheese a fo:Ingredient .\n",
      "\n",
      "rec:pasta_shells a fo:Ingredient .\n",
      "\n",
      "rec:pepper a fo:Ingredient .\n",
      "\n",
      "rec:pesto a fo:Ingredient .\n",
      "\n",
      "rec:pitas a fo:Ingredient .\n",
      "\n",
      "rec:red_onion a fo:Ingredient .\n",
      "\n",
      "rec:red_wine a fo:Ingredient .\n",
      "\n",
      "rec:ricotta_cheese a fo:Ingredient .\n",
      "\n",
      "rec:roasted_red_peppers a fo:Ingredient .\n",
      "\n",
      "rec:salt a fo:Ingredient .\n",
      "\n",
      "rec:salted_butter a fo:Ingredient .\n",
      "\n",
      "rec:sea_salt a fo:Ingredient .\n",
      "\n",
      "rec:shoulder_roast a fo:Ingredient .\n",
      "\n",
      "rec:smoked_paprika a fo:Ingredient .\n",
      "\n",
      "rec:spaghetti a fo:Ingredient .\n",
      "\n",
      "rec:sweet_onion a fo:Ingredient .\n",
      "\n",
      "rec:tahini a fo:Ingredient .\n",
      "\n",
      "rec:tomato_sauce a fo:Ingredient .\n",
      "\n",
      "rec:whole_milk_ricotta_cheese a fo:Ingredient .\n",
      "\n",
      "rec:yogurt a fo:Ingredient .\n",
      "\n",
      "rec:zesty_italian_dressing a fo:Ingredient .\n",
      "\n",
      "\n"
     ]
    }
   ],
   "source": [
    "print g.serialize(format='turtle')"
   ]
  },
  {
   "cell_type": "code",
   "execution_count": 90,
   "metadata": {
    "collapsed": false
   },
   "outputs": [],
   "source": [
    "for recipe in recipe_name_list:\n",
    "    recipeNoSpace = recipe.replace(\" \", \"_\")\n",
    "    cleanRecipe = recipeNoSpace.replace(\"{\",\"(\")\n",
    "    cleanRecipe = cleanRecipe.replace(\"}\",\")\")\n",
    "    g.add((YUM[cleanRecipe], RDF.type, FO[\"Recipe\"]))"
   ]
  },
  {
   "cell_type": "code",
   "execution_count": 91,
   "metadata": {
    "collapsed": false
   },
   "outputs": [
    {
     "name": "stdout",
     "output_type": "stream",
     "text": [
      "@prefix fo: <http://purl.org/ontology/fo/> .\n",
      "@prefix rdf: <http://www.w3.org/1999/02/22-rdf-syntax-ns#> .\n",
      "@prefix rdfs: <http://www.w3.org/2000/01/rdf-schema#> .\n",
      "@prefix rec: <http://yummly.com/> .\n",
      "@prefix xml: <http://www.w3.org/XML/1998/namespace> .\n",
      "@prefix xsd: <http://www.w3.org/2001/XMLSchema#> .\n",
      "\n",
      "<http://yummly.com/(5-ingredient)_Italian_Caprese_Pasta> a fo:Recipe .\n",
      "\n",
      "rec:Baba_Ghanoush_Topped_with_Lamb_and_Yogurt a fo:Recipe .\n",
      "\n",
      "rec:Braised_Italian_Pot_Roast a fo:Recipe .\n",
      "\n",
      "rec:Easy_Garlic_and_Lemon_Shrimp a fo:Recipe .\n",
      "\n",
      "rec:Easy_Peasy_Skillet_Lasagna a fo:Recipe .\n",
      "\n",
      "rec:Italian_Chicken_Panini a fo:Recipe .\n",
      "\n",
      "rec:Italian_bread a fo:Ingredient .\n",
      "\n",
      "<http://yummly.com/Macaroni_with_Greens,_Lemon,_and_Parmesan> a fo:Recipe .\n",
      "\n",
      "rec:Mediterranean_Pork_Chops a fo:Recipe .\n",
      "\n",
      "rec:Spaghetti_Aglio_e_Olio a fo:Recipe .\n",
      "\n",
      "rec:Spinach_and_Ricotta_with_Shells a fo:Recipe .\n",
      "\n",
      "rec:angel_hair a fo:Ingredient .\n",
      "\n",
      "rec:baby_spinach a fo:Ingredient .\n",
      "\n",
      "rec:basil_leaves a fo:Ingredient .\n",
      "\n",
      "rec:black_pepper a fo:Ingredient .\n",
      "\n",
      "rec:butter a fo:Ingredient .\n",
      "\n",
      "rec:cherry_tomatoes a fo:Ingredient .\n",
      "\n",
      "rec:chicken_breasts a fo:Ingredient .\n",
      "\n",
      "<http://yummly.com/clove_garlic,_fine_chop> a fo:Ingredient .\n",
      "\n",
      "rec:cooking_spray a fo:Ingredient .\n",
      "\n",
      "rec:crushed_red_pepper_flakes a fo:Ingredient .\n",
      "\n",
      "rec:cumin a fo:Ingredient .\n",
      "\n",
      "rec:diced_tomatoes a fo:Ingredient .\n",
      "\n",
      "rec:eggplant a fo:Ingredient .\n",
      "\n",
      "rec:extra-virgin_olive_oil a fo:Ingredient .\n",
      "\n",
      "rec:feta_cheese a fo:Ingredient .\n",
      "\n",
      "rec:finely_chopped_fresh_parsley a fo:Ingredient .\n",
      "\n",
      "rec:fresh_basil a fo:Ingredient .\n",
      "\n",
      "rec:fresh_mozzarella_cheese a fo:Ingredient .\n",
      "\n",
      "rec:fresh_rosemary a fo:Ingredient .\n",
      "\n",
      "rec:freshly_ground_black_pepper a fo:Ingredient .\n",
      "\n",
      "rec:garlic a fo:Ingredient .\n",
      "\n",
      "rec:garlic_cloves a fo:Ingredient .\n",
      "\n",
      "rec:grated_parmesan_cheese a fo:Ingredient .\n",
      "\n",
      "rec:greens a fo:Ingredient .\n",
      "\n",
      "rec:italian_seasoning a fo:Ingredient .\n",
      "\n",
      "rec:jumbo_shrimp a fo:Ingredient .\n",
      "\n",
      "rec:kosher_salt a fo:Ingredient .\n",
      "\n",
      "rec:lamb a fo:Ingredient .\n",
      "\n",
      "rec:lasagna_noodles a fo:Ingredient .\n",
      "\n",
      "rec:lemon a fo:Ingredient .\n",
      "\n",
      "rec:lemon_juice a fo:Ingredient .\n",
      "\n",
      "rec:lemon_zest a fo:Ingredient .\n",
      "\n",
      "rec:macaroni a fo:Ingredient .\n",
      "\n",
      "rec:meat_bones a fo:Ingredient .\n",
      "\n",
      "rec:minced_garlic a fo:Ingredient .\n",
      "\n",
      "rec:mozzarella_cheese a fo:Ingredient .\n",
      "\n",
      "rec:mushrooms a fo:Ingredient .\n",
      "\n",
      "rec:olive_oil a fo:Ingredient .\n",
      "\n",
      "rec:onions a fo:Ingredient .\n",
      "\n",
      "rec:parmesan_cheese a fo:Ingredient .\n",
      "\n",
      "rec:parmigiano_reggiano_cheese a fo:Ingredient .\n",
      "\n",
      "rec:parsley a fo:Ingredient .\n",
      "\n",
      "rec:part-skim_mozzarella_cheese a fo:Ingredient .\n",
      "\n",
      "rec:pasta_shells a fo:Ingredient .\n",
      "\n",
      "rec:pepper a fo:Ingredient .\n",
      "\n",
      "rec:pesto a fo:Ingredient .\n",
      "\n",
      "rec:pitas a fo:Ingredient .\n",
      "\n",
      "rec:red_onion a fo:Ingredient .\n",
      "\n",
      "rec:red_wine a fo:Ingredient .\n",
      "\n",
      "rec:ricotta_cheese a fo:Ingredient .\n",
      "\n",
      "rec:roasted_red_peppers a fo:Ingredient .\n",
      "\n",
      "rec:salt a fo:Ingredient .\n",
      "\n",
      "rec:salted_butter a fo:Ingredient .\n",
      "\n",
      "rec:sea_salt a fo:Ingredient .\n",
      "\n",
      "rec:shoulder_roast a fo:Ingredient .\n",
      "\n",
      "rec:smoked_paprika a fo:Ingredient .\n",
      "\n",
      "rec:spaghetti a fo:Ingredient .\n",
      "\n",
      "rec:sweet_onion a fo:Ingredient .\n",
      "\n",
      "rec:tahini a fo:Ingredient .\n",
      "\n",
      "rec:tomato_sauce a fo:Ingredient .\n",
      "\n",
      "rec:whole_milk_ricotta_cheese a fo:Ingredient .\n",
      "\n",
      "rec:yogurt a fo:Ingredient .\n",
      "\n",
      "rec:zesty_italian_dressing a fo:Ingredient .\n",
      "\n",
      "\n"
     ]
    }
   ],
   "source": [
    "print g.serialize(format='turtle')"
   ]
  },
  {
   "cell_type": "code",
   "execution_count": null,
   "metadata": {
    "collapsed": true
   },
   "outputs": [],
   "source": []
  },
  {
   "cell_type": "code",
   "execution_count": null,
   "metadata": {
    "collapsed": true
   },
   "outputs": [],
   "source": []
  }
 ],
 "metadata": {
  "anaconda-cloud": {},
  "kernelspec": {
   "display_name": "Python [Root]",
   "language": "python",
   "name": "Python [Root]"
  },
  "language_info": {
   "codemirror_mode": {
    "name": "ipython",
    "version": 2
   },
   "file_extension": ".py",
   "mimetype": "text/x-python",
   "name": "python",
   "nbconvert_exporter": "python",
   "pygments_lexer": "ipython2",
   "version": "2.7.12"
  }
 },
 "nbformat": 4,
 "nbformat_minor": 0
}
