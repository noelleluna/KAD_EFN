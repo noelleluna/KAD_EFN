{
 "cells": [
  {
   "cell_type": "code",
   "execution_count": 1,
   "metadata": {
    "collapsed": true
   },
   "outputs": [],
   "source": [
    "import requests"
   ]
  },
  {
   "cell_type": "markdown",
   "metadata": {},
   "source": [
    "Onderstaande code is de basis connectie met het API, er kunnen parameters toegevoegd worden om meer gespecificeerde informatie te verkrijgen. Op deze link staan alle parameters die we toe zouden kunnen voegen:\n",
    "https://developer.yummly.com/documentation"
   ]
  },
  {
   "cell_type": "code",
   "execution_count": 2,
   "metadata": {
    "collapsed": false
   },
   "outputs": [
    {
     "name": "stdout",
     "output_type": "stream",
     "text": [
      "{\"criteria\":{\"q\":null,\"allowedIngredient\":null,\"excludedIngredient\":null},\"matches\":[{\"imageUrlsBySize\":{\"90\":\"https://lh3.googl\n",
      "eusercontent.com/So235b6of0RRRppQWcWUKWLggtyYzEv2D1d42pv9bc2pQsnqsTsXxfXOhnUKMugp4qN1E12tkrVZwRdSmyYVVw=s90-c\"},\"sourceDisplayNa\n",
      "me\":\"Perdue.com\",\"ingredients\":[\"PERDUE® FRESH CUTS™ Chicken Breast Strips\",\"honey\",\"stone ground mustard\",\"orange juice\",\"so\n",
      "y sauce\",\"corn starch\",\"cold water\",\"couscous\"],\"id\":\"Honey-Mustard-Slow-Cooker-Chicken-2221106\",\"smallImageUrls\":[\"https://lh3.\n",
      "googleusercontent.com/JL89gxvevrZEpsctfXuJL3Tgrvn-10-La4DWSyfzGcT_77ykM-UuUEqDgo97MIdSo6sw1NiEzxFREAmSz0aI0Q=s90\"],\"recipeName\":\n",
      "\"Honey Mustard Slow Cooker Chicken\",\"totalTimeInSeconds\":1440600,\"attributes\":{\"course\":[\"Main Dishes\"]},\"flavors\":null,\"rating\"\n",
      ":3},{\"imageUrlsBySize\":{\"90\":\"https://lh3.googleusercontent.com/Udz3197HvbRLu1rNUAuJrHDPbPgTO7JJjwVuD1y3tT2muNiP2SqDKfORdaC_IoWO\n",
      "I7H3Iws7INrysUHgANrgSQ=s90-c\"},\"sourceDisplayName\":\"The Pioneer Woman\",\"ingredients\":[\"russet potatoes\",\"salt\",\"pepper\",\"large e\n",
      "ggs\",\"nonstick spray\"],\"id\":\"Eggs-in-hash-brown-nests-352693\",\"smallImageUrls\":[\"https://lh3.googleusercontent.com/WilYoHldNYB9L\n",
      "yXALuhggpNkH77SfIBxlxGqgV-ojDLFSplIJx219iLjngdUVT1Dz24iCxr2TmJ8pN9FKmP--g=s90\"],\"recipeName\":\"Eggs in Hash Brown Nests\",\"totalTi\n",
      "meInSeconds\":4800,\"attributes\":{\"course\":[\"Breakfast and Brunch\"]},\"flavors\":null,\"rating\":5},{\"imageUrlsBySize\":{\"90\":\"http://l\n",
      "h4.ggpht.com/ybxdA6UZ33R4HrZwUB37ruKqE53e5DXMDxqydt62cN4TYftaTOtds06DF4cX9PfuVQqKD25uL6pQOwz87MeS=s90-c\"},\"sourceDisplayName\":\"E\n",
      "mily Bites\",\"ingredients\":[\"frozen puff pastry sheets\",\"olive oil\",\"garlic cloves\",\"fresh spinach\",\"pepper\",\"parmesan cheese\",\"f\n",
      "eta cheese crumbles\"],\"id\":\"Cheesy-Spinach-Pinwheels-931846\",\"smallImageUrls\":[\"http://lh5.ggpht.com/kBCwYnArxf_Su16xNBYoZIS7O6r\n",
      "GWcHCyKNDJZfQFRPp-6PUn6ALN8DQMXZLZIX356L8VX_WkXobxou6dJSnp5w=s90\"],\"recipeName\":\"Cheesy Spinach Pinwheels\",\"totalTimeInSeconds\":\n",
      "3600,\"attributes\":{\"course\":[\"Appetizers\"]},\"flavors\":null,\"rating\":4},{\"imageUrlsBySize\":{\"90\":\"https://lh3.googleusercontent.c\n",
      "om/eP5enCk5KmX9zpi-VmQvgIVEheU7VyX1eMldELEjMA3E_KN3-wxsYie1IrF5wtk9KOBAbNzTha_YxBWRq6z2Fw=s90-c\"},\"sourceDisplayName\":\"Kalyn's K\n",
      "itchen\",\"ingredients\":[\"zucchini\",\"garlic\",\"olive oil\",\"thyme\",\"salt and ground black pepper\"],\"id\":\"Roasted-Squash-with-Garlic-\n",
      "2234857\",\"smallImageUrls\":[\"https://lh3.googleusercontent.com/VZEXjYGpuv3HnB1-dwLyZcHEem44izeZsywZg0LUjZ9JHj7F1F0Jj6S8SzRLwMznL3\n",
      "h7zyAGwoxGB3s_q3j1Hw=s90\"],\"recipeName\":\"Roasted Squash with Garlic\",\"totalTimeInSeconds\":2400,\"attributes\":{},\"flavors\":null,\"r\n",
      "ating\":4},{\"imageUrlsBySize\":{\"90\":\"https://lh3.googleusercontent.com/MkzoCWoSX867clEQ_wzQ2xLwB10TtsJ9r2vFkvDOCZ8Gpp5SFwWmGSsuXE\n",
      "v_tIAsS6vEK-KxGBGRSEGFkvnW7w=s90-c\"},\"sourceDisplayName\":\"Amee's Savory Dish\",\"ingredients\":[\"old-fashioned oats\",\"baking powder\n",
      "\",\"salt\",\"ground cinnamon\",\"ground allspice\",\"vanilla\",\"low-fat milk\",\"pumpkin purée\",\"eggs\",\"egg whites\",\"yogurt\",\"maple syrup\n",
      "\",\"golden raisins\",\"chopped walnuts\"],\"id\":\"Healthy-Pumpkin-Spice-Baked-Oatmeal-2230456\",\"smallImageUrls\":[\"https://lh3.googleus\n",
      "ercontent.com/e8mnURWtR19hjiUDVJACYxZ-lC3JLkqG3j8ldoEoIzmOd7iuFGt7FarnfN3Lx6pCcL3ULdBAS2PYynW4fVZ4eg=s90\"],\"recipeName\":\"Healthy\n",
      " Pumpkin Spice Baked Oatmeal\",\"totalTimeInSeconds\":3300,\"attributes\":{\"course\":[\"Breakfast and Brunch\"]},\"flavors\":{\"piquant\":0.\n",
      "0,\"meaty\":0.16666666666666666,\"bitter\":0.8333333333333334,\"sweet\":0.5,\"sour\":0.16666666666666666,\"salty\":0.6666666666666666},\"ra\n",
      "ting\":4},{\"imageUrlsBySize\":{\"90\":\"http://lh5.ggpht.com/D12S8eRU53nvoJxDaNksCgWG8_AiAJsbdaOpkZJt85DlINFLX9elifxpSHecxrIrdrZ5AEeF\n",
      "s2yNkhjUB_ZmitU=s90-c\"},\"sourceDisplayName\":\"Spend with Pennies\",\"ingredients\":[\"white bread\",\"apple pie filling\",\"melted butter\n",
      "\",\"sugar\",\"cinnamon\"],\"id\":\"Baked-Apple-Pie-Roll-Ups-593599\",\"smallImageUrls\":[\"http://lh5.ggpht.com/eUGCFo3up5O0ZEXs8QsWoh2x-U4\n",
      "UOThExckzDer36bH96wJkFmG40JQiTxGFYQGsQXB4uTrcYYT0DRIA7Hed1FM=s90\"],\"recipeName\":\"Baked Apple Pie Roll Ups\",\"totalTimeInSeconds\":\n",
      "1800,\"attributes\":{\"course\":[\"Desserts\",\"Lunch\"]},\"flavors\":{\"piquant\":0.0,\"meaty\":0.16666666666666666,\"bitter\":0.16666666666666\n",
      "666,\"sweet\":0.6666666666666666,\"sour\":0.16666666666666666,\"salty\":0.5},\"rating\":4},{\"imageUrlsBySize\":{\"90\":\"https://lh3.googleu\n",
      "sercontent.com/nOed1WL-FHN9lYrPy9HPLitfKkTHMw2_zqcxcMs5YtUgLom4_y3KiXcy1zzzY2UuyRg55OjWDRDnU3G_-_OOnSI=s90-c\"},\"sourceDisplayNam\n",
      "e\":\"Sprinkles Sprouts\",\"ingredients\":[\"fresh lime\",\"food colouring\",\"sugar\",\"vodka\",\"lime juice\",\"raspberry liqueur\"],\"id\":\"_Wit\n",
      "ches-Brew_--A-Halloween-Cocktail-2234301\",\"smallImageUrls\":[\"https://lh3.googleusercontent.com/-XtijcMKTkrnlqHXg75jSkjQ0MUq3L2BC\n",
      "TLOWnf1al3Pq7hPCbydqhtU94bmM0SrgmYR4Tn680TWM0MAL5au=s90\"],\"recipeName\":\"'Witches Brew'- A Halloween Cocktail\",\"totalTimeInSecond\n",
      "s\":300,\"attributes\":{\"course\":[\"Beverages\",\"Cocktails\"],\"holiday\":[\"Halloween\"]},\"flavors\":null,\"rating\":4},{\"imageUrlsBySize\":{\n",
      "\"90\":\"https://lh3.googleusercontent.com/V19cJLgX3oCnBVlztU8F2hheG4oLujyOtS2gNR9qcXv8lsEpD83aJU9YhRtvQhcqjg7sgImiojwyHPl_V1qD7Ik=\n",
      "s90-c\"},\"sourceDisplayName\":\"Betty Crocker\",\"ingredients\":[\"cooked chicken\",\"celery\",\"onions\",\"mayonnaise\",\"salt\",\"pepper\",\"brea\n",
      "d\"],\"id\":\"Chicken-Salad-Sandwiches-2087237\",\"smallImageUrls\":[\"https://lh3.googleusercontent.com/Ay5kfhAzSPyNsMGLkohIstl7O-VBzU-\n",
      "0h6BXgq-9zx-WbIqomzDhAytT3yROX2_zCqxReHQ4SAR5HteAFT-LeA4=s90\"],\"recipeName\":\"Chicken Salad Sandwiches\",\"totalTimeInSeconds\":900,\n",
      "\"attributes\":{\"course\":[\"Lunch\"]},\"flavors\":{\"piquant\":0.0,\"meaty\":0.6666666666666666,\"bitter\":0.6666666666666666,\"sweet\":0.3333\n",
      "333333333333,\"sour\":0.16666666666666666,\"salty\":0.8333333333333334},\"rating\":3},{\"imageUrlsBySize\":{\"90\":\"https://lh3.googleuser\n",
      "content.com/E9NWPWDhOWkWL-UoyZXv_VUJyOKiPZmFzM4P6hyHnG1UvMyIj108mrqKEsyBa8s9ssW2D-TVRT-oCkFSBDIazBI=s90-c\"},\"sourceDisplayName\":\n",
      "\"Home Healthy Recipes\",\"ingredients\":[\"cinnamon\",\"apple cider vinegar\",\"honey\",\"lemon juice\",\"water\"],\"id\":\"Detox-Drink-That-Bur\n",
      "ns-Fat-And-Boosts-The-Metabolism-1813802\",\"smallImageUrls\":[\"https://lh3.googleusercontent.com/MTguJDLtQPzBYFbsWDTwKD0eyyXMqxbLf\n",
      "CfHGhjnWD8EIBjBJ0xzgspsAgspVuhL_i2UzZGxxzI0aWRCJF4u=s90\"],\"recipeName\":\"Detox Drink That Burns Fat And Boosts The Metabolism\",\"t\n",
      "otalTimeInSeconds\":600,\"attributes\":{\"course\":[\"Beverages\"]},\"flavors\":null,\"rating\":4},{\"imageUrlsBySize\":{\"90\":\"https://lh3.go\n",
      "ogleusercontent.com/vyGgSUdoXDZn8k7Vjda_4dloxXeUZd5-pdrsSoVbiBxEz1pfkH0qoXES9QzxCfb2bYlEOJksauykVqVel6_Fgg=s90-c\"},\"sourceDispla\n",
      "yName\":\"favorite National Foods\",\"ingredients\":[\"olive oil\",\"onions\",\"carrots\",\"red bell pepper\",\"salt\",\"garlic\",\"chili powder\",\n",
      "\"ground cumin\",\"ground turkey\",\"chicken stock\",\"dried oregano\",\"bay leaf\",\"tomato paste\",\"cider vinegar\",\"black beans\",\"freshly \n",
      "ground black pepper\"],\"id\":\"Black-Bean-Turkey-Chili-2108123\",\"smallImageUrls\":[\"https://lh3.googleusercontent.com/_1SAEasVZ_1a1j\n",
      "pLhOpnihemLhPd1Yd_CCzoLUIlzIz3jxdakuOJikEQWLaUnhCdx_orHhspMF5YAfJfeSdydV0=s90\"],\"recipeName\":\"Black Bean Turkey Chili\",\"totalTim\n",
      "eInSeconds\":5100,\"attributes\":{\"course\":[\"Main Dishes\"]},\"flavors\":{\"piquant\":0.5,\"meaty\":0.16666666666666666,\"bitter\":0.1666666\n",
      "6666666666,\"sweet\":0.16666666666666666,\"sour\":0.8333333333333334,\"salty\":0.5},\"rating\":4}],\"facetCounts\":{},\"totalMatchCount\":17\n",
      "02043,\"attribution\":{\"html\":\"Recipe search powered by <a href='http://www.yummly.co/recipes'><img alt='Yummly' src='https://stat\n",
      "ic.yummly.co/api-logo.png'/></a>\",\"url\":\"http://www.yummly.co/recipes/\",\"text\":\"Recipe search powered by Yummly\",\"logo\":\"https:/\n",
      "/static.yummly.co/api-logo.png\"}}\n"
     ]
    }
   ],
   "source": [
    "response = requests.get(\"http://api.yummly.com/v1/api/recipes?_app_id=2b082bfe&_app_key=905dfe0267500a98d67737f446479c11\")\n",
    "for recipe in response:\n",
    "    print recipe"
   ]
  },
  {
   "cell_type": "code",
   "execution_count": 3,
   "metadata": {
    "collapsed": false
   },
   "outputs": [
    {
     "name": "stdout",
     "output_type": "stream",
     "text": [
      "{\"criteria\":{\"allowedIngredient\":[\"carrot\"],\"requirePictures\":true,\"q\":null,\"excludedIngredient\":null},\"matches\":[{\"imageUrlsByS\n",
      "ize\":{\"90\":\"https://lh3.googleusercontent.com/vyGgSUdoXDZn8k7Vjda_4dloxXeUZd5-pdrsSoVbiBxEz1pfkH0qoXES9QzxCfb2bYlEOJksauykVqVel6\n",
      "_Fgg=s90-c\"},\"sourceDisplayName\":\"favorite National Foods\",\"ingredients\":[\"olive oil\",\"onions\",\"carrots\",\"red bell pepper\",\"salt\n",
      "\",\"garlic\",\"chili powder\",\"ground cumin\",\"ground turkey\",\"chicken stock\",\"dried oregano\",\"bay leaf\",\"tomato paste\",\"cider vinega\n",
      "r\",\"black beans\",\"freshly ground black pepper\"],\"id\":\"Black-Bean-Turkey-Chili-2108123\",\"smallImageUrls\":[\"https://lh3.googleuser\n",
      "content.com/_1SAEasVZ_1a1jpLhOpnihemLhPd1Yd_CCzoLUIlzIz3jxdakuOJikEQWLaUnhCdx_orHhspMF5YAfJfeSdydV0=s90\"],\"recipeName\":\"Black Be\n",
      "an Turkey Chili\",\"totalTimeInSeconds\":5100,\"attributes\":{\"course\":[\"Main Dishes\"]},\"flavors\":{\"piquant\":0.5,\"meaty\":0.1666666666\n",
      "6666666,\"bitter\":0.16666666666666666,\"sweet\":0.16666666666666666,\"sour\":0.8333333333333334,\"salty\":0.5},\"rating\":4},{\"imageUrlsB\n",
      "ySize\":{\"90\":\"https://lh3.googleusercontent.com/e2DuGFKLDaj_lzdDoTUQSHq-9KeUFtlsv7-W2meNBkzn42n308SAqVC1W1BEMw_zFkAg_K1SIvAg-EFc\n",
      "EbcREA=s90-c\"},\"sourceDisplayName\":\"Cooking Classy\",\"ingredients\":[\"rice noodles\",\"boneless skinless chicken breasts\",\"vegetable\n",
      " oil\",\"dark brown sugar\",\"soy sauce\",\"rice vinegar\",\"lime juice\",\"fish sauce\",\"red bell pepper\",\"matchstick carrots\",\"garlic\",\"g\n",
      "reen onions\",\"beansprouts\",\"large eggs\",\"unsalted roasted peanuts\",\"cilantro\",\"red pepper flakes\",\"sesame seeds\"],\"id\":\"Chicken-\n",
      "Pad-Thai-2213155\",\"smallImageUrls\":[\"https://lh3.googleusercontent.com/wxHAOLhlPjO1Vm0nUPYfLdhlSY9fy-_LiJheciGzbVSmFY3TwK0vUD6Sq\n",
      "u3EbFslSyzfJm_LxV8yO2mg8GoZ=s90\"],\"recipeName\":\"Chicken Pad Thai\",\"totalTimeInSeconds\":2100,\"attributes\":{\"course\":[\"Main Dishes\n",
      "\"],\"cuisine\":[\"Asian\"]},\"flavors\":{\"piquant\":0.5,\"meaty\":0.3333333333333333,\"bitter\":0.6666666666666666,\"sweet\":0.33333333333333\n",
      "33,\"sour\":0.8333333333333334,\"salty\":0.8333333333333334},\"rating\":4},{\"imageUrlsBySize\":{\"90\":\"https://lh3.googleusercontent.com\n",
      "/IrJbvZJrMepZLpSQBDbDE1KEbDkR3Akz2PsrB1tjl7EFjZyke26YazQ1OQdiH-hBnQUfD7mBQahT9TI_sNVXpg=s90-c\"},\"sourceDisplayName\":\"Life in the\n",
      " Lofthouse\",\"ingredients\":[\"boneless skinless chicken breasts\",\"russet potatoes\",\"baby carrots\",\"condensed cream of chicken soup\n",
      "\",\"ranch salad dressing mix\",\"milk\",\"chopped parsley\"],\"id\":\"Crock-Pot-Creamy-Ranch-Chicken-2190580\",\"smallImageUrls\":[\"https://\n",
      "lh3.googleusercontent.com/OPkIZtgZCg9317ScPVqHKpcyqV2RSUSY4pzcNxsKNJYDemFYWHNQvgsHGSuOX8Nt4T3rbb6kCl60CWSvAx5o=s90\"],\"recipeName\n",
      "\":\"Crock Pot Creamy Ranch Chicken\",\"totalTimeInSeconds\":18900,\"attributes\":{\"course\":[\"Main Dishes\"]},\"flavors\":{\"piquant\":0.0,\"\n",
      "meaty\":0.16666666666666666,\"bitter\":0.16666666666666666,\"sweet\":0.16666666666666666,\"sour\":0.16666666666666666,\"salty\":0.3333333\n",
      "333333333},\"rating\":4},{\"imageUrlsBySize\":{\"90\":\"https://lh3.googleusercontent.com/ks873q9aAIfIY2DeKnXlEzWTMkWA1y2-bQElfJcjAQkzs\n",
      "BTFl7ldwHORM2DGJdK6IC6W1OcvyRiMJrKQZ2O5xg=s90-c\"},\"sourceDisplayName\":\"Once Upon A Chef\",\"ingredients\":[\"medium carrot\",\"extra-v\n",
      "irgin olive oil\",\"curry powder\",\"kosher salt\",\"honey\"],\"id\":\"Curried-Roasted-Carrots-2087313\",\"smallImageUrls\":[\"https://lh3.goo\n",
      "gleusercontent.com/mVYuc_r0EDREDepfWJJiwQMTIDPCg-gO9MoxXqsQ1XoenhngCONrAKNgCN0iYXbp3z6NSMCApLX7xwxmeYD4=s90\"],\"recipeName\":\"Curr\n",
      "ied Roasted Carrots\",\"totalTimeInSeconds\":2400,\"attributes\":{\"course\":[\"Side Dishes\"]},\"flavors\":null,\"rating\":4},{\"imageUrlsByS\n",
      "ize\":{\"90\":\"https://lh3.googleusercontent.com/CtufBB-g4umjPkIsb0myEOAkTZRZgCSH7wFDvbfvaUqHNOu4vNxYipk0z3-HyYR6DMn4d2UrHc6UKFeF74\n",
      "wSuQQ=s90-c\"},\"sourceDisplayName\":\"Southern Plate\",\"ingredients\":[\"ground beef\",\"onions\",\"potatoes\",\"baby carrots\",\"sauce\"],\"id\"\n",
      ":\"Hobo-Packets-2181856\",\"smallImageUrls\":[\"https://lh3.googleusercontent.com/sBebPkUY9x3wPCqBHxkStabzFO9D-pIYyHz7eOEg3sBY158ldLk\n",
      "RvF3kHQ5MwF2bOdic9BOzsRcUkxjn1-uxEQ=s90\"],\"recipeName\":\"Hobo Packets\",\"totalTimeInSeconds\":5100,\"attributes\":{\"course\":[\"Main Di\n",
      "shes\"]},\"flavors\":null,\"rating\":4},{\"imageUrlsBySize\":{\"90\":\"https://lh3.googleusercontent.com/qnlZ6YtTRtmfaTLX-VTCtr_uVd887wR88\n",
      "1Mch0NGhIW6WJ4XxbpLWXUuT27F5piMZ_aK2jnFSHjtI5ylq0tM=s90-c\"},\"sourceDisplayName\":\"Southern Bite\",\"ingredients\":[\"butter\",\"carrots\n",
      "\",\"celery ribs\",\"onions\",\"garlic cloves\",\"chicken stock\",\"cheese tortellini\"],\"id\":\"30-Minute-Cheese-Tortellini-Soup-1906378\",\"s\n",
      "mallImageUrls\":[\"https://lh3.googleusercontent.com/lsnHTLcowd5oTxUWSMfoXOMmjrbGNWpIN3F1x_yRVtBCj2vofauXChI30EMmVyIlkKTyiTNREM6iT\n",
      "g1gvO2Gug=s90\"],\"recipeName\":\"30-Minute Cheese Tortellini Soup\",\"totalTimeInSeconds\":1800,\"attributes\":{\"course\":[\"Soups\"]},\"fla\n",
      "vors\":{\"piquant\":0.0,\"meaty\":0.16666666666666666,\"bitter\":0.16666666666666666,\"sweet\":0.16666666666666666,\"sour\":0.1666666666666\n",
      "6666,\"salty\":0.3333333333333333},\"rating\":4},{\"imageUrlsBySize\":{\"90\":\"https://lh3.googleusercontent.com/iEXAVSqdI2SNJi3nbB7ogMO\n",
      "Wyd7_XukmVKTmLx1Lt9ETDMbaSimIPgLvTAT_YzulCLfZ6gXEIb9KnAZbTHmvXA=s90-c\"},\"sourceDisplayName\":\"Sweetphi\",\"ingredients\":[\"red lenti\n",
      "ls\",\"large carrots\",\"red bell pepper\",\"celery ribs\",\"kale\",\"russet potatoes\",\"jalapeno chilies\",\"garlic cloves\",\"onions\",\"salt\",\n",
      "\"parsley\",\"paprika\",\"oregano\",\"garlic salt\",\"cayenne pepper\",\"vegetable stock\"],\"id\":\"Healthy-Slow-Cooker-Lentil-and-Vegetable-S\n",
      "oup-1985182\",\"smallImageUrls\":[\"https://lh3.googleusercontent.com/T360gBRdy-FU-wrowww1LcoCvDsICdN4iIbcScREa5YbJL2-JDgr0VacgiJ1bW\n",
      "ZVra_CwM3aZmLQFaHOrKsSjg=s90\"],\"recipeName\":\"Healthy Slow Cooker Lentil and Vegetable Soup\",\"totalTimeInSeconds\":18900,\"attribut\n",
      "es\":{\"course\":[\"Soups\"]},\"flavors\":{\"piquant\":0.6666666666666666,\"meaty\":0.16666666666666666,\"bitter\":0.3333333333333333,\"sweet\"\n",
      ":0.16666666666666666,\"sour\":0.5,\"salty\":0.6666666666666666},\"rating\":4},{\"imageUrlsBySize\":{\"90\":\"https://lh3.googleusercontent.\n",
      "com/ygWK1wdC-bjovw_aeLdcDHk879QwhUerQ9NMTCM_z8sJgrl1XoCXL_lz_39Btjg4mY2VnypHLXtf3uWF2_1Dig=s90-c\"},\"sourceDisplayName\":\"Sweet So\n",
      "methings\",\"ingredients\":[\"bone-in skin-on chicken thighs\",\"baby potatoes\",\"baby carrots\",\"olive oil\",\"salt\",\"pepper\"],\"id\":\"Quic\n",
      "k-and-Easy-4-Ingredient-Dinner-1558225\",\"smallImageUrls\":[\"https://lh3.googleusercontent.com/DbHQBf0uR1OQkJlF_s1D7E04lip5HOf3k_G\n",
      "zs6TdFt5WZ96qUWhsghCcE5fTDjUC1odvrHmP4GwgGkxrQRM8NQ=s90\"],\"recipeName\":\"Quick and Easy 4 Ingredient Dinner\",\"totalTimeInSeconds\"\n",
      ":4500,\"attributes\":{\"course\":[\"Main Dishes\"]},\"flavors\":{\"piquant\":0.0,\"meaty\":0.5,\"bitter\":0.16666666666666666,\"sweet\":0.166666\n",
      "66666666666,\"sour\":0.5,\"salty\":0.16666666666666666},\"rating\":4},{\"imageUrlsBySize\":{\"90\":\"https://lh3.googleusercontent.com/WLwL\n",
      "oky-B7OQfXpLktKNpGyHZSVtNHM1vBDWD3TJnJ9o60YsQacCHYugusLgM_OOzfxpvVvW3gpoYL6eXaQUTw=s90-c\"},\"sourceDisplayName\":\"Hamilton Beach\",\n",
      "\"ingredients\":[\"pot roast\",\"salt\",\"pepper\",\"medium potatoes\",\"carrots\",\"onions\",\"beef broth\"],\"id\":\"Slow-Cooker-Beef-Pot-Roast-1\n",
      "504294\",\"smallImageUrls\":[\"https://lh3.googleusercontent.com/hsYU2vD0gdWsQF-oY9elEcA7qaWRaazX-b8aPDEujEw1o6E2Q3GbSbPJQL1QGRs5ydT\n",
      "rRHfbQ_aBtVIVJk13=s90\"],\"recipeName\":\"Slow Cooker Beef Pot Roast\",\"totalTimeInSeconds\":900,\"attributes\":{\"course\":[\"Main Dishes\"\n",
      "],\"holiday\":[\"Sunday Lunch\"]},\"flavors\":{\"piquant\":0.0,\"meaty\":0.8333333333333334,\"bitter\":0.6666666666666666,\"sweet\":0.16666666\n",
      "666666666,\"sour\":0.6666666666666666,\"salty\":0.3333333333333333},\"rating\":4},{\"imageUrlsBySize\":{\"90\":\"https://lh3.googleusercont\n",
      "ent.com/gZrTModMp9M_pRsVyrKoHVoyO4fOKZN13fpCnlLiQEPraO5Q0mz3TF2OyZxxUoigyGrLbngYEyhXFmoGdTbIEw=s90-c\"},\"sourceDisplayName\":\"The \n",
      "Spruce\",\"ingredients\":[\"shredded cabbage\",\"carrots\",\"celery\",\"apples\",\"dressing\",\"dates\",\"raw cashews\"],\"id\":\"Raw-Vegan-Waldorf-\n",
      "Salad-With-Cabbage-and-Apples-2215572\",\"smallImageUrls\":[\"https://lh3.googleusercontent.com/3epfwlWoEGDWrOP2ThiyZ3DdP4iPwZtjqV02\n",
      "wPef9XUf2bY-k8v7PEf5AOAdNizVd1Vy5k8BtSiJDlZh7gjcqw=s90\"],\"recipeName\":\"Raw Vegan Waldorf Salad With Cabbage and Apples\",\"totalTi\n",
      "meInSeconds\":2700,\"attributes\":{\"course\":[\"Salads\"]},\"flavors\":{\"piquant\":0.0,\"meaty\":0.3333333333333333,\"bitter\":0.166666666666\n",
      "66666,\"sweet\":0.5,\"sour\":0.6666666666666666,\"salty\":0.16666666666666666},\"rating\":4}],\"facetCounts\":{},\"totalMatchCount\":76809,\"\n",
      "attribution\":{\"html\":\"Recipe search powered by <a href='http://www.yummly.co/recipes'><img alt='Yummly' src='https://static.yumm\n",
      "ly.co/api-logo.png'/></a>\",\"url\":\"http://www.yummly.co/recipes/\",\"text\":\"Recipe search powered by Yummly\",\"logo\":\"https://static\n",
      ".yummly.co/api-logo.png\"}}\n"
     ]
    }
   ],
   "source": [
    "ingredients = requests.get(\"http://api.yummly.com/v1/api/recipes?_app_id=2b082bfe&_app_key=905dfe0267500a98d67737f446479c11&allowedIngredient[]=carrot&requirePictures=true\")\n",
    "for dish in ingredients:\n",
    "     print dish\n",
    "\n",
    "#toegevoegde parameter: &q=falafel en &requirePictures=true voor de picca's "
   ]
  },
  {
   "cell_type": "code",
   "execution_count": 61,
   "metadata": {
    "collapsed": false
   },
   "outputs": [],
   "source": [
    "AsianQuisine = requests.get(\"http://api.yummly.com/v1/api/recipes?_app_id=2b082bfe&_app_key=905dfe0267500a98d67737f446479c11&allowedCuisine[]=cuisine^cuisine-hongarian\")\n",
    "# for dishes in AsianQuisine:\n",
    "#     print dishes\n",
    "\n",
    "#toegevoegde parameter: &allowedCuisine[]=cuisine^cuisine-asian"
   ]
  },
  {
   "cell_type": "code",
   "execution_count": 26,
   "metadata": {
    "collapsed": false
   },
   "outputs": [],
   "source": [
    "twenty_minutes = requests.get(\"http://api.yummly.com/v1/api/recipes?_app_id=2b082bfe&_app_key=905dfe0267500a98d67737f446479c11&maxTotalTimeInSeconds=1200\")\n",
    "# for dish in twenty_minutes:\n",
    "#     print dish\n",
    "    \n",
    "#toegevoegde parameter: &maxTotalTimeInSeconds=1200"
   ]
  },
  {
   "cell_type": "code",
   "execution_count": 38,
   "metadata": {
    "collapsed": false
   },
   "outputs": [],
   "source": [
    "no_sugar = requests.get(\"http://api.yummly.com/v1/api/recipes?_app_id=2b082bfe&_app_key=905dfe0267500a98d67737f446479c11&nutrition.SUGAR.max=0\")\n",
    "# for dish in no_sugar:\n",
    "#     print dish\n",
    "\n",
    "#toegeovoegde parameter: &nutrition.SUGAR.max=0"
   ]
  },
  {
   "cell_type": "code",
   "execution_count": 52,
   "metadata": {
    "collapsed": true
   },
   "outputs": [],
   "source": [
    "basis_recipe_search = requests.get(\"http://api.yummly.com/v1/api/recipe/?_app_id=2b082bfe&_app_key=905dfe0267500a98d67737f446479c11\")\n",
    "# hier gaat het een beetje anders, we zoeken hier namelijk op recept en niet op criteria. \n",
    "# na het woordje recipe voeg je de naam van het recept toe"
   ]
  },
  {
   "cell_type": "code",
   "execution_count": 59,
   "metadata": {
    "collapsed": false
   },
   "outputs": [],
   "source": [
    "OnionSoup = requests.get(\"http://api.yummly.com/v1/api/recipe/French-Onion-Soup-The-Pioneer-Woman-Cooks-_-Ree-Drummond-41364?_app_id=2b082bfe&_app_key=905dfe0267500a98d67737f446479c11\")\n",
    "# for content in OnionSoup:\n",
    "#     print content\n",
    "    \n",
    "# hier is gezocht op: French-Onion-Soup-The-Pioneer-Woman-Cooks-_-Ree-Drummond-41364"
   ]
  },
  {
   "cell_type": "code",
   "execution_count": null,
   "metadata": {
    "collapsed": true
   },
   "outputs": [],
   "source": []
  }
 ],
 "metadata": {
  "anaconda-cloud": {},
  "kernelspec": {
   "display_name": "Python [Root]",
   "language": "python",
   "name": "Python [Root]"
  },
  "language_info": {
   "codemirror_mode": {
    "name": "ipython",
    "version": 2
   },
   "file_extension": ".py",
   "mimetype": "text/x-python",
   "name": "python",
   "nbconvert_exporter": "python",
   "pygments_lexer": "ipython2",
   "version": "2.7.12"
  }
 },
 "nbformat": 4,
 "nbformat_minor": 0
}
