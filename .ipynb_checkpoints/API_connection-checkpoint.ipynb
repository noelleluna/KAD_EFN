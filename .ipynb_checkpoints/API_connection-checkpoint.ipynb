{
 "cells": [
  {
   "cell_type": "code",
   "execution_count": 41,
   "metadata": {
    "collapsed": true
   },
   "outputs": [],
   "source": [
    "import requests"
   ]
  },
  {
   "cell_type": "markdown",
   "metadata": {},
   "source": [
    "Onderstaande code is de basis connectie met het API, er kunnen parameters toegevoegd worden om meer gespecificeerde informatie te verkrijgen. Op deze link staan alle parameters die we toe zouden kunnen voegen:\n",
    "https://developer.yummly.com/documentation"
   ]
  },
  {
   "cell_type": "code",
   "execution_count": 2,
   "metadata": {
    "collapsed": false
   },
   "outputs": [
    {
     "ename": "NameError",
     "evalue": "name 'requests' is not defined",
     "output_type": "error",
     "traceback": [
      "\u001b[1;31m---------------------------------------------------------------------------\u001b[0m",
      "\u001b[1;31mNameError\u001b[0m                                 Traceback (most recent call last)",
      "\u001b[1;32m<ipython-input-2-d8896bdbe020>\u001b[0m in \u001b[0;36m<module>\u001b[1;34m()\u001b[0m\n\u001b[1;32m----> 1\u001b[1;33m \u001b[0mresponse\u001b[0m \u001b[1;33m=\u001b[0m \u001b[0mrequests\u001b[0m\u001b[1;33m.\u001b[0m\u001b[0mget\u001b[0m\u001b[1;33m(\u001b[0m\u001b[1;34m\"http://api.yummly.com/v1/api/recipes?_app_id=2b082bfe&_app_key=905dfe0267500a98d67737f446479c11\"\u001b[0m\u001b[1;33m)\u001b[0m\u001b[1;33m\u001b[0m\u001b[0m\n\u001b[0m\u001b[0;32m      2\u001b[0m \u001b[1;32mfor\u001b[0m \u001b[0mrecipe\u001b[0m \u001b[1;32min\u001b[0m \u001b[0mresponse\u001b[0m\u001b[1;33m:\u001b[0m\u001b[1;33m\u001b[0m\u001b[0m\n\u001b[0;32m      3\u001b[0m     \u001b[1;32mprint\u001b[0m \u001b[1;34m'RECEPT: '\u001b[0m\u001b[1;33m,\u001b[0m \u001b[0mrecipe\u001b[0m\u001b[1;33m,\u001b[0m \u001b[1;34m'\\n'\u001b[0m\u001b[1;33m\u001b[0m\u001b[0m\n",
      "\u001b[1;31mNameError\u001b[0m: name 'requests' is not defined"
     ]
    }
   ],
   "source": [
    "response = requests.get(\"http://api.yummly.com/v1/api/recipes?_app_id=2b082bfe&_app_key=905dfe0267500a98d67737f446479c11\")\n",
    "for recipe in response:\n",
    "    print 'RECEPT: ', recipe, '\\n'"
   ]
  },
  {
   "cell_type": "code",
   "execution_count": 65,
   "metadata": {
    "collapsed": false
   },
   "outputs": [
    {
     "name": "stdout",
     "output_type": "stream",
     "text": [
      "{\"criteria\":{\"allowedIngredient\":[\"carrot\"],\"requirePictures\":true,\"q\":null,\"excludedIngredient\":null},\"matches\":[{\"imageUrlsByS\n",
      "ize\":{\"90\":\"https://lh3.googleusercontent.com/vyGgSUdoXDZn8k7Vjda_4dloxXeUZd5-pdrsSoVbiBxEz1pfkH0qoXES9QzxCfb2bYlEOJksauykVqVel6\n",
      "_Fgg=s90-c\"},\"sourceDisplayName\":\"favorite National Foods\",\"ingredients\":[\"olive oil\",\"onions\",\"carrots\",\"red bell pepper\",\"salt\n",
      "\",\"garlic\",\"chili powder\",\"ground cumin\",\"ground turkey\",\"chicken stock\",\"dried oregano\",\"bay leaf\",\"tomato paste\",\"cider vinega\n",
      "r\",\"black beans\",\"freshly ground black pepper\"],\"id\":\"Black-Bean-Turkey-Chili-2108123\",\"smallImageUrls\":[\"https://lh3.googleuser\n",
      "content.com/_1SAEasVZ_1a1jpLhOpnihemLhPd1Yd_CCzoLUIlzIz3jxdakuOJikEQWLaUnhCdx_orHhspMF5YAfJfeSdydV0=s90\"],\"recipeName\":\"Black Be\n",
      "an Turkey Chili\",\"totalTimeInSeconds\":5100,\"attributes\":{\"course\":[\"Main Dishes\"]},\"flavors\":{\"piquant\":0.5,\"meaty\":0.1666666666\n",
      "6666666,\"bitter\":0.16666666666666666,\"sweet\":0.16666666666666666,\"sour\":0.8333333333333334,\"salty\":0.5},\"rating\":4},{\"imageUrlsB\n",
      "ySize\":{\"90\":\"https://lh3.googleusercontent.com/e2DuGFKLDaj_lzdDoTUQSHq-9KeUFtlsv7-W2meNBkzn42n308SAqVC1W1BEMw_zFkAg_K1SIvAg-EFc\n",
      "EbcREA=s90-c\"},\"sourceDisplayName\":\"Cooking Classy\",\"ingredients\":[\"rice noodles\",\"boneless skinless chicken breasts\",\"vegetable\n",
      " oil\",\"dark brown sugar\",\"soy sauce\",\"rice vinegar\",\"lime juice\",\"fish sauce\",\"red bell pepper\",\"matchstick carrots\",\"garlic\",\"g\n",
      "reen onions\",\"beansprouts\",\"large eggs\",\"unsalted roasted peanuts\",\"cilantro\",\"red pepper flakes\",\"sesame seeds\"],\"id\":\"Chicken-\n",
      "Pad-Thai-2213155\",\"smallImageUrls\":[\"https://lh3.googleusercontent.com/wxHAOLhlPjO1Vm0nUPYfLdhlSY9fy-_LiJheciGzbVSmFY3TwK0vUD6Sq\n",
      "u3EbFslSyzfJm_LxV8yO2mg8GoZ=s90\"],\"recipeName\":\"Chicken Pad Thai\",\"totalTimeInSeconds\":2100,\"attributes\":{\"course\":[\"Main Dishes\n",
      "\"],\"cuisine\":[\"Asian\"]},\"flavors\":{\"piquant\":0.5,\"meaty\":0.3333333333333333,\"bitter\":0.6666666666666666,\"sweet\":0.33333333333333\n",
      "33,\"sour\":0.8333333333333334,\"salty\":0.8333333333333334},\"rating\":4},{\"imageUrlsBySize\":{\"90\":\"https://lh3.googleusercontent.com\n",
      "/IrJbvZJrMepZLpSQBDbDE1KEbDkR3Akz2PsrB1tjl7EFjZyke26YazQ1OQdiH-hBnQUfD7mBQahT9TI_sNVXpg=s90-c\"},\"sourceDisplayName\":\"Life in the\n",
      " Lofthouse\",\"ingredients\":[\"boneless skinless chicken breasts\",\"russet potatoes\",\"baby carrots\",\"condensed cream of chicken soup\n",
      "\",\"ranch salad dressing mix\",\"milk\",\"chopped parsley\"],\"id\":\"Crock-Pot-Creamy-Ranch-Chicken-2190580\",\"smallImageUrls\":[\"https://\n",
      "lh3.googleusercontent.com/OPkIZtgZCg9317ScPVqHKpcyqV2RSUSY4pzcNxsKNJYDemFYWHNQvgsHGSuOX8Nt4T3rbb6kCl60CWSvAx5o=s90\"],\"recipeName\n",
      "\":\"Crock Pot Creamy Ranch Chicken\",\"totalTimeInSeconds\":18900,\"attributes\":{\"course\":[\"Main Dishes\"]},\"flavors\":{\"piquant\":0.0,\"\n",
      "meaty\":0.16666666666666666,\"bitter\":0.16666666666666666,\"sweet\":0.16666666666666666,\"sour\":0.16666666666666666,\"salty\":0.3333333\n",
      "333333333},\"rating\":4},{\"imageUrlsBySize\":{\"90\":\"https://lh3.googleusercontent.com/ks873q9aAIfIY2DeKnXlEzWTMkWA1y2-bQElfJcjAQkzs\n",
      "BTFl7ldwHORM2DGJdK6IC6W1OcvyRiMJrKQZ2O5xg=s90-c\"},\"sourceDisplayName\":\"Once Upon A Chef\",\"ingredients\":[\"medium carrot\",\"extra-v\n",
      "irgin olive oil\",\"curry powder\",\"kosher salt\",\"honey\"],\"id\":\"Curried-Roasted-Carrots-2087313\",\"smallImageUrls\":[\"https://lh3.goo\n",
      "gleusercontent.com/mVYuc_r0EDREDepfWJJiwQMTIDPCg-gO9MoxXqsQ1XoenhngCONrAKNgCN0iYXbp3z6NSMCApLX7xwxmeYD4=s90\"],\"recipeName\":\"Curr\n",
      "ied Roasted Carrots\",\"totalTimeInSeconds\":2400,\"attributes\":{\"course\":[\"Side Dishes\"]},\"flavors\":null,\"rating\":4},{\"imageUrlsByS\n",
      "ize\":{\"90\":\"https://lh3.googleusercontent.com/CtufBB-g4umjPkIsb0myEOAkTZRZgCSH7wFDvbfvaUqHNOu4vNxYipk0z3-HyYR6DMn4d2UrHc6UKFeF74\n",
      "wSuQQ=s90-c\"},\"sourceDisplayName\":\"Southern Plate\",\"ingredients\":[\"ground beef\",\"onions\",\"potatoes\",\"baby carrots\",\"sauce\"],\"id\"\n",
      ":\"Hobo-Packets-2181856\",\"smallImageUrls\":[\"https://lh3.googleusercontent.com/sBebPkUY9x3wPCqBHxkStabzFO9D-pIYyHz7eOEg3sBY158ldLk\n",
      "RvF3kHQ5MwF2bOdic9BOzsRcUkxjn1-uxEQ=s90\"],\"recipeName\":\"Hobo Packets\",\"totalTimeInSeconds\":5100,\"attributes\":{\"course\":[\"Main Di\n",
      "shes\"]},\"flavors\":null,\"rating\":4},{\"imageUrlsBySize\":{\"90\":\"https://lh3.googleusercontent.com/mAPwuRClQNJ6kEHlOgVpEJx1099vSNvYu\n",
      "nFmIlilihzWVqaCxS2Dbh82wB9lSoP-yswokB6HYODsI9o7yVldzQ=s90-c\"},\"sourceDisplayName\":\"The Whole Cook\",\"ingredients\":[\"lean ground b\n",
      "eef\",\"yellow onion\",\"beef broth\",\"medium potatoes\",\"medium carrot\",\"frozen green beans\",\"diced tomatoes\",\"tomato paste\",\"garlic\"\n",
      ",\"thyme\",\"oregano\",\"salt\",\"onion powder\",\"black pepper\",\"chopped parsley\"],\"id\":\"Healthy-30-Minute-Hamburger-Soup-2228540\",\"smal\n",
      "lImageUrls\":[\"https://lh3.googleusercontent.com/j9buOr_lJUw6Rf2kfb98MpwrMAa0xaEcsWfShV6wD-xS7De8lj07iSIORuO_hKRMcXQpwf6jsbuXFLvH\n",
      "Vkwe8EU=s90\"],\"recipeName\":\"Healthy 30 Minute Hamburger Soup\",\"totalTimeInSeconds\":1800,\"attributes\":{\"course\":[\"Soups\"]},\"flavo\n",
      "rs\":{\"piquant\":0.0,\"meaty\":0.16666666666666666,\"bitter\":0.5,\"sweet\":0.16666666666666666,\"sour\":0.5,\"salty\":0.6666666666666666},\"\n",
      "rating\":4},{\"imageUrlsBySize\":{\"90\":\"https://lh3.googleusercontent.com/qnlZ6YtTRtmfaTLX-VTCtr_uVd887wR881Mch0NGhIW6WJ4XxbpLWXUuT\n",
      "27F5piMZ_aK2jnFSHjtI5ylq0tM=s90-c\"},\"sourceDisplayName\":\"Southern Bite\",\"ingredients\":[\"butter\",\"carrots\",\"celery ribs\",\"onions\"\n",
      ",\"garlic cloves\",\"chicken stock\",\"cheese tortellini\"],\"id\":\"30-Minute-Cheese-Tortellini-Soup-1906378\",\"smallImageUrls\":[\"https:/\n",
      "/lh3.googleusercontent.com/lsnHTLcowd5oTxUWSMfoXOMmjrbGNWpIN3F1x_yRVtBCj2vofauXChI30EMmVyIlkKTyiTNREM6iTg1gvO2Gug=s90\"],\"recipeN\n",
      "ame\":\"30-Minute Cheese Tortellini Soup\",\"totalTimeInSeconds\":1800,\"attributes\":{\"course\":[\"Soups\"]},\"flavors\":{\"piquant\":0.0,\"me\n",
      "aty\":0.16666666666666666,\"bitter\":0.16666666666666666,\"sweet\":0.16666666666666666,\"sour\":0.16666666666666666,\"salty\":0.333333333\n",
      "3333333},\"rating\":4},{\"imageUrlsBySize\":{\"90\":\"https://lh3.googleusercontent.com/ygWK1wdC-bjovw_aeLdcDHk879QwhUerQ9NMTCM_z8sJgrl\n",
      "1XoCXL_lz_39Btjg4mY2VnypHLXtf3uWF2_1Dig=s90-c\"},\"sourceDisplayName\":\"Sweet Somethings\",\"ingredients\":[\"bone-in skin-on chicken t\n",
      "highs\",\"baby potatoes\",\"baby carrots\",\"olive oil\",\"salt\",\"pepper\"],\"id\":\"Quick-and-Easy-4-Ingredient-Dinner-1558225\",\"smallImage\n",
      "Urls\":[\"https://lh3.googleusercontent.com/DbHQBf0uR1OQkJlF_s1D7E04lip5HOf3k_Gzs6TdFt5WZ96qUWhsghCcE5fTDjUC1odvrHmP4GwgGkxrQRM8NQ\n",
      "=s90\"],\"recipeName\":\"Quick and Easy 4 Ingredient Dinner\",\"totalTimeInSeconds\":4500,\"attributes\":{\"course\":[\"Main Dishes\"]},\"flav\n",
      "ors\":{\"piquant\":0.0,\"meaty\":0.5,\"bitter\":0.16666666666666666,\"sweet\":0.16666666666666666,\"sour\":0.5,\"salty\":0.16666666666666666}\n",
      ",\"rating\":4},{\"imageUrlsBySize\":{\"90\":\"https://lh3.googleusercontent.com/iEXAVSqdI2SNJi3nbB7ogMOWyd7_XukmVKTmLx1Lt9ETDMbaSimIPgL\n",
      "vTAT_YzulCLfZ6gXEIb9KnAZbTHmvXA=s90-c\"},\"sourceDisplayName\":\"Sweetphi\",\"ingredients\":[\"red lentils\",\"large carrots\",\"red bell pe\n",
      "pper\",\"celery ribs\",\"kale\",\"russet potatoes\",\"jalapeno chilies\",\"garlic cloves\",\"onions\",\"salt\",\"parsley\",\"paprika\",\"oregano\",\"g\n",
      "arlic salt\",\"cayenne pepper\",\"vegetable stock\"],\"id\":\"Healthy-Slow-Cooker-Lentil-and-Vegetable-Soup-1985182\",\"smallImageUrls\":[\"\n",
      "https://lh3.googleusercontent.com/T360gBRdy-FU-wrowww1LcoCvDsICdN4iIbcScREa5YbJL2-JDgr0VacgiJ1bWZVra_CwM3aZmLQFaHOrKsSjg=s90\"],\"\n",
      "recipeName\":\"Healthy Slow Cooker Lentil and Vegetable Soup\",\"totalTimeInSeconds\":18900,\"attributes\":{\"course\":[\"Soups\"]},\"flavor\n",
      "s\":{\"piquant\":0.6666666666666666,\"meaty\":0.16666666666666666,\"bitter\":0.3333333333333333,\"sweet\":0.16666666666666666,\"sour\":0.5,\n",
      "\"salty\":0.6666666666666666},\"rating\":4},{\"imageUrlsBySize\":{\"90\":\"https://lh3.googleusercontent.com/WLwLoky-B7OQfXpLktKNpGyHZSVt\n",
      "NHM1vBDWD3TJnJ9o60YsQacCHYugusLgM_OOzfxpvVvW3gpoYL6eXaQUTw=s90-c\"},\"sourceDisplayName\":\"Hamilton Beach\",\"ingredients\":[\"pot roas\n",
      "t\",\"salt\",\"pepper\",\"medium potatoes\",\"carrots\",\"onions\",\"beef broth\"],\"id\":\"Slow-Cooker-Beef-Pot-Roast-1504294\",\"smallImageUrls\"\n",
      ":[\"https://lh3.googleusercontent.com/hsYU2vD0gdWsQF-oY9elEcA7qaWRaazX-b8aPDEujEw1o6E2Q3GbSbPJQL1QGRs5ydTrRHfbQ_aBtVIVJk13=s90\"],\n",
      "\"recipeName\":\"Slow Cooker Beef Pot Roast\",\"totalTimeInSeconds\":900,\"attributes\":{\"course\":[\"Main Dishes\"],\"holiday\":[\"Sunday Lun\n",
      "ch\"]},\"flavors\":{\"piquant\":0.0,\"meaty\":0.8333333333333334,\"bitter\":0.6666666666666666,\"sweet\":0.16666666666666666,\"sour\":0.66666\n",
      "66666666666,\"salty\":0.3333333333333333},\"rating\":4}],\"facetCounts\":{},\"totalMatchCount\":76634,\"attribution\":{\"html\":\"Recipe sear\n",
      "ch powered by <a href='http://www.yummly.co/recipes'><img alt='Yummly' src='https://static.yummly.co/api-logo.png'/></a>\",\"url\":\n",
      "\"http://www.yummly.co/recipes/\",\"text\":\"Recipe search powered by Yummly\",\"logo\":\"https://static.yummly.co/api-logo.png\"}}\n"
     ]
    }
   ],
   "source": [
    "ingredients = requests.get(\"http://api.yummly.com/v1/api/recipes?_app_id=2b082bfe&_app_key=905dfe0267500a98d67737f446479c11&allowedIngredient[]=carrot&requirePictures=true\")\n",
    "for dish in ingredients:\n",
    "     print dish\n",
    "\n",
    "#toegevoegde parameter: &q=falafel en &requirePictures=true voor de picca's "
   ]
  },
  {
   "cell_type": "code",
   "execution_count": 61,
   "metadata": {
    "collapsed": false
   },
   "outputs": [],
   "source": [
    "AsianQuisine = requests.get(\"http://api.yummly.com/v1/api/recipes?_app_id=2b082bfe&_app_key=905dfe0267500a98d67737f446479c11&allowedCuisine[]=cuisine^cuisine-hongarian\")\n",
    "# for dishes in AsianQuisine:\n",
    "#     print dishes\n",
    "\n",
    "#toegevoegde parameter: &allowedCuisine[]=cuisine^cuisine-asian"
   ]
  },
  {
   "cell_type": "code",
   "execution_count": 26,
   "metadata": {
    "collapsed": false
   },
   "outputs": [],
   "source": [
    "twenty_minutes = requests.get(\"http://api.yummly.com/v1/api/recipes?_app_id=2b082bfe&_app_key=905dfe0267500a98d67737f446479c11&maxTotalTimeInSeconds=1200\")\n",
    "# for dish in twenty_minutes:\n",
    "#     print dish\n",
    "    \n",
    "#toegevoegde parameter: &maxTotalTimeInSeconds=1200"
   ]
  },
  {
   "cell_type": "code",
   "execution_count": 38,
   "metadata": {
    "collapsed": false
   },
   "outputs": [],
   "source": [
    "no_sugar = requests.get(\"http://api.yummly.com/v1/api/recipes?_app_id=2b082bfe&_app_key=905dfe0267500a98d67737f446479c11&nutrition.SUGAR.max=0\")\n",
    "# for dish in no_sugar:\n",
    "#     print dish\n",
    "\n",
    "#toegeovoegde parameter: &nutrition.SUGAR.max=0"
   ]
  },
  {
   "cell_type": "code",
   "execution_count": 52,
   "metadata": {
    "collapsed": true
   },
   "outputs": [],
   "source": [
    "basis_recipe_search = requests.get(\"http://api.yummly.com/v1/api/recipe/?_app_id=2b082bfe&_app_key=905dfe0267500a98d67737f446479c11\")\n",
    "# hier gaat het een beetje anders, we zoeken hier namelijk op recept en niet op criteria. \n",
    "# na het woordje recipe voeg je de naam van het recept toe"
   ]
  },
  {
   "cell_type": "code",
   "execution_count": 59,
   "metadata": {
    "collapsed": false
   },
   "outputs": [],
   "source": [
    "OnionSoup = requests.get(\"http://api.yummly.com/v1/api/recipe/French-Onion-Soup-The-Pioneer-Woman-Cooks-_-Ree-Drummond-41364?_app_id=2b082bfe&_app_key=905dfe0267500a98d67737f446479c11\")\n",
    "# for content in OnionSoup:\n",
    "#     print content\n",
    "    \n",
    "# hier is gezocht op: French-Onion-Soup-The-Pioneer-Woman-Cooks-_-Ree-Drummond-41364"
   ]
  },
  {
   "cell_type": "code",
   "execution_count": null,
   "metadata": {
    "collapsed": true
   },
   "outputs": [],
   "source": []
  }
 ],
 "metadata": {
  "anaconda-cloud": {},
  "kernelspec": {
   "display_name": "Python [Root]",
   "language": "python",
   "name": "Python [Root]"
  },
  "language_info": {
   "codemirror_mode": {
    "name": "ipython",
    "version": 2
   },
   "file_extension": ".py",
   "mimetype": "text/x-python",
   "name": "python",
   "nbconvert_exporter": "python",
   "pygments_lexer": "ipython2",
   "version": "2.7.12"
  }
 },
 "nbformat": 4,
 "nbformat_minor": 0
}
